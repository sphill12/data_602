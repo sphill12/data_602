{
 "cells": [
  {
   "cell_type": "markdown",
   "metadata": {},
   "source": [
    "## Final Project:\n",
    "### Stephen Phillips\n",
    "\n",
    "\n",
    "\n"
   ]
  },
  {
   "cell_type": "markdown",
   "metadata": {},
   "source": [
    "## Abstract:\n",
    "\n",
    "The first motion picture ever created was in 1878, titled \"The Horse in Motion\", it was made in an attempt to prove whether or not horses galloped with all four hooves off of the ground. Since then, cinema has developed into an important platform for entertainment, expression, and thought provocation. My project has taken all data from IMDB on movies and actors and attempted to identify trends in movies and actors over the years using SQL and python. I believe that this is relevant to film producers, directors, and studios as it can aid in producing a profitable motion picture. By looking at trends, we can identify what elements of movies are popular, which are becoming popular, and which are losing favor with the general public. After analyzing data gathered by IMDB, various conclusions about motion pictures could be made. The average length of movies has grown over the years. The shortness of movies was initially due to technological limitations, but a change in preferences of consumers forced movies to become longer. Recently, technology has allowed for easier production of cinematic pieces, causing a huge influx in motion pictures since the 2000's. Other conclusions are that motion picture reviewers have given higher average ratings as time has passed, before plateuing in the mid 1920s. The most popular type of motion pictures in production historically have been comedies and dramas. If film producers are looking to produce a movie that will on average be rated highly, they should work on a documentary or something historical. If they want to create something that has high \"engagement\" then the optimal choices are a sci-fi, thriller, or biographical piece. The most volatile movie that a producer can make is a horror film. If a producer is looking for a specific medium to work on, television shows tend to have higher ratings than movies will. "
   ]
  },
  {
   "cell_type": "markdown",
   "metadata": {},
   "source": [
    "## Introduction:\n",
    "\n",
    "My practical goals with this project was to successfully create a database using a large data set and analyze it using the tools that we have gained this semester. As my data set is the entirety of public data available from IMDB, I will be looking for underlying trends in movies/shows.More specifically, my goal is to look at trends over time with motion pictures, and interesting demographic information, such as most popular genres and actors. While I would like to use this data to help potential film maker/actors make more informed decisions about the motion pictures they choose to create, I will be satisfied by simply identifying cool trends/information. The data that I analyzed was collected from: https://developer.imdb.com/non-commercial-datasets/. Unfortunately, I don't have access to financial data about the motion pictures included in this dataset. After my analyis, I hope to identify future directions in which analyis could head towards. "
   ]
  },
  {
   "cell_type": "markdown",
   "metadata": {},
   "source": [
    "## Data Wrangling/ EDA:\n",
    "\n",
    "As the data wrangling and EDA are done together, I have decided to combine this section. Since data was placed into a mySQL database before it was analyzed, much of the data wrangling was done in SQL. This required taking the raw data files and inserting them into mySQL, as well as creating a relational database. After creating a relational database, views were created that combined certain information from tables together. Other manipulations done with mySQL include shifting a table into a longer format so that it could be analyzed easier. The SQL Queries for this can be seen below:"
   ]
  },
  {
   "cell_type": "markdown",
   "metadata": {},
   "source": [
    "Now for the rest of the data wrangling, the data must be queried and placed into a dataframe. Below are the packages that are used to in my analysis:"
   ]
  },
  {
   "cell_type": "code",
   "execution_count": 311,
   "metadata": {},
   "outputs": [],
   "source": [
    "import mysql.connector\n",
    "from mysql.connector.plugins import caching_sha2_password\n",
    "from getpass import getpass\n",
    "import pandas as pd\n",
    "import plotly.express as px\n",
    "import seaborn as sns\n",
    "import matplotlib.pyplot as plt\n",
    "from IPython.display import Image\n",
    "from IPython.core.display import HTML\n",
    "from collections import Counter\n"
   ]
  },
  {
   "cell_type": "markdown",
   "metadata": {},
   "source": [
    "Query Our Server:"
   ]
  },
  {
   "cell_type": "code",
   "execution_count": 312,
   "metadata": {},
   "outputs": [
    {
     "name": "stdout",
     "output_type": "stream",
     "text": [
      "<mysql.connector.connection_cext.CMySQLConnection object at 0x00000253FE38F050>\n"
     ]
    }
   ],
   "source": [
    "## We can load the imdb database from our SQL Server.The database names are \"names\", \"title_basic\", \"title_crew\", \"title_episode\", \"title_ratings\"\n",
    "mydb  = mysql.connector.connect(\n",
    "    host = \"localhost\",\n",
    "     auth_plugin = \"mysql_native_password\",\n",
    "    user = \"root\",\n",
    "    database = \"imdb\",\n",
    "    passwd = getpass()\n",
    ")\n",
    "\n",
    "print(mydb)"
   ]
  },
  {
   "cell_type": "code",
   "execution_count": 313,
   "metadata": {},
   "outputs": [],
   "source": [
    "mycursor = mydb.cursor()"
   ]
  },
  {
   "cell_type": "markdown",
   "metadata": {},
   "source": [
    "We will select the \"full_movies\" view that combines two tables of motion picture information"
   ]
  },
  {
   "cell_type": "code",
   "execution_count": 314,
   "metadata": {},
   "outputs": [],
   "source": [
    "sql = \"\"\"\n",
    "SELECT * \n",
    "FROM imdb.full_movies\n",
    "\"\"\""
   ]
  },
  {
   "cell_type": "code",
   "execution_count": 315,
   "metadata": {},
   "outputs": [],
   "source": [
    "mycursor.execute(sql)\n",
    "myresult = mycursor.fetchall()\n",
    "field_names = [i[0] for i in mycursor.description]"
   ]
  },
  {
   "cell_type": "code",
   "execution_count": 316,
   "metadata": {},
   "outputs": [
    {
     "data": {
      "text/html": [
       "<div>\n",
       "<style scoped>\n",
       "    .dataframe tbody tr th:only-of-type {\n",
       "        vertical-align: middle;\n",
       "    }\n",
       "\n",
       "    .dataframe tbody tr th {\n",
       "        vertical-align: top;\n",
       "    }\n",
       "\n",
       "    .dataframe thead th {\n",
       "        text-align: right;\n",
       "    }\n",
       "</style>\n",
       "<table border=\"1\" class=\"dataframe\">\n",
       "  <thead>\n",
       "    <tr style=\"text-align: right;\">\n",
       "      <th></th>\n",
       "      <th>titleID</th>\n",
       "      <th>type</th>\n",
       "      <th>primary_title</th>\n",
       "      <th>is_adult</th>\n",
       "      <th>start_year</th>\n",
       "      <th>end_year</th>\n",
       "      <th>run_time</th>\n",
       "      <th>genres</th>\n",
       "      <th>rating</th>\n",
       "      <th>num_votes</th>\n",
       "    </tr>\n",
       "  </thead>\n",
       "  <tbody>\n",
       "    <tr>\n",
       "      <th>0</th>\n",
       "      <td>tt0000001</td>\n",
       "      <td>short</td>\n",
       "      <td>Carmencita</td>\n",
       "      <td>0</td>\n",
       "      <td>1894.0</td>\n",
       "      <td>NaN</td>\n",
       "      <td>1.0</td>\n",
       "      <td>Documentary,Short</td>\n",
       "      <td>5.7</td>\n",
       "      <td>2041</td>\n",
       "    </tr>\n",
       "    <tr>\n",
       "      <th>1</th>\n",
       "      <td>tt0000002</td>\n",
       "      <td>short</td>\n",
       "      <td>Le clown et ses chiens</td>\n",
       "      <td>0</td>\n",
       "      <td>1892.0</td>\n",
       "      <td>NaN</td>\n",
       "      <td>5.0</td>\n",
       "      <td>Animation,Short</td>\n",
       "      <td>5.7</td>\n",
       "      <td>273</td>\n",
       "    </tr>\n",
       "    <tr>\n",
       "      <th>2</th>\n",
       "      <td>tt0000003</td>\n",
       "      <td>short</td>\n",
       "      <td>Pauvre Pierrot</td>\n",
       "      <td>0</td>\n",
       "      <td>1892.0</td>\n",
       "      <td>NaN</td>\n",
       "      <td>4.0</td>\n",
       "      <td>Animation,Comedy,Romance</td>\n",
       "      <td>6.5</td>\n",
       "      <td>1997</td>\n",
       "    </tr>\n",
       "    <tr>\n",
       "      <th>3</th>\n",
       "      <td>tt0000004</td>\n",
       "      <td>short</td>\n",
       "      <td>Un bon bock</td>\n",
       "      <td>0</td>\n",
       "      <td>1892.0</td>\n",
       "      <td>NaN</td>\n",
       "      <td>12.0</td>\n",
       "      <td>Animation,Short</td>\n",
       "      <td>5.4</td>\n",
       "      <td>178</td>\n",
       "    </tr>\n",
       "    <tr>\n",
       "      <th>4</th>\n",
       "      <td>tt0000005</td>\n",
       "      <td>short</td>\n",
       "      <td>Blacksmith Scene</td>\n",
       "      <td>0</td>\n",
       "      <td>1893.0</td>\n",
       "      <td>NaN</td>\n",
       "      <td>1.0</td>\n",
       "      <td>Comedy,Short</td>\n",
       "      <td>6.2</td>\n",
       "      <td>2757</td>\n",
       "    </tr>\n",
       "  </tbody>\n",
       "</table>\n",
       "</div>"
      ],
      "text/plain": [
       "     titleID   type           primary_title  is_adult  start_year  end_year  \\\n",
       "0  tt0000001  short              Carmencita         0      1894.0       NaN   \n",
       "1  tt0000002  short  Le clown et ses chiens         0      1892.0       NaN   \n",
       "2  tt0000003  short          Pauvre Pierrot         0      1892.0       NaN   \n",
       "3  tt0000004  short             Un bon bock         0      1892.0       NaN   \n",
       "4  tt0000005  short        Blacksmith Scene         0      1893.0       NaN   \n",
       "\n",
       "   run_time                    genres  rating  num_votes  \n",
       "0       1.0         Documentary,Short     5.7       2041  \n",
       "1       5.0           Animation,Short     5.7        273  \n",
       "2       4.0  Animation,Comedy,Romance     6.5       1997  \n",
       "3      12.0           Animation,Short     5.4        178  \n",
       "4       1.0              Comedy,Short     6.2       2757  "
      ]
     },
     "execution_count": 316,
     "metadata": {},
     "output_type": "execute_result"
    }
   ],
   "source": [
    "df = pd.DataFrame(myresult)\n",
    "df.columns = field_names\n",
    "df.head()\n"
   ]
  },
  {
   "cell_type": "code",
   "execution_count": 317,
   "metadata": {},
   "outputs": [
    {
     "data": {
      "text/plain": [
       "(1424444, 10)"
      ]
     },
     "execution_count": 317,
     "metadata": {},
     "output_type": "execute_result"
    }
   ],
   "source": [
    "df.shape"
   ]
  },
  {
   "cell_type": "markdown",
   "metadata": {},
   "source": [
    "There are 10 columns and about 1,420,000"
   ]
  },
  {
   "cell_type": "markdown",
   "metadata": {},
   "source": [
    "We can look at the missing values in each column:\n",
    "\n"
   ]
  },
  {
   "cell_type": "code",
   "execution_count": 318,
   "metadata": {},
   "outputs": [
    {
     "data": {
      "text/plain": [
       "titleID                0\n",
       "type                   0\n",
       "primary_title          0\n",
       "is_adult               0\n",
       "start_year           238\n",
       "end_year         1371142\n",
       "run_time          417060\n",
       "genres             20466\n",
       "rating                 0\n",
       "num_votes              0\n",
       "dtype: int64"
      ]
     },
     "execution_count": 318,
     "metadata": {},
     "output_type": "execute_result"
    }
   ],
   "source": [
    "df.isnull().sum(axis = 0)"
   ]
  },
  {
   "cell_type": "markdown",
   "metadata": {},
   "source": [
    "It looks as though there are missing values only in the columns: start_year,end_year, run_time, and genres. We will not be trying to impute the missing data, we will simply leave it as is, or remove it if it hinders analysis. Because we will need a data frame for the actors as well, we will query this too:"
   ]
  },
  {
   "cell_type": "code",
   "execution_count": 319,
   "metadata": {},
   "outputs": [],
   "source": [
    "sql = \"\"\"\n",
    "SELECT * \n",
    "FROM imdb.actor_movies\n",
    "\"\"\""
   ]
  },
  {
   "cell_type": "code",
   "execution_count": 320,
   "metadata": {},
   "outputs": [],
   "source": [
    "mycursor.execute(sql)\n",
    "myresult = mycursor.fetchall()\n",
    "field_names = [i[0] for i in mycursor.description]"
   ]
  },
  {
   "cell_type": "code",
   "execution_count": 321,
   "metadata": {},
   "outputs": [
    {
     "data": {
      "text/html": [
       "<div>\n",
       "<style scoped>\n",
       "    .dataframe tbody tr th:only-of-type {\n",
       "        vertical-align: middle;\n",
       "    }\n",
       "\n",
       "    .dataframe tbody tr th {\n",
       "        vertical-align: top;\n",
       "    }\n",
       "\n",
       "    .dataframe thead th {\n",
       "        text-align: right;\n",
       "    }\n",
       "</style>\n",
       "<table border=\"1\" class=\"dataframe\">\n",
       "  <thead>\n",
       "    <tr style=\"text-align: right;\">\n",
       "      <th></th>\n",
       "      <th>nameID</th>\n",
       "      <th>name</th>\n",
       "      <th>profession</th>\n",
       "      <th>movie_id</th>\n",
       "    </tr>\n",
       "  </thead>\n",
       "  <tbody>\n",
       "    <tr>\n",
       "      <th>0</th>\n",
       "      <td>nm0000001</td>\n",
       "      <td>Fred Astaire</td>\n",
       "      <td>actor,miscellaneous,producer</td>\n",
       "      <td>tt0072308</td>\n",
       "    </tr>\n",
       "    <tr>\n",
       "      <th>1</th>\n",
       "      <td>nm0000002</td>\n",
       "      <td>Lauren Bacall</td>\n",
       "      <td>actress,soundtrack,archive_footage</td>\n",
       "      <td>tt0037382</td>\n",
       "    </tr>\n",
       "    <tr>\n",
       "      <th>2</th>\n",
       "      <td>nm0000003</td>\n",
       "      <td>Brigitte Bardot</td>\n",
       "      <td>actress,music_department,producer</td>\n",
       "      <td>tt0057345</td>\n",
       "    </tr>\n",
       "    <tr>\n",
       "      <th>3</th>\n",
       "      <td>nm0000004</td>\n",
       "      <td>John Belushi</td>\n",
       "      <td>actor,writer,music_department</td>\n",
       "      <td>tt0072562</td>\n",
       "    </tr>\n",
       "    <tr>\n",
       "      <th>4</th>\n",
       "      <td>nm0000005</td>\n",
       "      <td>Ingmar Bergman</td>\n",
       "      <td>writer,director,actor</td>\n",
       "      <td>tt0050986</td>\n",
       "    </tr>\n",
       "  </tbody>\n",
       "</table>\n",
       "</div>"
      ],
      "text/plain": [
       "      nameID             name                          profession   movie_id\n",
       "0  nm0000001     Fred Astaire        actor,miscellaneous,producer  tt0072308\n",
       "1  nm0000002    Lauren Bacall  actress,soundtrack,archive_footage  tt0037382\n",
       "2  nm0000003  Brigitte Bardot   actress,music_department,producer  tt0057345\n",
       "3  nm0000004     John Belushi       actor,writer,music_department  tt0072562\n",
       "4  nm0000005   Ingmar Bergman               writer,director,actor  tt0050986"
      ]
     },
     "execution_count": 321,
     "metadata": {},
     "output_type": "execute_result"
    }
   ],
   "source": [
    "df2 = pd.DataFrame(myresult)\n",
    "df2.columns = field_names\n",
    "df2.head()\n"
   ]
  },
  {
   "cell_type": "code",
   "execution_count": 322,
   "metadata": {},
   "outputs": [
    {
     "data": {
      "text/plain": [
       "(23508654, 4)"
      ]
     },
     "execution_count": 322,
     "metadata": {},
     "output_type": "execute_result"
    }
   ],
   "source": [
    "df2.shape"
   ]
  },
  {
   "cell_type": "markdown",
   "metadata": {},
   "source": [
    "We have 4 columns and about 23,500,000 values."
   ]
  },
  {
   "cell_type": "code",
   "execution_count": 323,
   "metadata": {},
   "outputs": [
    {
     "data": {
      "text/plain": [
       "nameID              0\n",
       "name           277154\n",
       "profession    2662923\n",
       "movie_id      1472425\n",
       "dtype: int64"
      ]
     },
     "execution_count": 323,
     "metadata": {},
     "output_type": "execute_result"
    }
   ],
   "source": [
    "df2.isnull().sum(axis = 0)"
   ]
  },
  {
   "cell_type": "markdown",
   "metadata": {},
   "source": [
    "For this, we have many values that are missing from our data in the name, profession, and movie_id column. We should consider dropping the columns that don't contain a name."
   ]
  },
  {
   "cell_type": "markdown",
   "metadata": {},
   "source": [
    "## Data Analysis:\n",
    "\n"
   ]
  },
  {
   "cell_type": "markdown",
   "metadata": {},
   "source": [
    "### Cinema Over Time:\n",
    "We can group our motion pictures by year and look at how the average stats have changed over the years:"
   ]
  },
  {
   "cell_type": "code",
   "execution_count": 324,
   "metadata": {},
   "outputs": [
    {
     "data": {
      "text/html": [
       "<div>\n",
       "<style scoped>\n",
       "    .dataframe tbody tr th:only-of-type {\n",
       "        vertical-align: middle;\n",
       "    }\n",
       "\n",
       "    .dataframe tbody tr th {\n",
       "        vertical-align: top;\n",
       "    }\n",
       "\n",
       "    .dataframe thead th {\n",
       "        text-align: right;\n",
       "    }\n",
       "</style>\n",
       "<table border=\"1\" class=\"dataframe\">\n",
       "  <thead>\n",
       "    <tr style=\"text-align: right;\">\n",
       "      <th></th>\n",
       "      <th>year</th>\n",
       "      <th>rating</th>\n",
       "      <th>run_time</th>\n",
       "      <th>num_votes</th>\n",
       "    </tr>\n",
       "  </thead>\n",
       "  <tbody>\n",
       "    <tr>\n",
       "      <th>0</th>\n",
       "      <td>1874</td>\n",
       "      <td>6.800000</td>\n",
       "      <td>1.000000</td>\n",
       "      <td>2067</td>\n",
       "    </tr>\n",
       "    <tr>\n",
       "      <th>1</th>\n",
       "      <td>1877</td>\n",
       "      <td>5.475000</td>\n",
       "      <td>1.000000</td>\n",
       "      <td>192</td>\n",
       "    </tr>\n",
       "    <tr>\n",
       "      <th>2</th>\n",
       "      <td>1878</td>\n",
       "      <td>6.200000</td>\n",
       "      <td>1.000000</td>\n",
       "      <td>1370</td>\n",
       "    </tr>\n",
       "    <tr>\n",
       "      <th>3</th>\n",
       "      <td>1881</td>\n",
       "      <td>5.600000</td>\n",
       "      <td>1.000000</td>\n",
       "      <td>405</td>\n",
       "    </tr>\n",
       "    <tr>\n",
       "      <th>4</th>\n",
       "      <td>1882</td>\n",
       "      <td>5.650000</td>\n",
       "      <td>1.000000</td>\n",
       "      <td>255</td>\n",
       "    </tr>\n",
       "    <tr>\n",
       "      <th>...</th>\n",
       "      <td>...</td>\n",
       "      <td>...</td>\n",
       "      <td>...</td>\n",
       "      <td>...</td>\n",
       "    </tr>\n",
       "    <tr>\n",
       "      <th>141</th>\n",
       "      <td>2021</td>\n",
       "      <td>7.125528</td>\n",
       "      <td>56.249040</td>\n",
       "      <td>756</td>\n",
       "    </tr>\n",
       "    <tr>\n",
       "      <th>142</th>\n",
       "      <td>2022</td>\n",
       "      <td>7.220862</td>\n",
       "      <td>60.472735</td>\n",
       "      <td>771</td>\n",
       "    </tr>\n",
       "    <tr>\n",
       "      <th>143</th>\n",
       "      <td>2023</td>\n",
       "      <td>7.299014</td>\n",
       "      <td>63.614602</td>\n",
       "      <td>637</td>\n",
       "    </tr>\n",
       "    <tr>\n",
       "      <th>144</th>\n",
       "      <td>2024</td>\n",
       "      <td>7.491793</td>\n",
       "      <td>66.944960</td>\n",
       "      <td>368</td>\n",
       "    </tr>\n",
       "    <tr>\n",
       "      <th>145</th>\n",
       "      <td>2025</td>\n",
       "      <td>7.400000</td>\n",
       "      <td>NaN</td>\n",
       "      <td>8</td>\n",
       "    </tr>\n",
       "  </tbody>\n",
       "</table>\n",
       "<p>146 rows × 4 columns</p>\n",
       "</div>"
      ],
      "text/plain": [
       "     year    rating   run_time  num_votes\n",
       "0    1874  6.800000   1.000000       2067\n",
       "1    1877  5.475000   1.000000        192\n",
       "2    1878  6.200000   1.000000       1370\n",
       "3    1881  5.600000   1.000000        405\n",
       "4    1882  5.650000   1.000000        255\n",
       "..    ...       ...        ...        ...\n",
       "141  2021  7.125528  56.249040        756\n",
       "142  2022  7.220862  60.472735        771\n",
       "143  2023  7.299014  63.614602        637\n",
       "144  2024  7.491793  66.944960        368\n",
       "145  2025  7.400000        NaN          8\n",
       "\n",
       "[146 rows x 4 columns]"
      ]
     },
     "execution_count": 324,
     "metadata": {},
     "output_type": "execute_result"
    }
   ],
   "source": [
    "result = df.groupby(by = [\"start_year\"])[[\"rating\",\"run_time\", \"num_votes\"]].mean()\n",
    "result = result.reset_index()\n",
    "result.columns = [\"year\", \"rating\", \"run_time\", \"num_votes\"]\n",
    "result[\"year\"] = result[\"year\"].astype(int)\n",
    "result[\"num_votes\"] = result[\"num_votes\"].astype(int)\n",
    "result"
   ]
  },
  {
   "cell_type": "markdown",
   "metadata": {},
   "source": [
    "Now we can plot how the average rating of movies has trended historically:"
   ]
  },
  {
   "cell_type": "code",
   "execution_count": 325,
   "metadata": {},
   "outputs": [
    {
     "data": {
      "application/vnd.plotly.v1+json": {
       "config": {
        "plotlyServerURL": "https://plot.ly"
       },
       "data": [
        {
         "hovertemplate": "year=%{x}<br>rating=%{y}<extra></extra>",
         "legendgroup": "",
         "line": {
          "color": "#636efa",
          "dash": "solid"
         },
         "marker": {
          "symbol": "circle"
         },
         "mode": "lines",
         "name": "",
         "orientation": "v",
         "showlegend": false,
         "type": "scatter",
         "x": [
          1874,
          1877,
          1878,
          1881,
          1882,
          1883,
          1885,
          1887,
          1888,
          1889,
          1890,
          1891,
          1892,
          1893,
          1894,
          1895,
          1896,
          1897,
          1898,
          1899,
          1900,
          1901,
          1902,
          1903,
          1904,
          1905,
          1906,
          1907,
          1908,
          1909,
          1910,
          1911,
          1912,
          1913,
          1914,
          1915,
          1916,
          1917,
          1918,
          1919,
          1920,
          1921,
          1922,
          1923,
          1924,
          1925,
          1926,
          1927,
          1928,
          1929,
          1930,
          1931,
          1932,
          1933,
          1934,
          1935,
          1936,
          1937,
          1938,
          1939,
          1940,
          1941,
          1942,
          1943,
          1944,
          1945,
          1946,
          1947,
          1948,
          1949,
          1950,
          1951,
          1952,
          1953,
          1954,
          1955,
          1956,
          1957,
          1958,
          1959,
          1960,
          1961,
          1962,
          1963,
          1964,
          1965,
          1966,
          1967,
          1968,
          1969,
          1970,
          1971,
          1972,
          1973,
          1974,
          1975,
          1976,
          1977,
          1978,
          1979,
          1980,
          1981,
          1982,
          1983,
          1984,
          1985,
          1986,
          1987,
          1988,
          1989,
          1990,
          1991,
          1992,
          1993,
          1994,
          1995,
          1996,
          1997,
          1998,
          1999,
          2000,
          2001,
          2002,
          2003,
          2004,
          2005,
          2006,
          2007,
          2008,
          2009,
          2010,
          2011,
          2012,
          2013,
          2014,
          2015,
          2016,
          2017,
          2018,
          2019,
          2020,
          2021,
          2022,
          2023,
          2024,
          2025
         ],
         "xaxis": "x",
         "y": [
          6.8,
          5.475,
          6.2,
          5.6,
          5.65,
          6.2,
          5.3,
          4.837777777777777,
          6.12,
          5.05,
          4.928571428571429,
          4.529999999999999,
          4.975,
          4.925,
          4.492783505154639,
          4.383333333333333,
          4.638778409090909,
          4.428236914600551,
          4.567840375586854,
          4.7525641025641026,
          4.9649230769230766,
          5.031349206349207,
          4.996428571428572,
          4.797938144329897,
          4.846323529411765,
          4.978540772532189,
          4.995667870036101,
          5.240304182509506,
          5.295307917888564,
          5.259183673469387,
          5.378738317757009,
          5.368665377176015,
          5.434735202492211,
          5.492337917485265,
          5.695905172413793,
          5.683152173913044,
          5.755984555984556,
          5.719960474308301,
          5.851769911504425,
          5.879661016949152,
          5.776180698151951,
          6.005052631578947,
          5.9374207188160675,
          5.996022727272727,
          6.073062730627306,
          6.019819819819819,
          5.937086092715232,
          6.006508135168961,
          5.946511627906977,
          5.944516129032258,
          5.942709313264347,
          6.0422464375523885,
          6.096533534287867,
          6.014847512038523,
          5.990275761973876,
          6.045556333100071,
          6.0693657219973005,
          6.099730094466936,
          6.100992063492064,
          6.166009852216749,
          6.166572438162545,
          6.123344947735192,
          6.146349862258953,
          6.183034379671151,
          6.1779119930974975,
          6.1846812559467175,
          6.274325500435161,
          6.286949293433084,
          6.323279195668987,
          6.290250329380765,
          6.36356981981982,
          6.418942065491184,
          6.5470434782608695,
          6.661614623000762,
          6.70940332326284,
          6.8053214395570585,
          6.793753753753754,
          6.835671883432272,
          6.917334644701254,
          6.959222246361069,
          6.983483422022105,
          6.964250714577378,
          6.952024155669872,
          6.88996632996633,
          6.872389189189189,
          6.815666041275797,
          6.854767857142857,
          6.807374131208679,
          6.783820103924028,
          6.784023668639053,
          6.71278118609407,
          6.5955924733005595,
          6.647998676811115,
          6.6662175015852885,
          6.717990275526742,
          6.706354623760767,
          6.760559396605908,
          6.762954647507859,
          6.736434331797235,
          6.681570061902082,
          6.659908675799087,
          6.661644249659966,
          6.684169096209913,
          6.714946571080752,
          6.704424666242849,
          6.73097650595702,
          6.738773719425249,
          6.751793461009417,
          6.7211615935541635,
          6.745460964292919,
          6.788831529832224,
          6.807241080873161,
          6.7821709894332365,
          6.818163301452356,
          6.848089537553296,
          6.857677045177045,
          6.872485921158487,
          6.819540460878886,
          6.794248480671637,
          6.830622727535061,
          6.854539091104889,
          6.9012865792129165,
          6.870430608630814,
          6.8646316063525115,
          6.8815590752430005,
          6.943888626710712,
          6.8832602407390135,
          6.891508485229415,
          6.851168391009632,
          6.947162329615861,
          6.992538063015437,
          7.046504340559863,
          7.092071725904578,
          7.035607002169746,
          7.093720800223615,
          7.062603846153847,
          7.1075470034216375,
          7.138263762855415,
          7.116931199307164,
          7.119662839231482,
          7.106709236919376,
          7.125527694420426,
          7.220861911680238,
          7.299013599486371,
          7.491792941176471,
          7.4
         ],
         "yaxis": "y"
        }
       ],
       "layout": {
        "legend": {
         "tracegroupgap": 0
        },
        "template": {
         "data": {
          "bar": [
           {
            "error_x": {
             "color": "#2a3f5f"
            },
            "error_y": {
             "color": "#2a3f5f"
            },
            "marker": {
             "line": {
              "color": "#E5ECF6",
              "width": 0.5
             },
             "pattern": {
              "fillmode": "overlay",
              "size": 10,
              "solidity": 0.2
             }
            },
            "type": "bar"
           }
          ],
          "barpolar": [
           {
            "marker": {
             "line": {
              "color": "#E5ECF6",
              "width": 0.5
             },
             "pattern": {
              "fillmode": "overlay",
              "size": 10,
              "solidity": 0.2
             }
            },
            "type": "barpolar"
           }
          ],
          "carpet": [
           {
            "aaxis": {
             "endlinecolor": "#2a3f5f",
             "gridcolor": "white",
             "linecolor": "white",
             "minorgridcolor": "white",
             "startlinecolor": "#2a3f5f"
            },
            "baxis": {
             "endlinecolor": "#2a3f5f",
             "gridcolor": "white",
             "linecolor": "white",
             "minorgridcolor": "white",
             "startlinecolor": "#2a3f5f"
            },
            "type": "carpet"
           }
          ],
          "choropleth": [
           {
            "colorbar": {
             "outlinewidth": 0,
             "ticks": ""
            },
            "type": "choropleth"
           }
          ],
          "contour": [
           {
            "colorbar": {
             "outlinewidth": 0,
             "ticks": ""
            },
            "colorscale": [
             [
              0,
              "#0d0887"
             ],
             [
              0.1111111111111111,
              "#46039f"
             ],
             [
              0.2222222222222222,
              "#7201a8"
             ],
             [
              0.3333333333333333,
              "#9c179e"
             ],
             [
              0.4444444444444444,
              "#bd3786"
             ],
             [
              0.5555555555555556,
              "#d8576b"
             ],
             [
              0.6666666666666666,
              "#ed7953"
             ],
             [
              0.7777777777777778,
              "#fb9f3a"
             ],
             [
              0.8888888888888888,
              "#fdca26"
             ],
             [
              1,
              "#f0f921"
             ]
            ],
            "type": "contour"
           }
          ],
          "contourcarpet": [
           {
            "colorbar": {
             "outlinewidth": 0,
             "ticks": ""
            },
            "type": "contourcarpet"
           }
          ],
          "heatmap": [
           {
            "colorbar": {
             "outlinewidth": 0,
             "ticks": ""
            },
            "colorscale": [
             [
              0,
              "#0d0887"
             ],
             [
              0.1111111111111111,
              "#46039f"
             ],
             [
              0.2222222222222222,
              "#7201a8"
             ],
             [
              0.3333333333333333,
              "#9c179e"
             ],
             [
              0.4444444444444444,
              "#bd3786"
             ],
             [
              0.5555555555555556,
              "#d8576b"
             ],
             [
              0.6666666666666666,
              "#ed7953"
             ],
             [
              0.7777777777777778,
              "#fb9f3a"
             ],
             [
              0.8888888888888888,
              "#fdca26"
             ],
             [
              1,
              "#f0f921"
             ]
            ],
            "type": "heatmap"
           }
          ],
          "heatmapgl": [
           {
            "colorbar": {
             "outlinewidth": 0,
             "ticks": ""
            },
            "colorscale": [
             [
              0,
              "#0d0887"
             ],
             [
              0.1111111111111111,
              "#46039f"
             ],
             [
              0.2222222222222222,
              "#7201a8"
             ],
             [
              0.3333333333333333,
              "#9c179e"
             ],
             [
              0.4444444444444444,
              "#bd3786"
             ],
             [
              0.5555555555555556,
              "#d8576b"
             ],
             [
              0.6666666666666666,
              "#ed7953"
             ],
             [
              0.7777777777777778,
              "#fb9f3a"
             ],
             [
              0.8888888888888888,
              "#fdca26"
             ],
             [
              1,
              "#f0f921"
             ]
            ],
            "type": "heatmapgl"
           }
          ],
          "histogram": [
           {
            "marker": {
             "pattern": {
              "fillmode": "overlay",
              "size": 10,
              "solidity": 0.2
             }
            },
            "type": "histogram"
           }
          ],
          "histogram2d": [
           {
            "colorbar": {
             "outlinewidth": 0,
             "ticks": ""
            },
            "colorscale": [
             [
              0,
              "#0d0887"
             ],
             [
              0.1111111111111111,
              "#46039f"
             ],
             [
              0.2222222222222222,
              "#7201a8"
             ],
             [
              0.3333333333333333,
              "#9c179e"
             ],
             [
              0.4444444444444444,
              "#bd3786"
             ],
             [
              0.5555555555555556,
              "#d8576b"
             ],
             [
              0.6666666666666666,
              "#ed7953"
             ],
             [
              0.7777777777777778,
              "#fb9f3a"
             ],
             [
              0.8888888888888888,
              "#fdca26"
             ],
             [
              1,
              "#f0f921"
             ]
            ],
            "type": "histogram2d"
           }
          ],
          "histogram2dcontour": [
           {
            "colorbar": {
             "outlinewidth": 0,
             "ticks": ""
            },
            "colorscale": [
             [
              0,
              "#0d0887"
             ],
             [
              0.1111111111111111,
              "#46039f"
             ],
             [
              0.2222222222222222,
              "#7201a8"
             ],
             [
              0.3333333333333333,
              "#9c179e"
             ],
             [
              0.4444444444444444,
              "#bd3786"
             ],
             [
              0.5555555555555556,
              "#d8576b"
             ],
             [
              0.6666666666666666,
              "#ed7953"
             ],
             [
              0.7777777777777778,
              "#fb9f3a"
             ],
             [
              0.8888888888888888,
              "#fdca26"
             ],
             [
              1,
              "#f0f921"
             ]
            ],
            "type": "histogram2dcontour"
           }
          ],
          "mesh3d": [
           {
            "colorbar": {
             "outlinewidth": 0,
             "ticks": ""
            },
            "type": "mesh3d"
           }
          ],
          "parcoords": [
           {
            "line": {
             "colorbar": {
              "outlinewidth": 0,
              "ticks": ""
             }
            },
            "type": "parcoords"
           }
          ],
          "pie": [
           {
            "automargin": true,
            "type": "pie"
           }
          ],
          "scatter": [
           {
            "fillpattern": {
             "fillmode": "overlay",
             "size": 10,
             "solidity": 0.2
            },
            "type": "scatter"
           }
          ],
          "scatter3d": [
           {
            "line": {
             "colorbar": {
              "outlinewidth": 0,
              "ticks": ""
             }
            },
            "marker": {
             "colorbar": {
              "outlinewidth": 0,
              "ticks": ""
             }
            },
            "type": "scatter3d"
           }
          ],
          "scattercarpet": [
           {
            "marker": {
             "colorbar": {
              "outlinewidth": 0,
              "ticks": ""
             }
            },
            "type": "scattercarpet"
           }
          ],
          "scattergeo": [
           {
            "marker": {
             "colorbar": {
              "outlinewidth": 0,
              "ticks": ""
             }
            },
            "type": "scattergeo"
           }
          ],
          "scattergl": [
           {
            "marker": {
             "colorbar": {
              "outlinewidth": 0,
              "ticks": ""
             }
            },
            "type": "scattergl"
           }
          ],
          "scattermapbox": [
           {
            "marker": {
             "colorbar": {
              "outlinewidth": 0,
              "ticks": ""
             }
            },
            "type": "scattermapbox"
           }
          ],
          "scatterpolar": [
           {
            "marker": {
             "colorbar": {
              "outlinewidth": 0,
              "ticks": ""
             }
            },
            "type": "scatterpolar"
           }
          ],
          "scatterpolargl": [
           {
            "marker": {
             "colorbar": {
              "outlinewidth": 0,
              "ticks": ""
             }
            },
            "type": "scatterpolargl"
           }
          ],
          "scatterternary": [
           {
            "marker": {
             "colorbar": {
              "outlinewidth": 0,
              "ticks": ""
             }
            },
            "type": "scatterternary"
           }
          ],
          "surface": [
           {
            "colorbar": {
             "outlinewidth": 0,
             "ticks": ""
            },
            "colorscale": [
             [
              0,
              "#0d0887"
             ],
             [
              0.1111111111111111,
              "#46039f"
             ],
             [
              0.2222222222222222,
              "#7201a8"
             ],
             [
              0.3333333333333333,
              "#9c179e"
             ],
             [
              0.4444444444444444,
              "#bd3786"
             ],
             [
              0.5555555555555556,
              "#d8576b"
             ],
             [
              0.6666666666666666,
              "#ed7953"
             ],
             [
              0.7777777777777778,
              "#fb9f3a"
             ],
             [
              0.8888888888888888,
              "#fdca26"
             ],
             [
              1,
              "#f0f921"
             ]
            ],
            "type": "surface"
           }
          ],
          "table": [
           {
            "cells": {
             "fill": {
              "color": "#EBF0F8"
             },
             "line": {
              "color": "white"
             }
            },
            "header": {
             "fill": {
              "color": "#C8D4E3"
             },
             "line": {
              "color": "white"
             }
            },
            "type": "table"
           }
          ]
         },
         "layout": {
          "annotationdefaults": {
           "arrowcolor": "#2a3f5f",
           "arrowhead": 0,
           "arrowwidth": 1
          },
          "autotypenumbers": "strict",
          "coloraxis": {
           "colorbar": {
            "outlinewidth": 0,
            "ticks": ""
           }
          },
          "colorscale": {
           "diverging": [
            [
             0,
             "#8e0152"
            ],
            [
             0.1,
             "#c51b7d"
            ],
            [
             0.2,
             "#de77ae"
            ],
            [
             0.3,
             "#f1b6da"
            ],
            [
             0.4,
             "#fde0ef"
            ],
            [
             0.5,
             "#f7f7f7"
            ],
            [
             0.6,
             "#e6f5d0"
            ],
            [
             0.7,
             "#b8e186"
            ],
            [
             0.8,
             "#7fbc41"
            ],
            [
             0.9,
             "#4d9221"
            ],
            [
             1,
             "#276419"
            ]
           ],
           "sequential": [
            [
             0,
             "#0d0887"
            ],
            [
             0.1111111111111111,
             "#46039f"
            ],
            [
             0.2222222222222222,
             "#7201a8"
            ],
            [
             0.3333333333333333,
             "#9c179e"
            ],
            [
             0.4444444444444444,
             "#bd3786"
            ],
            [
             0.5555555555555556,
             "#d8576b"
            ],
            [
             0.6666666666666666,
             "#ed7953"
            ],
            [
             0.7777777777777778,
             "#fb9f3a"
            ],
            [
             0.8888888888888888,
             "#fdca26"
            ],
            [
             1,
             "#f0f921"
            ]
           ],
           "sequentialminus": [
            [
             0,
             "#0d0887"
            ],
            [
             0.1111111111111111,
             "#46039f"
            ],
            [
             0.2222222222222222,
             "#7201a8"
            ],
            [
             0.3333333333333333,
             "#9c179e"
            ],
            [
             0.4444444444444444,
             "#bd3786"
            ],
            [
             0.5555555555555556,
             "#d8576b"
            ],
            [
             0.6666666666666666,
             "#ed7953"
            ],
            [
             0.7777777777777778,
             "#fb9f3a"
            ],
            [
             0.8888888888888888,
             "#fdca26"
            ],
            [
             1,
             "#f0f921"
            ]
           ]
          },
          "colorway": [
           "#636efa",
           "#EF553B",
           "#00cc96",
           "#ab63fa",
           "#FFA15A",
           "#19d3f3",
           "#FF6692",
           "#B6E880",
           "#FF97FF",
           "#FECB52"
          ],
          "font": {
           "color": "#2a3f5f"
          },
          "geo": {
           "bgcolor": "white",
           "lakecolor": "white",
           "landcolor": "#E5ECF6",
           "showlakes": true,
           "showland": true,
           "subunitcolor": "white"
          },
          "hoverlabel": {
           "align": "left"
          },
          "hovermode": "closest",
          "mapbox": {
           "style": "light"
          },
          "paper_bgcolor": "white",
          "plot_bgcolor": "#E5ECF6",
          "polar": {
           "angularaxis": {
            "gridcolor": "white",
            "linecolor": "white",
            "ticks": ""
           },
           "bgcolor": "#E5ECF6",
           "radialaxis": {
            "gridcolor": "white",
            "linecolor": "white",
            "ticks": ""
           }
          },
          "scene": {
           "xaxis": {
            "backgroundcolor": "#E5ECF6",
            "gridcolor": "white",
            "gridwidth": 2,
            "linecolor": "white",
            "showbackground": true,
            "ticks": "",
            "zerolinecolor": "white"
           },
           "yaxis": {
            "backgroundcolor": "#E5ECF6",
            "gridcolor": "white",
            "gridwidth": 2,
            "linecolor": "white",
            "showbackground": true,
            "ticks": "",
            "zerolinecolor": "white"
           },
           "zaxis": {
            "backgroundcolor": "#E5ECF6",
            "gridcolor": "white",
            "gridwidth": 2,
            "linecolor": "white",
            "showbackground": true,
            "ticks": "",
            "zerolinecolor": "white"
           }
          },
          "shapedefaults": {
           "line": {
            "color": "#2a3f5f"
           }
          },
          "ternary": {
           "aaxis": {
            "gridcolor": "white",
            "linecolor": "white",
            "ticks": ""
           },
           "baxis": {
            "gridcolor": "white",
            "linecolor": "white",
            "ticks": ""
           },
           "bgcolor": "#E5ECF6",
           "caxis": {
            "gridcolor": "white",
            "linecolor": "white",
            "ticks": ""
           }
          },
          "title": {
           "x": 0.05
          },
          "xaxis": {
           "automargin": true,
           "gridcolor": "white",
           "linecolor": "white",
           "ticks": "",
           "title": {
            "standoff": 15
           },
           "zerolinecolor": "white",
           "zerolinewidth": 2
          },
          "yaxis": {
           "automargin": true,
           "gridcolor": "white",
           "linecolor": "white",
           "ticks": "",
           "title": {
            "standoff": 15
           },
           "zerolinecolor": "white",
           "zerolinewidth": 2
          }
         }
        },
        "title": {
         "text": "Motion Picture Average Rating as Time passes"
        },
        "xaxis": {
         "anchor": "y",
         "domain": [
          0,
          1
         ],
         "title": {
          "text": "year"
         }
        },
        "yaxis": {
         "anchor": "x",
         "domain": [
          0,
          1
         ],
         "title": {
          "text": "rating"
         }
        }
       }
      }
     },
     "metadata": {},
     "output_type": "display_data"
    }
   ],
   "source": [
    "fig = px.line(result, x = \"year\", y = \"rating\", title = \"Motion Picture Average Rating as Time passes\")\n",
    "fig.show()"
   ]
  },
  {
   "cell_type": "markdown",
   "metadata": {},
   "source": [
    "There is definitely a trend in the average ratings of shows/movies as time has passed. It seems as though people from 1880-1900 were harsher critics or interpreted 5/10 ratings as being the true \"average\" while nowadays a 5/10 would be something that most people wouldnt watch. Now we can see how runtime has been impacted over time. "
   ]
  },
  {
   "cell_type": "code",
   "execution_count": 326,
   "metadata": {},
   "outputs": [
    {
     "data": {
      "application/vnd.plotly.v1+json": {
       "config": {
        "plotlyServerURL": "https://plot.ly"
       },
       "data": [
        {
         "hovertemplate": "year=%{x}<br>run_time=%{y}<extra></extra>",
         "legendgroup": "",
         "line": {
          "color": "#636efa",
          "dash": "solid"
         },
         "marker": {
          "symbol": "circle"
         },
         "mode": "lines",
         "name": "",
         "orientation": "v",
         "showlegend": false,
         "type": "scatter",
         "x": [
          1874,
          1877,
          1878,
          1881,
          1882,
          1883,
          1885,
          1887,
          1888,
          1889,
          1890,
          1891,
          1892,
          1893,
          1894,
          1895,
          1896,
          1897,
          1898,
          1899,
          1900,
          1901,
          1902,
          1903,
          1904,
          1905,
          1906,
          1907,
          1908,
          1909,
          1910,
          1911,
          1912,
          1913,
          1914,
          1915,
          1916,
          1917,
          1918,
          1919,
          1920,
          1921,
          1922,
          1923,
          1924,
          1925,
          1926,
          1927,
          1928,
          1929,
          1930,
          1931,
          1932,
          1933,
          1934,
          1935,
          1936,
          1937,
          1938,
          1939,
          1940,
          1941,
          1942,
          1943,
          1944,
          1945,
          1946,
          1947,
          1948,
          1949,
          1950,
          1951,
          1952,
          1953,
          1954,
          1955,
          1956,
          1957,
          1958,
          1959,
          1960,
          1961,
          1962,
          1963,
          1964,
          1965,
          1966,
          1967,
          1968,
          1969,
          1970,
          1971,
          1972,
          1973,
          1974,
          1975,
          1976,
          1977,
          1978,
          1979,
          1980,
          1981,
          1982,
          1983,
          1984,
          1985,
          1986,
          1987,
          1988,
          1989,
          1990,
          1991,
          1992,
          1993,
          1994,
          1995,
          1996,
          1997,
          1998,
          1999,
          2000,
          2001,
          2002,
          2003,
          2004,
          2005,
          2006,
          2007,
          2008,
          2009,
          2010,
          2011,
          2012,
          2013,
          2014,
          2015,
          2016,
          2017,
          2018,
          2019,
          2020,
          2021,
          2022,
          2023,
          2024,
          2025
         ],
         "xaxis": "x",
         "y": [
          1,
          1,
          1,
          1,
          1,
          1,
          1,
          1,
          1,
          1,
          1,
          1,
          4,
          1,
          2.4324324324324325,
          1.2142857142857142,
          1.3215547703180213,
          1.5236051502145922,
          1.3333333333333333,
          2.329032258064516,
          2.364130434782609,
          2.269662921348315,
          2.732394366197183,
          2.835978835978836,
          4.051813471502591,
          5.142857142857143,
          6.71978021978022,
          6.942857142857143,
          8.683035714285714,
          8.464539007092199,
          13.472602739726028,
          15.628318584070797,
          15.668024439918534,
          25.745098039215687,
          44.69934640522876,
          37.253405994550405,
          47.307479224376735,
          50.93370165745856,
          54.65988372093023,
          59.01081081081081,
          55.67941176470588,
          59.90419161676647,
          58.7909604519774,
          58.064516129032256,
          52.31543624161074,
          56.78623188405797,
          54.4009360374415,
          52.275449101796404,
          56.58536585365854,
          52.24441833137485,
          52.29559118236473,
          54.414847161572055,
          54.680478087649405,
          54.63666947014298,
          55.702416918429,
          59.171138506163885,
          59.860724233983284,
          61.50550964187328,
          61.03005464480874,
          63.89408327246165,
          62.29511834319526,
          62.41904761904762,
          60.727467811158796,
          64.00702576112413,
          61.99277326106594,
          62.70283975659229,
          63.80073461891644,
          65.58078602620087,
          65.46617161716172,
          67.55340501792115,
          63.523456790123454,
          63.076179647527006,
          60.24374374374374,
          58.8394128113879,
          60.14589800443459,
          56.67302844796543,
          56.61195577055978,
          56.09795673076923,
          54.93444871091607,
          53.23216416129802,
          54.41329276854669,
          56.149092579830004,
          60.72520762090865,
          60.44690151709951,
          61.32021510633097,
          57.37025181391378,
          58.44350165562914,
          58.7011737540889,
          61.51563134388957,
          60.54521124068056,
          63.3454231433506,
          64.77775567051333,
          65.60991930722298,
          65.63178369966933,
          66.18346456692913,
          67.15840779853778,
          68.9100374843815,
          68.8890443822471,
          67.27724594992637,
          67.4376711078664,
          70.09140546006067,
          69.12266718506999,
          70.45413618458075,
          69.13929462059137,
          67.8078431372549,
          64.54170324846356,
          65.04030485123846,
          65.18654733603692,
          68.06856620447967,
          66.19092267971192,
          62.75231699126931,
          62.43102522812668,
          61.99516339869281,
          61.81764049125419,
          59.546418499717994,
          60.58572030328559,
          59.72743810005053,
          59.08074762913176,
          59.1252396723026,
          58.74969818913481,
          58.815090161341345,
          58.750512745385294,
          56.791478795007514,
          56.433063248276696,
          56.799753839567614,
          54.56882885418133,
          54.410224277256816,
          53.39201958594622,
          53.65875949469922,
          51.89071301512007,
          50.81315474934964,
          51.24451400542145,
          49.88087922476956,
          48.38544542739618,
          49.22479775556342,
          49.01003647274891,
          48.45822620563712,
          49.87820831852115,
          50.792940434919636,
          52.55646716968232,
          53.120978270329864,
          56.24904009567571,
          60.47273522387056,
          63.614601643298045,
          66.94496006906972,
          null
         ],
         "yaxis": "y"
        }
       ],
       "layout": {
        "legend": {
         "tracegroupgap": 0
        },
        "template": {
         "data": {
          "bar": [
           {
            "error_x": {
             "color": "#2a3f5f"
            },
            "error_y": {
             "color": "#2a3f5f"
            },
            "marker": {
             "line": {
              "color": "#E5ECF6",
              "width": 0.5
             },
             "pattern": {
              "fillmode": "overlay",
              "size": 10,
              "solidity": 0.2
             }
            },
            "type": "bar"
           }
          ],
          "barpolar": [
           {
            "marker": {
             "line": {
              "color": "#E5ECF6",
              "width": 0.5
             },
             "pattern": {
              "fillmode": "overlay",
              "size": 10,
              "solidity": 0.2
             }
            },
            "type": "barpolar"
           }
          ],
          "carpet": [
           {
            "aaxis": {
             "endlinecolor": "#2a3f5f",
             "gridcolor": "white",
             "linecolor": "white",
             "minorgridcolor": "white",
             "startlinecolor": "#2a3f5f"
            },
            "baxis": {
             "endlinecolor": "#2a3f5f",
             "gridcolor": "white",
             "linecolor": "white",
             "minorgridcolor": "white",
             "startlinecolor": "#2a3f5f"
            },
            "type": "carpet"
           }
          ],
          "choropleth": [
           {
            "colorbar": {
             "outlinewidth": 0,
             "ticks": ""
            },
            "type": "choropleth"
           }
          ],
          "contour": [
           {
            "colorbar": {
             "outlinewidth": 0,
             "ticks": ""
            },
            "colorscale": [
             [
              0,
              "#0d0887"
             ],
             [
              0.1111111111111111,
              "#46039f"
             ],
             [
              0.2222222222222222,
              "#7201a8"
             ],
             [
              0.3333333333333333,
              "#9c179e"
             ],
             [
              0.4444444444444444,
              "#bd3786"
             ],
             [
              0.5555555555555556,
              "#d8576b"
             ],
             [
              0.6666666666666666,
              "#ed7953"
             ],
             [
              0.7777777777777778,
              "#fb9f3a"
             ],
             [
              0.8888888888888888,
              "#fdca26"
             ],
             [
              1,
              "#f0f921"
             ]
            ],
            "type": "contour"
           }
          ],
          "contourcarpet": [
           {
            "colorbar": {
             "outlinewidth": 0,
             "ticks": ""
            },
            "type": "contourcarpet"
           }
          ],
          "heatmap": [
           {
            "colorbar": {
             "outlinewidth": 0,
             "ticks": ""
            },
            "colorscale": [
             [
              0,
              "#0d0887"
             ],
             [
              0.1111111111111111,
              "#46039f"
             ],
             [
              0.2222222222222222,
              "#7201a8"
             ],
             [
              0.3333333333333333,
              "#9c179e"
             ],
             [
              0.4444444444444444,
              "#bd3786"
             ],
             [
              0.5555555555555556,
              "#d8576b"
             ],
             [
              0.6666666666666666,
              "#ed7953"
             ],
             [
              0.7777777777777778,
              "#fb9f3a"
             ],
             [
              0.8888888888888888,
              "#fdca26"
             ],
             [
              1,
              "#f0f921"
             ]
            ],
            "type": "heatmap"
           }
          ],
          "heatmapgl": [
           {
            "colorbar": {
             "outlinewidth": 0,
             "ticks": ""
            },
            "colorscale": [
             [
              0,
              "#0d0887"
             ],
             [
              0.1111111111111111,
              "#46039f"
             ],
             [
              0.2222222222222222,
              "#7201a8"
             ],
             [
              0.3333333333333333,
              "#9c179e"
             ],
             [
              0.4444444444444444,
              "#bd3786"
             ],
             [
              0.5555555555555556,
              "#d8576b"
             ],
             [
              0.6666666666666666,
              "#ed7953"
             ],
             [
              0.7777777777777778,
              "#fb9f3a"
             ],
             [
              0.8888888888888888,
              "#fdca26"
             ],
             [
              1,
              "#f0f921"
             ]
            ],
            "type": "heatmapgl"
           }
          ],
          "histogram": [
           {
            "marker": {
             "pattern": {
              "fillmode": "overlay",
              "size": 10,
              "solidity": 0.2
             }
            },
            "type": "histogram"
           }
          ],
          "histogram2d": [
           {
            "colorbar": {
             "outlinewidth": 0,
             "ticks": ""
            },
            "colorscale": [
             [
              0,
              "#0d0887"
             ],
             [
              0.1111111111111111,
              "#46039f"
             ],
             [
              0.2222222222222222,
              "#7201a8"
             ],
             [
              0.3333333333333333,
              "#9c179e"
             ],
             [
              0.4444444444444444,
              "#bd3786"
             ],
             [
              0.5555555555555556,
              "#d8576b"
             ],
             [
              0.6666666666666666,
              "#ed7953"
             ],
             [
              0.7777777777777778,
              "#fb9f3a"
             ],
             [
              0.8888888888888888,
              "#fdca26"
             ],
             [
              1,
              "#f0f921"
             ]
            ],
            "type": "histogram2d"
           }
          ],
          "histogram2dcontour": [
           {
            "colorbar": {
             "outlinewidth": 0,
             "ticks": ""
            },
            "colorscale": [
             [
              0,
              "#0d0887"
             ],
             [
              0.1111111111111111,
              "#46039f"
             ],
             [
              0.2222222222222222,
              "#7201a8"
             ],
             [
              0.3333333333333333,
              "#9c179e"
             ],
             [
              0.4444444444444444,
              "#bd3786"
             ],
             [
              0.5555555555555556,
              "#d8576b"
             ],
             [
              0.6666666666666666,
              "#ed7953"
             ],
             [
              0.7777777777777778,
              "#fb9f3a"
             ],
             [
              0.8888888888888888,
              "#fdca26"
             ],
             [
              1,
              "#f0f921"
             ]
            ],
            "type": "histogram2dcontour"
           }
          ],
          "mesh3d": [
           {
            "colorbar": {
             "outlinewidth": 0,
             "ticks": ""
            },
            "type": "mesh3d"
           }
          ],
          "parcoords": [
           {
            "line": {
             "colorbar": {
              "outlinewidth": 0,
              "ticks": ""
             }
            },
            "type": "parcoords"
           }
          ],
          "pie": [
           {
            "automargin": true,
            "type": "pie"
           }
          ],
          "scatter": [
           {
            "fillpattern": {
             "fillmode": "overlay",
             "size": 10,
             "solidity": 0.2
            },
            "type": "scatter"
           }
          ],
          "scatter3d": [
           {
            "line": {
             "colorbar": {
              "outlinewidth": 0,
              "ticks": ""
             }
            },
            "marker": {
             "colorbar": {
              "outlinewidth": 0,
              "ticks": ""
             }
            },
            "type": "scatter3d"
           }
          ],
          "scattercarpet": [
           {
            "marker": {
             "colorbar": {
              "outlinewidth": 0,
              "ticks": ""
             }
            },
            "type": "scattercarpet"
           }
          ],
          "scattergeo": [
           {
            "marker": {
             "colorbar": {
              "outlinewidth": 0,
              "ticks": ""
             }
            },
            "type": "scattergeo"
           }
          ],
          "scattergl": [
           {
            "marker": {
             "colorbar": {
              "outlinewidth": 0,
              "ticks": ""
             }
            },
            "type": "scattergl"
           }
          ],
          "scattermapbox": [
           {
            "marker": {
             "colorbar": {
              "outlinewidth": 0,
              "ticks": ""
             }
            },
            "type": "scattermapbox"
           }
          ],
          "scatterpolar": [
           {
            "marker": {
             "colorbar": {
              "outlinewidth": 0,
              "ticks": ""
             }
            },
            "type": "scatterpolar"
           }
          ],
          "scatterpolargl": [
           {
            "marker": {
             "colorbar": {
              "outlinewidth": 0,
              "ticks": ""
             }
            },
            "type": "scatterpolargl"
           }
          ],
          "scatterternary": [
           {
            "marker": {
             "colorbar": {
              "outlinewidth": 0,
              "ticks": ""
             }
            },
            "type": "scatterternary"
           }
          ],
          "surface": [
           {
            "colorbar": {
             "outlinewidth": 0,
             "ticks": ""
            },
            "colorscale": [
             [
              0,
              "#0d0887"
             ],
             [
              0.1111111111111111,
              "#46039f"
             ],
             [
              0.2222222222222222,
              "#7201a8"
             ],
             [
              0.3333333333333333,
              "#9c179e"
             ],
             [
              0.4444444444444444,
              "#bd3786"
             ],
             [
              0.5555555555555556,
              "#d8576b"
             ],
             [
              0.6666666666666666,
              "#ed7953"
             ],
             [
              0.7777777777777778,
              "#fb9f3a"
             ],
             [
              0.8888888888888888,
              "#fdca26"
             ],
             [
              1,
              "#f0f921"
             ]
            ],
            "type": "surface"
           }
          ],
          "table": [
           {
            "cells": {
             "fill": {
              "color": "#EBF0F8"
             },
             "line": {
              "color": "white"
             }
            },
            "header": {
             "fill": {
              "color": "#C8D4E3"
             },
             "line": {
              "color": "white"
             }
            },
            "type": "table"
           }
          ]
         },
         "layout": {
          "annotationdefaults": {
           "arrowcolor": "#2a3f5f",
           "arrowhead": 0,
           "arrowwidth": 1
          },
          "autotypenumbers": "strict",
          "coloraxis": {
           "colorbar": {
            "outlinewidth": 0,
            "ticks": ""
           }
          },
          "colorscale": {
           "diverging": [
            [
             0,
             "#8e0152"
            ],
            [
             0.1,
             "#c51b7d"
            ],
            [
             0.2,
             "#de77ae"
            ],
            [
             0.3,
             "#f1b6da"
            ],
            [
             0.4,
             "#fde0ef"
            ],
            [
             0.5,
             "#f7f7f7"
            ],
            [
             0.6,
             "#e6f5d0"
            ],
            [
             0.7,
             "#b8e186"
            ],
            [
             0.8,
             "#7fbc41"
            ],
            [
             0.9,
             "#4d9221"
            ],
            [
             1,
             "#276419"
            ]
           ],
           "sequential": [
            [
             0,
             "#0d0887"
            ],
            [
             0.1111111111111111,
             "#46039f"
            ],
            [
             0.2222222222222222,
             "#7201a8"
            ],
            [
             0.3333333333333333,
             "#9c179e"
            ],
            [
             0.4444444444444444,
             "#bd3786"
            ],
            [
             0.5555555555555556,
             "#d8576b"
            ],
            [
             0.6666666666666666,
             "#ed7953"
            ],
            [
             0.7777777777777778,
             "#fb9f3a"
            ],
            [
             0.8888888888888888,
             "#fdca26"
            ],
            [
             1,
             "#f0f921"
            ]
           ],
           "sequentialminus": [
            [
             0,
             "#0d0887"
            ],
            [
             0.1111111111111111,
             "#46039f"
            ],
            [
             0.2222222222222222,
             "#7201a8"
            ],
            [
             0.3333333333333333,
             "#9c179e"
            ],
            [
             0.4444444444444444,
             "#bd3786"
            ],
            [
             0.5555555555555556,
             "#d8576b"
            ],
            [
             0.6666666666666666,
             "#ed7953"
            ],
            [
             0.7777777777777778,
             "#fb9f3a"
            ],
            [
             0.8888888888888888,
             "#fdca26"
            ],
            [
             1,
             "#f0f921"
            ]
           ]
          },
          "colorway": [
           "#636efa",
           "#EF553B",
           "#00cc96",
           "#ab63fa",
           "#FFA15A",
           "#19d3f3",
           "#FF6692",
           "#B6E880",
           "#FF97FF",
           "#FECB52"
          ],
          "font": {
           "color": "#2a3f5f"
          },
          "geo": {
           "bgcolor": "white",
           "lakecolor": "white",
           "landcolor": "#E5ECF6",
           "showlakes": true,
           "showland": true,
           "subunitcolor": "white"
          },
          "hoverlabel": {
           "align": "left"
          },
          "hovermode": "closest",
          "mapbox": {
           "style": "light"
          },
          "paper_bgcolor": "white",
          "plot_bgcolor": "#E5ECF6",
          "polar": {
           "angularaxis": {
            "gridcolor": "white",
            "linecolor": "white",
            "ticks": ""
           },
           "bgcolor": "#E5ECF6",
           "radialaxis": {
            "gridcolor": "white",
            "linecolor": "white",
            "ticks": ""
           }
          },
          "scene": {
           "xaxis": {
            "backgroundcolor": "#E5ECF6",
            "gridcolor": "white",
            "gridwidth": 2,
            "linecolor": "white",
            "showbackground": true,
            "ticks": "",
            "zerolinecolor": "white"
           },
           "yaxis": {
            "backgroundcolor": "#E5ECF6",
            "gridcolor": "white",
            "gridwidth": 2,
            "linecolor": "white",
            "showbackground": true,
            "ticks": "",
            "zerolinecolor": "white"
           },
           "zaxis": {
            "backgroundcolor": "#E5ECF6",
            "gridcolor": "white",
            "gridwidth": 2,
            "linecolor": "white",
            "showbackground": true,
            "ticks": "",
            "zerolinecolor": "white"
           }
          },
          "shapedefaults": {
           "line": {
            "color": "#2a3f5f"
           }
          },
          "ternary": {
           "aaxis": {
            "gridcolor": "white",
            "linecolor": "white",
            "ticks": ""
           },
           "baxis": {
            "gridcolor": "white",
            "linecolor": "white",
            "ticks": ""
           },
           "bgcolor": "#E5ECF6",
           "caxis": {
            "gridcolor": "white",
            "linecolor": "white",
            "ticks": ""
           }
          },
          "title": {
           "x": 0.05
          },
          "xaxis": {
           "automargin": true,
           "gridcolor": "white",
           "linecolor": "white",
           "ticks": "",
           "title": {
            "standoff": 15
           },
           "zerolinecolor": "white",
           "zerolinewidth": 2
          },
          "yaxis": {
           "automargin": true,
           "gridcolor": "white",
           "linecolor": "white",
           "ticks": "",
           "title": {
            "standoff": 15
           },
           "zerolinecolor": "white",
           "zerolinewidth": 2
          }
         }
        },
        "title": {
         "text": "Motion Picture Average Length as Time Passes"
        },
        "xaxis": {
         "anchor": "y",
         "domain": [
          0,
          1
         ],
         "title": {
          "text": "year"
         }
        },
        "yaxis": {
         "anchor": "x",
         "domain": [
          0,
          1
         ],
         "title": {
          "text": "run_time"
         }
        }
       }
      }
     },
     "metadata": {},
     "output_type": "display_data"
    }
   ],
   "source": [
    "fig = px.line(result, x = \"year\", y = \"run_time\", title =\"Motion Picture Average Length as Time Passes\")\n",
    "fig.show()"
   ]
  },
  {
   "cell_type": "markdown",
   "metadata": {},
   "source": [
    "From the 1880s to the mid 1910's, most cinema was under 10 minutes. I did a little bit of research to determine the cause of this. 1 reel of film in the early days of cinema was about 15 minutes of recording. Going to a movie theatre meant watching several films, all around 15 minutes long, rather than one long cinematic piece. The increase in film length in Europe was largely because of Italian film \"Quo Vadis\", a story about the Roman Empire in the time of Nero which spanned 2 hours. In 1915 the American film maker D.W. Griffith released the movie \"The Birth of a Nation\", which was 193 minutes long (12 film reels) and full of stunts and battle scenes that drew the American public to it. After this, the perception of movies shifted and we began to see much longer standalone films. More information on this topic can be found at: https://www.youtube.com/watch?v=stznrpS3_Gc"
   ]
  },
  {
   "cell_type": "code",
   "execution_count": 327,
   "metadata": {},
   "outputs": [
    {
     "data": {
      "text/html": [
       "<div>\n",
       "<style scoped>\n",
       "    .dataframe tbody tr th:only-of-type {\n",
       "        vertical-align: middle;\n",
       "    }\n",
       "\n",
       "    .dataframe tbody tr th {\n",
       "        vertical-align: top;\n",
       "    }\n",
       "\n",
       "    .dataframe thead th {\n",
       "        text-align: right;\n",
       "    }\n",
       "</style>\n",
       "<table border=\"1\" class=\"dataframe\">\n",
       "  <thead>\n",
       "    <tr style=\"text-align: right;\">\n",
       "      <th></th>\n",
       "      <th>titleID</th>\n",
       "      <th>type</th>\n",
       "      <th>primary_title</th>\n",
       "      <th>is_adult</th>\n",
       "      <th>start_year</th>\n",
       "      <th>end_year</th>\n",
       "      <th>run_time</th>\n",
       "      <th>genres</th>\n",
       "      <th>rating</th>\n",
       "      <th>num_votes</th>\n",
       "    </tr>\n",
       "  </thead>\n",
       "  <tbody>\n",
       "    <tr>\n",
       "      <th>1112</th>\n",
       "      <td>tt0002445</td>\n",
       "      <td>movie</td>\n",
       "      <td>Quo Vadis?</td>\n",
       "      <td>0</td>\n",
       "      <td>1913.0</td>\n",
       "      <td>NaN</td>\n",
       "      <td>120.0</td>\n",
       "      <td>Drama,History</td>\n",
       "      <td>6.1</td>\n",
       "      <td>438</td>\n",
       "    </tr>\n",
       "    <tr>\n",
       "      <th>4395</th>\n",
       "      <td>tt0015253</td>\n",
       "      <td>movie</td>\n",
       "      <td>Quo Vadis?</td>\n",
       "      <td>0</td>\n",
       "      <td>1924.0</td>\n",
       "      <td>NaN</td>\n",
       "      <td>90.0</td>\n",
       "      <td>Drama</td>\n",
       "      <td>5.9</td>\n",
       "      <td>102</td>\n",
       "    </tr>\n",
       "    <tr>\n",
       "      <th>65250</th>\n",
       "      <td>tt0089870</td>\n",
       "      <td>tvMiniSeries</td>\n",
       "      <td>Quo Vadis?</td>\n",
       "      <td>0</td>\n",
       "      <td>1985.0</td>\n",
       "      <td>1985.0</td>\n",
       "      <td>360.0</td>\n",
       "      <td>Drama</td>\n",
       "      <td>6.5</td>\n",
       "      <td>332</td>\n",
       "    </tr>\n",
       "    <tr>\n",
       "      <th>154866</th>\n",
       "      <td>tt0247646</td>\n",
       "      <td>short</td>\n",
       "      <td>Quo Vadis?</td>\n",
       "      <td>0</td>\n",
       "      <td>1901.0</td>\n",
       "      <td>NaN</td>\n",
       "      <td>1.0</td>\n",
       "      <td>Short</td>\n",
       "      <td>5.8</td>\n",
       "      <td>24</td>\n",
       "    </tr>\n",
       "    <tr>\n",
       "      <th>276128</th>\n",
       "      <td>tt0519082</td>\n",
       "      <td>tvEpisode</td>\n",
       "      <td>Quo Vadis?</td>\n",
       "      <td>0</td>\n",
       "      <td>1978.0</td>\n",
       "      <td>NaN</td>\n",
       "      <td>30.0</td>\n",
       "      <td>Comedy,Drama</td>\n",
       "      <td>8.0</td>\n",
       "      <td>123</td>\n",
       "    </tr>\n",
       "    <tr>\n",
       "      <th>299469</th>\n",
       "      <td>tt0568076</td>\n",
       "      <td>tvEpisode</td>\n",
       "      <td>Quo Vadis?</td>\n",
       "      <td>0</td>\n",
       "      <td>2001.0</td>\n",
       "      <td>NaN</td>\n",
       "      <td>45.0</td>\n",
       "      <td>Drama,Romance</td>\n",
       "      <td>7.5</td>\n",
       "      <td>338</td>\n",
       "    </tr>\n",
       "    <tr>\n",
       "      <th>1010058</th>\n",
       "      <td>tt28085515</td>\n",
       "      <td>short</td>\n",
       "      <td>Quo Vadis?</td>\n",
       "      <td>0</td>\n",
       "      <td>2023.0</td>\n",
       "      <td>NaN</td>\n",
       "      <td>27.0</td>\n",
       "      <td>Drama,Short</td>\n",
       "      <td>9.0</td>\n",
       "      <td>10</td>\n",
       "    </tr>\n",
       "    <tr>\n",
       "      <th>1310762</th>\n",
       "      <td>tt7197374</td>\n",
       "      <td>tvEpisode</td>\n",
       "      <td>Quo Vadis?</td>\n",
       "      <td>0</td>\n",
       "      <td>2017.0</td>\n",
       "      <td>NaN</td>\n",
       "      <td>NaN</td>\n",
       "      <td>Action,Adventure,Drama</td>\n",
       "      <td>6.7</td>\n",
       "      <td>10</td>\n",
       "    </tr>\n",
       "  </tbody>\n",
       "</table>\n",
       "</div>"
      ],
      "text/plain": [
       "            titleID          type primary_title  is_adult  start_year  \\\n",
       "1112      tt0002445         movie    Quo Vadis?         0      1913.0   \n",
       "4395      tt0015253         movie    Quo Vadis?         0      1924.0   \n",
       "65250     tt0089870  tvMiniSeries    Quo Vadis?         0      1985.0   \n",
       "154866    tt0247646         short    Quo Vadis?         0      1901.0   \n",
       "276128    tt0519082     tvEpisode    Quo Vadis?         0      1978.0   \n",
       "299469    tt0568076     tvEpisode    Quo Vadis?         0      2001.0   \n",
       "1010058  tt28085515         short    Quo Vadis?         0      2023.0   \n",
       "1310762   tt7197374     tvEpisode    Quo Vadis?         0      2017.0   \n",
       "\n",
       "         end_year  run_time                  genres  rating  num_votes  \n",
       "1112          NaN     120.0           Drama,History     6.1        438  \n",
       "4395          NaN      90.0                   Drama     5.9        102  \n",
       "65250      1985.0     360.0                   Drama     6.5        332  \n",
       "154866        NaN       1.0                   Short     5.8         24  \n",
       "276128        NaN      30.0            Comedy,Drama     8.0        123  \n",
       "299469        NaN      45.0           Drama,Romance     7.5        338  \n",
       "1010058       NaN      27.0             Drama,Short     9.0         10  \n",
       "1310762       NaN       NaN  Action,Adventure,Drama     6.7         10  "
      ]
     },
     "execution_count": 327,
     "metadata": {},
     "output_type": "execute_result"
    }
   ],
   "source": [
    "df[df[\"primary_title\"] == \"Quo Vadis?\"]"
   ]
  },
  {
   "cell_type": "code",
   "execution_count": 328,
   "metadata": {},
   "outputs": [
    {
     "data": {
      "text/html": [
       "<div>\n",
       "<style scoped>\n",
       "    .dataframe tbody tr th:only-of-type {\n",
       "        vertical-align: middle;\n",
       "    }\n",
       "\n",
       "    .dataframe tbody tr th {\n",
       "        vertical-align: top;\n",
       "    }\n",
       "\n",
       "    .dataframe thead th {\n",
       "        text-align: right;\n",
       "    }\n",
       "</style>\n",
       "<table border=\"1\" class=\"dataframe\">\n",
       "  <thead>\n",
       "    <tr style=\"text-align: right;\">\n",
       "      <th></th>\n",
       "      <th>titleID</th>\n",
       "      <th>type</th>\n",
       "      <th>primary_title</th>\n",
       "      <th>is_adult</th>\n",
       "      <th>start_year</th>\n",
       "      <th>end_year</th>\n",
       "      <th>run_time</th>\n",
       "      <th>genres</th>\n",
       "      <th>rating</th>\n",
       "      <th>num_votes</th>\n",
       "    </tr>\n",
       "  </thead>\n",
       "  <tbody>\n",
       "    <tr>\n",
       "      <th>1646</th>\n",
       "      <td>tt0004972</td>\n",
       "      <td>movie</td>\n",
       "      <td>The Birth of a Nation</td>\n",
       "      <td>0</td>\n",
       "      <td>1915.0</td>\n",
       "      <td>NaN</td>\n",
       "      <td>195.0</td>\n",
       "      <td>Drama,History,War</td>\n",
       "      <td>6.1</td>\n",
       "      <td>26305</td>\n",
       "    </tr>\n",
       "    <tr>\n",
       "      <th>48150</th>\n",
       "      <td>tt0070094</td>\n",
       "      <td>movie</td>\n",
       "      <td>The Birth of a Nation</td>\n",
       "      <td>0</td>\n",
       "      <td>1973.0</td>\n",
       "      <td>NaN</td>\n",
       "      <td>70.0</td>\n",
       "      <td>None</td>\n",
       "      <td>7.1</td>\n",
       "      <td>25</td>\n",
       "    </tr>\n",
       "    <tr>\n",
       "      <th>1132366</th>\n",
       "      <td>tt4196450</td>\n",
       "      <td>movie</td>\n",
       "      <td>The Birth of a Nation</td>\n",
       "      <td>0</td>\n",
       "      <td>2016.0</td>\n",
       "      <td>NaN</td>\n",
       "      <td>120.0</td>\n",
       "      <td>Biography,Drama,History</td>\n",
       "      <td>6.5</td>\n",
       "      <td>21810</td>\n",
       "    </tr>\n",
       "  </tbody>\n",
       "</table>\n",
       "</div>"
      ],
      "text/plain": [
       "           titleID   type          primary_title  is_adult  start_year  \\\n",
       "1646     tt0004972  movie  The Birth of a Nation         0      1915.0   \n",
       "48150    tt0070094  movie  The Birth of a Nation         0      1973.0   \n",
       "1132366  tt4196450  movie  The Birth of a Nation         0      2016.0   \n",
       "\n",
       "         end_year  run_time                   genres  rating  num_votes  \n",
       "1646          NaN     195.0        Drama,History,War     6.1      26305  \n",
       "48150         NaN      70.0                     None     7.1         25  \n",
       "1132366       NaN     120.0  Biography,Drama,History     6.5      21810  "
      ]
     },
     "execution_count": 328,
     "metadata": {},
     "output_type": "execute_result"
    }
   ],
   "source": [
    "df[df[\"primary_title\"] == \"The Birth of a Nation\"]"
   ]
  },
  {
   "cell_type": "code",
   "execution_count": 329,
   "metadata": {},
   "outputs": [
    {
     "data": {
      "application/vnd.plotly.v1+json": {
       "config": {
        "plotlyServerURL": "https://plot.ly"
       },
       "data": [
        {
         "hovertemplate": "year=%{x}<br>num_votes=%{y}<extra></extra>",
         "legendgroup": "",
         "line": {
          "color": "#636efa",
          "dash": "solid"
         },
         "marker": {
          "symbol": "circle"
         },
         "mode": "lines",
         "name": "",
         "orientation": "v",
         "showlegend": false,
         "type": "scatter",
         "x": [
          1874,
          1877,
          1878,
          1881,
          1882,
          1883,
          1885,
          1887,
          1888,
          1889,
          1890,
          1891,
          1892,
          1893,
          1894,
          1895,
          1896,
          1897,
          1898,
          1899,
          1900,
          1901,
          1902,
          1903,
          1904,
          1905,
          1906,
          1907,
          1908,
          1909,
          1910,
          1911,
          1912,
          1913,
          1914,
          1915,
          1916,
          1917,
          1918,
          1919,
          1920,
          1921,
          1922,
          1923,
          1924,
          1925,
          1926,
          1927,
          1928,
          1929,
          1930,
          1931,
          1932,
          1933,
          1934,
          1935,
          1936,
          1937,
          1938,
          1939,
          1940,
          1941,
          1942,
          1943,
          1944,
          1945,
          1946,
          1947,
          1948,
          1949,
          1950,
          1951,
          1952,
          1953,
          1954,
          1955,
          1956,
          1957,
          1958,
          1959,
          1960,
          1961,
          1962,
          1963,
          1964,
          1965,
          1966,
          1967,
          1968,
          1969,
          1970,
          1971,
          1972,
          1973,
          1974,
          1975,
          1976,
          1977,
          1978,
          1979,
          1980,
          1981,
          1982,
          1983,
          1984,
          1985,
          1986,
          1987,
          1988,
          1989,
          1990,
          1991,
          1992,
          1993,
          1994,
          1995,
          1996,
          1997,
          1998,
          1999,
          2000,
          2001,
          2002,
          2003,
          2004,
          2005,
          2006,
          2007,
          2008,
          2009,
          2010,
          2011,
          2012,
          2013,
          2014,
          2015,
          2016,
          2017,
          2018,
          2019,
          2020,
          2021,
          2022,
          2023,
          2024,
          2025
         ],
         "xaxis": "x",
         "y": [
          2067,
          192,
          1370,
          405,
          255,
          1191,
          508,
          205,
          2422,
          390,
          743,
          637,
          522,
          1091,
          312,
          405,
          145,
          81,
          101,
          107,
          128,
          154,
          333,
          225,
          110,
          113,
          110,
          102,
          86,
          82,
          73,
          55,
          72,
          79,
          190,
          177,
          160,
          128,
          140,
          181,
          345,
          515,
          483,
          215,
          343,
          493,
          294,
          528,
          359,
          318,
          310,
          718,
          454,
          498,
          399,
          420,
          542,
          496,
          420,
          1099,
          1031,
          1005,
          1020,
          466,
          784,
          695,
          1273,
          628,
          970,
          669,
          877,
          703,
          543,
          601,
          879,
          544,
          450,
          809,
          439,
          559,
          581,
          432,
          615,
          558,
          656,
          445,
          569,
          498,
          638,
          408,
          364,
          673,
          768,
          657,
          741,
          849,
          716,
          695,
          567,
          813,
          1041,
          819,
          955,
          864,
          1080,
          930,
          944,
          1036,
          1156,
          1177,
          1244,
          1052,
          1160,
          1350,
          1828,
          1579,
          1159,
          1544,
          1447,
          1748,
          1432,
          1612,
          1488,
          1434,
          1531,
          1331,
          1307,
          1389,
          1416,
          1290,
          1325,
          1316,
          1090,
          1301,
          1208,
          1005,
          994,
          910,
          810,
          921,
          591,
          756,
          771,
          637,
          368,
          8
         ],
         "yaxis": "y"
        }
       ],
       "layout": {
        "legend": {
         "tracegroupgap": 0
        },
        "template": {
         "data": {
          "bar": [
           {
            "error_x": {
             "color": "#2a3f5f"
            },
            "error_y": {
             "color": "#2a3f5f"
            },
            "marker": {
             "line": {
              "color": "#E5ECF6",
              "width": 0.5
             },
             "pattern": {
              "fillmode": "overlay",
              "size": 10,
              "solidity": 0.2
             }
            },
            "type": "bar"
           }
          ],
          "barpolar": [
           {
            "marker": {
             "line": {
              "color": "#E5ECF6",
              "width": 0.5
             },
             "pattern": {
              "fillmode": "overlay",
              "size": 10,
              "solidity": 0.2
             }
            },
            "type": "barpolar"
           }
          ],
          "carpet": [
           {
            "aaxis": {
             "endlinecolor": "#2a3f5f",
             "gridcolor": "white",
             "linecolor": "white",
             "minorgridcolor": "white",
             "startlinecolor": "#2a3f5f"
            },
            "baxis": {
             "endlinecolor": "#2a3f5f",
             "gridcolor": "white",
             "linecolor": "white",
             "minorgridcolor": "white",
             "startlinecolor": "#2a3f5f"
            },
            "type": "carpet"
           }
          ],
          "choropleth": [
           {
            "colorbar": {
             "outlinewidth": 0,
             "ticks": ""
            },
            "type": "choropleth"
           }
          ],
          "contour": [
           {
            "colorbar": {
             "outlinewidth": 0,
             "ticks": ""
            },
            "colorscale": [
             [
              0,
              "#0d0887"
             ],
             [
              0.1111111111111111,
              "#46039f"
             ],
             [
              0.2222222222222222,
              "#7201a8"
             ],
             [
              0.3333333333333333,
              "#9c179e"
             ],
             [
              0.4444444444444444,
              "#bd3786"
             ],
             [
              0.5555555555555556,
              "#d8576b"
             ],
             [
              0.6666666666666666,
              "#ed7953"
             ],
             [
              0.7777777777777778,
              "#fb9f3a"
             ],
             [
              0.8888888888888888,
              "#fdca26"
             ],
             [
              1,
              "#f0f921"
             ]
            ],
            "type": "contour"
           }
          ],
          "contourcarpet": [
           {
            "colorbar": {
             "outlinewidth": 0,
             "ticks": ""
            },
            "type": "contourcarpet"
           }
          ],
          "heatmap": [
           {
            "colorbar": {
             "outlinewidth": 0,
             "ticks": ""
            },
            "colorscale": [
             [
              0,
              "#0d0887"
             ],
             [
              0.1111111111111111,
              "#46039f"
             ],
             [
              0.2222222222222222,
              "#7201a8"
             ],
             [
              0.3333333333333333,
              "#9c179e"
             ],
             [
              0.4444444444444444,
              "#bd3786"
             ],
             [
              0.5555555555555556,
              "#d8576b"
             ],
             [
              0.6666666666666666,
              "#ed7953"
             ],
             [
              0.7777777777777778,
              "#fb9f3a"
             ],
             [
              0.8888888888888888,
              "#fdca26"
             ],
             [
              1,
              "#f0f921"
             ]
            ],
            "type": "heatmap"
           }
          ],
          "heatmapgl": [
           {
            "colorbar": {
             "outlinewidth": 0,
             "ticks": ""
            },
            "colorscale": [
             [
              0,
              "#0d0887"
             ],
             [
              0.1111111111111111,
              "#46039f"
             ],
             [
              0.2222222222222222,
              "#7201a8"
             ],
             [
              0.3333333333333333,
              "#9c179e"
             ],
             [
              0.4444444444444444,
              "#bd3786"
             ],
             [
              0.5555555555555556,
              "#d8576b"
             ],
             [
              0.6666666666666666,
              "#ed7953"
             ],
             [
              0.7777777777777778,
              "#fb9f3a"
             ],
             [
              0.8888888888888888,
              "#fdca26"
             ],
             [
              1,
              "#f0f921"
             ]
            ],
            "type": "heatmapgl"
           }
          ],
          "histogram": [
           {
            "marker": {
             "pattern": {
              "fillmode": "overlay",
              "size": 10,
              "solidity": 0.2
             }
            },
            "type": "histogram"
           }
          ],
          "histogram2d": [
           {
            "colorbar": {
             "outlinewidth": 0,
             "ticks": ""
            },
            "colorscale": [
             [
              0,
              "#0d0887"
             ],
             [
              0.1111111111111111,
              "#46039f"
             ],
             [
              0.2222222222222222,
              "#7201a8"
             ],
             [
              0.3333333333333333,
              "#9c179e"
             ],
             [
              0.4444444444444444,
              "#bd3786"
             ],
             [
              0.5555555555555556,
              "#d8576b"
             ],
             [
              0.6666666666666666,
              "#ed7953"
             ],
             [
              0.7777777777777778,
              "#fb9f3a"
             ],
             [
              0.8888888888888888,
              "#fdca26"
             ],
             [
              1,
              "#f0f921"
             ]
            ],
            "type": "histogram2d"
           }
          ],
          "histogram2dcontour": [
           {
            "colorbar": {
             "outlinewidth": 0,
             "ticks": ""
            },
            "colorscale": [
             [
              0,
              "#0d0887"
             ],
             [
              0.1111111111111111,
              "#46039f"
             ],
             [
              0.2222222222222222,
              "#7201a8"
             ],
             [
              0.3333333333333333,
              "#9c179e"
             ],
             [
              0.4444444444444444,
              "#bd3786"
             ],
             [
              0.5555555555555556,
              "#d8576b"
             ],
             [
              0.6666666666666666,
              "#ed7953"
             ],
             [
              0.7777777777777778,
              "#fb9f3a"
             ],
             [
              0.8888888888888888,
              "#fdca26"
             ],
             [
              1,
              "#f0f921"
             ]
            ],
            "type": "histogram2dcontour"
           }
          ],
          "mesh3d": [
           {
            "colorbar": {
             "outlinewidth": 0,
             "ticks": ""
            },
            "type": "mesh3d"
           }
          ],
          "parcoords": [
           {
            "line": {
             "colorbar": {
              "outlinewidth": 0,
              "ticks": ""
             }
            },
            "type": "parcoords"
           }
          ],
          "pie": [
           {
            "automargin": true,
            "type": "pie"
           }
          ],
          "scatter": [
           {
            "fillpattern": {
             "fillmode": "overlay",
             "size": 10,
             "solidity": 0.2
            },
            "type": "scatter"
           }
          ],
          "scatter3d": [
           {
            "line": {
             "colorbar": {
              "outlinewidth": 0,
              "ticks": ""
             }
            },
            "marker": {
             "colorbar": {
              "outlinewidth": 0,
              "ticks": ""
             }
            },
            "type": "scatter3d"
           }
          ],
          "scattercarpet": [
           {
            "marker": {
             "colorbar": {
              "outlinewidth": 0,
              "ticks": ""
             }
            },
            "type": "scattercarpet"
           }
          ],
          "scattergeo": [
           {
            "marker": {
             "colorbar": {
              "outlinewidth": 0,
              "ticks": ""
             }
            },
            "type": "scattergeo"
           }
          ],
          "scattergl": [
           {
            "marker": {
             "colorbar": {
              "outlinewidth": 0,
              "ticks": ""
             }
            },
            "type": "scattergl"
           }
          ],
          "scattermapbox": [
           {
            "marker": {
             "colorbar": {
              "outlinewidth": 0,
              "ticks": ""
             }
            },
            "type": "scattermapbox"
           }
          ],
          "scatterpolar": [
           {
            "marker": {
             "colorbar": {
              "outlinewidth": 0,
              "ticks": ""
             }
            },
            "type": "scatterpolar"
           }
          ],
          "scatterpolargl": [
           {
            "marker": {
             "colorbar": {
              "outlinewidth": 0,
              "ticks": ""
             }
            },
            "type": "scatterpolargl"
           }
          ],
          "scatterternary": [
           {
            "marker": {
             "colorbar": {
              "outlinewidth": 0,
              "ticks": ""
             }
            },
            "type": "scatterternary"
           }
          ],
          "surface": [
           {
            "colorbar": {
             "outlinewidth": 0,
             "ticks": ""
            },
            "colorscale": [
             [
              0,
              "#0d0887"
             ],
             [
              0.1111111111111111,
              "#46039f"
             ],
             [
              0.2222222222222222,
              "#7201a8"
             ],
             [
              0.3333333333333333,
              "#9c179e"
             ],
             [
              0.4444444444444444,
              "#bd3786"
             ],
             [
              0.5555555555555556,
              "#d8576b"
             ],
             [
              0.6666666666666666,
              "#ed7953"
             ],
             [
              0.7777777777777778,
              "#fb9f3a"
             ],
             [
              0.8888888888888888,
              "#fdca26"
             ],
             [
              1,
              "#f0f921"
             ]
            ],
            "type": "surface"
           }
          ],
          "table": [
           {
            "cells": {
             "fill": {
              "color": "#EBF0F8"
             },
             "line": {
              "color": "white"
             }
            },
            "header": {
             "fill": {
              "color": "#C8D4E3"
             },
             "line": {
              "color": "white"
             }
            },
            "type": "table"
           }
          ]
         },
         "layout": {
          "annotationdefaults": {
           "arrowcolor": "#2a3f5f",
           "arrowhead": 0,
           "arrowwidth": 1
          },
          "autotypenumbers": "strict",
          "coloraxis": {
           "colorbar": {
            "outlinewidth": 0,
            "ticks": ""
           }
          },
          "colorscale": {
           "diverging": [
            [
             0,
             "#8e0152"
            ],
            [
             0.1,
             "#c51b7d"
            ],
            [
             0.2,
             "#de77ae"
            ],
            [
             0.3,
             "#f1b6da"
            ],
            [
             0.4,
             "#fde0ef"
            ],
            [
             0.5,
             "#f7f7f7"
            ],
            [
             0.6,
             "#e6f5d0"
            ],
            [
             0.7,
             "#b8e186"
            ],
            [
             0.8,
             "#7fbc41"
            ],
            [
             0.9,
             "#4d9221"
            ],
            [
             1,
             "#276419"
            ]
           ],
           "sequential": [
            [
             0,
             "#0d0887"
            ],
            [
             0.1111111111111111,
             "#46039f"
            ],
            [
             0.2222222222222222,
             "#7201a8"
            ],
            [
             0.3333333333333333,
             "#9c179e"
            ],
            [
             0.4444444444444444,
             "#bd3786"
            ],
            [
             0.5555555555555556,
             "#d8576b"
            ],
            [
             0.6666666666666666,
             "#ed7953"
            ],
            [
             0.7777777777777778,
             "#fb9f3a"
            ],
            [
             0.8888888888888888,
             "#fdca26"
            ],
            [
             1,
             "#f0f921"
            ]
           ],
           "sequentialminus": [
            [
             0,
             "#0d0887"
            ],
            [
             0.1111111111111111,
             "#46039f"
            ],
            [
             0.2222222222222222,
             "#7201a8"
            ],
            [
             0.3333333333333333,
             "#9c179e"
            ],
            [
             0.4444444444444444,
             "#bd3786"
            ],
            [
             0.5555555555555556,
             "#d8576b"
            ],
            [
             0.6666666666666666,
             "#ed7953"
            ],
            [
             0.7777777777777778,
             "#fb9f3a"
            ],
            [
             0.8888888888888888,
             "#fdca26"
            ],
            [
             1,
             "#f0f921"
            ]
           ]
          },
          "colorway": [
           "#636efa",
           "#EF553B",
           "#00cc96",
           "#ab63fa",
           "#FFA15A",
           "#19d3f3",
           "#FF6692",
           "#B6E880",
           "#FF97FF",
           "#FECB52"
          ],
          "font": {
           "color": "#2a3f5f"
          },
          "geo": {
           "bgcolor": "white",
           "lakecolor": "white",
           "landcolor": "#E5ECF6",
           "showlakes": true,
           "showland": true,
           "subunitcolor": "white"
          },
          "hoverlabel": {
           "align": "left"
          },
          "hovermode": "closest",
          "mapbox": {
           "style": "light"
          },
          "paper_bgcolor": "white",
          "plot_bgcolor": "#E5ECF6",
          "polar": {
           "angularaxis": {
            "gridcolor": "white",
            "linecolor": "white",
            "ticks": ""
           },
           "bgcolor": "#E5ECF6",
           "radialaxis": {
            "gridcolor": "white",
            "linecolor": "white",
            "ticks": ""
           }
          },
          "scene": {
           "xaxis": {
            "backgroundcolor": "#E5ECF6",
            "gridcolor": "white",
            "gridwidth": 2,
            "linecolor": "white",
            "showbackground": true,
            "ticks": "",
            "zerolinecolor": "white"
           },
           "yaxis": {
            "backgroundcolor": "#E5ECF6",
            "gridcolor": "white",
            "gridwidth": 2,
            "linecolor": "white",
            "showbackground": true,
            "ticks": "",
            "zerolinecolor": "white"
           },
           "zaxis": {
            "backgroundcolor": "#E5ECF6",
            "gridcolor": "white",
            "gridwidth": 2,
            "linecolor": "white",
            "showbackground": true,
            "ticks": "",
            "zerolinecolor": "white"
           }
          },
          "shapedefaults": {
           "line": {
            "color": "#2a3f5f"
           }
          },
          "ternary": {
           "aaxis": {
            "gridcolor": "white",
            "linecolor": "white",
            "ticks": ""
           },
           "baxis": {
            "gridcolor": "white",
            "linecolor": "white",
            "ticks": ""
           },
           "bgcolor": "#E5ECF6",
           "caxis": {
            "gridcolor": "white",
            "linecolor": "white",
            "ticks": ""
           }
          },
          "title": {
           "x": 0.05
          },
          "xaxis": {
           "automargin": true,
           "gridcolor": "white",
           "linecolor": "white",
           "ticks": "",
           "title": {
            "standoff": 15
           },
           "zerolinecolor": "white",
           "zerolinewidth": 2
          },
          "yaxis": {
           "automargin": true,
           "gridcolor": "white",
           "linecolor": "white",
           "ticks": "",
           "title": {
            "standoff": 15
           },
           "zerolinecolor": "white",
           "zerolinewidth": 2
          }
         }
        },
        "title": {
         "text": "Average Number of Motion Picture Votes as Time passes"
        },
        "xaxis": {
         "anchor": "y",
         "domain": [
          0,
          1
         ],
         "title": {
          "text": "year"
         }
        },
        "yaxis": {
         "anchor": "x",
         "domain": [
          0,
          1
         ],
         "title": {
          "text": "num_votes"
         }
        }
       }
      }
     },
     "metadata": {},
     "output_type": "display_data"
    }
   ],
   "source": [
    "fig = px.line(result, x = \"year\", y = \"num_votes\", title = \"Average Number of Motion Picture Votes as Time passes\")\n",
    "fig.show()"
   ]
  },
  {
   "cell_type": "markdown",
   "metadata": {},
   "source": [
    "The average number of motion picture votes has flutuated historically. From 1919 to 2000, the average ratings were on a slow incline, but from there onwards it seems that the average motion picture doesn't have as many reviews. There are a couple things that could explain this. It is far easier to make a film today than it has been in the past, thanks to high quality phone recordings. It is possible that IMDB is more saturated with indie films today that do not recieve reviews, bringing the average down."
   ]
  },
  {
   "cell_type": "code",
   "execution_count": 330,
   "metadata": {},
   "outputs": [],
   "source": [
    "year_counts = df.groupby(by = [\"start_year\"])[[\"rating\",\"run_time\", \"num_votes\"]].size()"
   ]
  },
  {
   "cell_type": "code",
   "execution_count": 331,
   "metadata": {},
   "outputs": [
    {
     "data": {
      "application/vnd.plotly.v1+json": {
       "config": {
        "plotlyServerURL": "https://plot.ly"
       },
       "data": [
        {
         "hovertemplate": "variable=0<br>start_year=%{x}<br>value=%{y}<extra></extra>",
         "legendgroup": "0",
         "line": {
          "color": "#636efa",
          "dash": "solid"
         },
         "marker": {
          "symbol": "circle"
         },
         "mode": "lines",
         "name": "0",
         "orientation": "v",
         "showlegend": true,
         "type": "scatter",
         "x": [
          1874,
          1877,
          1878,
          1881,
          1882,
          1883,
          1885,
          1887,
          1888,
          1889,
          1890,
          1891,
          1892,
          1893,
          1894,
          1895,
          1896,
          1897,
          1898,
          1899,
          1900,
          1901,
          1902,
          1903,
          1904,
          1905,
          1906,
          1907,
          1908,
          1909,
          1910,
          1911,
          1912,
          1913,
          1914,
          1915,
          1916,
          1917,
          1918,
          1919,
          1920,
          1921,
          1922,
          1923,
          1924,
          1925,
          1926,
          1927,
          1928,
          1929,
          1930,
          1931,
          1932,
          1933,
          1934,
          1935,
          1936,
          1937,
          1938,
          1939,
          1940,
          1941,
          1942,
          1943,
          1944,
          1945,
          1946,
          1947,
          1948,
          1949,
          1950,
          1951,
          1952,
          1953,
          1954,
          1955,
          1956,
          1957,
          1958,
          1959,
          1960,
          1961,
          1962,
          1963,
          1964,
          1965,
          1966,
          1967,
          1968,
          1969,
          1970,
          1971,
          1972,
          1973,
          1974,
          1975,
          1976,
          1977,
          1978,
          1979,
          1980,
          1981,
          1982,
          1983,
          1984,
          1985,
          1986,
          1987,
          1988,
          1989,
          1990,
          1991,
          1992,
          1993,
          1994,
          1995,
          1996,
          1997,
          1998,
          1999,
          2000,
          2001,
          2002,
          2003,
          2004,
          2005,
          2006,
          2007,
          2008,
          2009,
          2010,
          2011,
          2012,
          2013,
          2014,
          2015,
          2016,
          2017,
          2018,
          2019,
          2020,
          2021,
          2022,
          2023,
          2024,
          2025
         ],
         "xaxis": "x",
         "y": [
          1,
          4,
          3,
          2,
          2,
          1,
          1,
          45,
          5,
          2,
          7,
          10,
          8,
          4,
          97,
          114,
          704,
          726,
          426,
          312,
          325,
          252,
          224,
          291,
          272,
          233,
          277,
          263,
          341,
          392,
          428,
          517,
          642,
          509,
          464,
          552,
          518,
          506,
          452,
          472,
          487,
          475,
          473,
          528,
          542,
          666,
          755,
          799,
          860,
          930,
          1063,
          1193,
          1327,
          1246,
          1378,
          1429,
          1482,
          1482,
          1512,
          1421,
          1415,
          1435,
          1452,
          1338,
          1159,
          1051,
          1149,
          1203,
          1293,
          1518,
          1776,
          1985,
          2300,
          2626,
          2648,
          3251,
          3330,
          3706,
          4067,
          4603,
          4886,
          4898,
          4471,
          4455,
          4625,
          5330,
          5600,
          5899,
          5581,
          5915,
          5868,
          5899,
          6046,
          6308,
          6170,
          6153,
          6364,
          6681,
          6944,
          7108,
          6570,
          6617,
          6860,
          7393,
          7865,
          8981,
          9117,
          9451,
          8936,
          9914,
          10073,
          10399,
          10410,
          11292,
          12196,
          13104,
          13673,
          14928,
          15961,
          17327,
          18572,
          19820,
          21458,
          23046,
          25823,
          29666,
          32151,
          31820,
          33636,
          36315,
          37832,
          43082,
          46845,
          47471,
          50086,
          52000,
          56698,
          59508,
          60043,
          61573,
          56534,
          58983,
          59194,
          51399,
          10625,
          1
         ],
         "yaxis": "y"
        }
       ],
       "layout": {
        "legend": {
         "title": {
          "text": "variable"
         },
         "tracegroupgap": 0
        },
        "showlegend": false,
        "template": {
         "data": {
          "bar": [
           {
            "error_x": {
             "color": "#2a3f5f"
            },
            "error_y": {
             "color": "#2a3f5f"
            },
            "marker": {
             "line": {
              "color": "#E5ECF6",
              "width": 0.5
             },
             "pattern": {
              "fillmode": "overlay",
              "size": 10,
              "solidity": 0.2
             }
            },
            "type": "bar"
           }
          ],
          "barpolar": [
           {
            "marker": {
             "line": {
              "color": "#E5ECF6",
              "width": 0.5
             },
             "pattern": {
              "fillmode": "overlay",
              "size": 10,
              "solidity": 0.2
             }
            },
            "type": "barpolar"
           }
          ],
          "carpet": [
           {
            "aaxis": {
             "endlinecolor": "#2a3f5f",
             "gridcolor": "white",
             "linecolor": "white",
             "minorgridcolor": "white",
             "startlinecolor": "#2a3f5f"
            },
            "baxis": {
             "endlinecolor": "#2a3f5f",
             "gridcolor": "white",
             "linecolor": "white",
             "minorgridcolor": "white",
             "startlinecolor": "#2a3f5f"
            },
            "type": "carpet"
           }
          ],
          "choropleth": [
           {
            "colorbar": {
             "outlinewidth": 0,
             "ticks": ""
            },
            "type": "choropleth"
           }
          ],
          "contour": [
           {
            "colorbar": {
             "outlinewidth": 0,
             "ticks": ""
            },
            "colorscale": [
             [
              0,
              "#0d0887"
             ],
             [
              0.1111111111111111,
              "#46039f"
             ],
             [
              0.2222222222222222,
              "#7201a8"
             ],
             [
              0.3333333333333333,
              "#9c179e"
             ],
             [
              0.4444444444444444,
              "#bd3786"
             ],
             [
              0.5555555555555556,
              "#d8576b"
             ],
             [
              0.6666666666666666,
              "#ed7953"
             ],
             [
              0.7777777777777778,
              "#fb9f3a"
             ],
             [
              0.8888888888888888,
              "#fdca26"
             ],
             [
              1,
              "#f0f921"
             ]
            ],
            "type": "contour"
           }
          ],
          "contourcarpet": [
           {
            "colorbar": {
             "outlinewidth": 0,
             "ticks": ""
            },
            "type": "contourcarpet"
           }
          ],
          "heatmap": [
           {
            "colorbar": {
             "outlinewidth": 0,
             "ticks": ""
            },
            "colorscale": [
             [
              0,
              "#0d0887"
             ],
             [
              0.1111111111111111,
              "#46039f"
             ],
             [
              0.2222222222222222,
              "#7201a8"
             ],
             [
              0.3333333333333333,
              "#9c179e"
             ],
             [
              0.4444444444444444,
              "#bd3786"
             ],
             [
              0.5555555555555556,
              "#d8576b"
             ],
             [
              0.6666666666666666,
              "#ed7953"
             ],
             [
              0.7777777777777778,
              "#fb9f3a"
             ],
             [
              0.8888888888888888,
              "#fdca26"
             ],
             [
              1,
              "#f0f921"
             ]
            ],
            "type": "heatmap"
           }
          ],
          "heatmapgl": [
           {
            "colorbar": {
             "outlinewidth": 0,
             "ticks": ""
            },
            "colorscale": [
             [
              0,
              "#0d0887"
             ],
             [
              0.1111111111111111,
              "#46039f"
             ],
             [
              0.2222222222222222,
              "#7201a8"
             ],
             [
              0.3333333333333333,
              "#9c179e"
             ],
             [
              0.4444444444444444,
              "#bd3786"
             ],
             [
              0.5555555555555556,
              "#d8576b"
             ],
             [
              0.6666666666666666,
              "#ed7953"
             ],
             [
              0.7777777777777778,
              "#fb9f3a"
             ],
             [
              0.8888888888888888,
              "#fdca26"
             ],
             [
              1,
              "#f0f921"
             ]
            ],
            "type": "heatmapgl"
           }
          ],
          "histogram": [
           {
            "marker": {
             "pattern": {
              "fillmode": "overlay",
              "size": 10,
              "solidity": 0.2
             }
            },
            "type": "histogram"
           }
          ],
          "histogram2d": [
           {
            "colorbar": {
             "outlinewidth": 0,
             "ticks": ""
            },
            "colorscale": [
             [
              0,
              "#0d0887"
             ],
             [
              0.1111111111111111,
              "#46039f"
             ],
             [
              0.2222222222222222,
              "#7201a8"
             ],
             [
              0.3333333333333333,
              "#9c179e"
             ],
             [
              0.4444444444444444,
              "#bd3786"
             ],
             [
              0.5555555555555556,
              "#d8576b"
             ],
             [
              0.6666666666666666,
              "#ed7953"
             ],
             [
              0.7777777777777778,
              "#fb9f3a"
             ],
             [
              0.8888888888888888,
              "#fdca26"
             ],
             [
              1,
              "#f0f921"
             ]
            ],
            "type": "histogram2d"
           }
          ],
          "histogram2dcontour": [
           {
            "colorbar": {
             "outlinewidth": 0,
             "ticks": ""
            },
            "colorscale": [
             [
              0,
              "#0d0887"
             ],
             [
              0.1111111111111111,
              "#46039f"
             ],
             [
              0.2222222222222222,
              "#7201a8"
             ],
             [
              0.3333333333333333,
              "#9c179e"
             ],
             [
              0.4444444444444444,
              "#bd3786"
             ],
             [
              0.5555555555555556,
              "#d8576b"
             ],
             [
              0.6666666666666666,
              "#ed7953"
             ],
             [
              0.7777777777777778,
              "#fb9f3a"
             ],
             [
              0.8888888888888888,
              "#fdca26"
             ],
             [
              1,
              "#f0f921"
             ]
            ],
            "type": "histogram2dcontour"
           }
          ],
          "mesh3d": [
           {
            "colorbar": {
             "outlinewidth": 0,
             "ticks": ""
            },
            "type": "mesh3d"
           }
          ],
          "parcoords": [
           {
            "line": {
             "colorbar": {
              "outlinewidth": 0,
              "ticks": ""
             }
            },
            "type": "parcoords"
           }
          ],
          "pie": [
           {
            "automargin": true,
            "type": "pie"
           }
          ],
          "scatter": [
           {
            "fillpattern": {
             "fillmode": "overlay",
             "size": 10,
             "solidity": 0.2
            },
            "type": "scatter"
           }
          ],
          "scatter3d": [
           {
            "line": {
             "colorbar": {
              "outlinewidth": 0,
              "ticks": ""
             }
            },
            "marker": {
             "colorbar": {
              "outlinewidth": 0,
              "ticks": ""
             }
            },
            "type": "scatter3d"
           }
          ],
          "scattercarpet": [
           {
            "marker": {
             "colorbar": {
              "outlinewidth": 0,
              "ticks": ""
             }
            },
            "type": "scattercarpet"
           }
          ],
          "scattergeo": [
           {
            "marker": {
             "colorbar": {
              "outlinewidth": 0,
              "ticks": ""
             }
            },
            "type": "scattergeo"
           }
          ],
          "scattergl": [
           {
            "marker": {
             "colorbar": {
              "outlinewidth": 0,
              "ticks": ""
             }
            },
            "type": "scattergl"
           }
          ],
          "scattermapbox": [
           {
            "marker": {
             "colorbar": {
              "outlinewidth": 0,
              "ticks": ""
             }
            },
            "type": "scattermapbox"
           }
          ],
          "scatterpolar": [
           {
            "marker": {
             "colorbar": {
              "outlinewidth": 0,
              "ticks": ""
             }
            },
            "type": "scatterpolar"
           }
          ],
          "scatterpolargl": [
           {
            "marker": {
             "colorbar": {
              "outlinewidth": 0,
              "ticks": ""
             }
            },
            "type": "scatterpolargl"
           }
          ],
          "scatterternary": [
           {
            "marker": {
             "colorbar": {
              "outlinewidth": 0,
              "ticks": ""
             }
            },
            "type": "scatterternary"
           }
          ],
          "surface": [
           {
            "colorbar": {
             "outlinewidth": 0,
             "ticks": ""
            },
            "colorscale": [
             [
              0,
              "#0d0887"
             ],
             [
              0.1111111111111111,
              "#46039f"
             ],
             [
              0.2222222222222222,
              "#7201a8"
             ],
             [
              0.3333333333333333,
              "#9c179e"
             ],
             [
              0.4444444444444444,
              "#bd3786"
             ],
             [
              0.5555555555555556,
              "#d8576b"
             ],
             [
              0.6666666666666666,
              "#ed7953"
             ],
             [
              0.7777777777777778,
              "#fb9f3a"
             ],
             [
              0.8888888888888888,
              "#fdca26"
             ],
             [
              1,
              "#f0f921"
             ]
            ],
            "type": "surface"
           }
          ],
          "table": [
           {
            "cells": {
             "fill": {
              "color": "#EBF0F8"
             },
             "line": {
              "color": "white"
             }
            },
            "header": {
             "fill": {
              "color": "#C8D4E3"
             },
             "line": {
              "color": "white"
             }
            },
            "type": "table"
           }
          ]
         },
         "layout": {
          "annotationdefaults": {
           "arrowcolor": "#2a3f5f",
           "arrowhead": 0,
           "arrowwidth": 1
          },
          "autotypenumbers": "strict",
          "coloraxis": {
           "colorbar": {
            "outlinewidth": 0,
            "ticks": ""
           }
          },
          "colorscale": {
           "diverging": [
            [
             0,
             "#8e0152"
            ],
            [
             0.1,
             "#c51b7d"
            ],
            [
             0.2,
             "#de77ae"
            ],
            [
             0.3,
             "#f1b6da"
            ],
            [
             0.4,
             "#fde0ef"
            ],
            [
             0.5,
             "#f7f7f7"
            ],
            [
             0.6,
             "#e6f5d0"
            ],
            [
             0.7,
             "#b8e186"
            ],
            [
             0.8,
             "#7fbc41"
            ],
            [
             0.9,
             "#4d9221"
            ],
            [
             1,
             "#276419"
            ]
           ],
           "sequential": [
            [
             0,
             "#0d0887"
            ],
            [
             0.1111111111111111,
             "#46039f"
            ],
            [
             0.2222222222222222,
             "#7201a8"
            ],
            [
             0.3333333333333333,
             "#9c179e"
            ],
            [
             0.4444444444444444,
             "#bd3786"
            ],
            [
             0.5555555555555556,
             "#d8576b"
            ],
            [
             0.6666666666666666,
             "#ed7953"
            ],
            [
             0.7777777777777778,
             "#fb9f3a"
            ],
            [
             0.8888888888888888,
             "#fdca26"
            ],
            [
             1,
             "#f0f921"
            ]
           ],
           "sequentialminus": [
            [
             0,
             "#0d0887"
            ],
            [
             0.1111111111111111,
             "#46039f"
            ],
            [
             0.2222222222222222,
             "#7201a8"
            ],
            [
             0.3333333333333333,
             "#9c179e"
            ],
            [
             0.4444444444444444,
             "#bd3786"
            ],
            [
             0.5555555555555556,
             "#d8576b"
            ],
            [
             0.6666666666666666,
             "#ed7953"
            ],
            [
             0.7777777777777778,
             "#fb9f3a"
            ],
            [
             0.8888888888888888,
             "#fdca26"
            ],
            [
             1,
             "#f0f921"
            ]
           ]
          },
          "colorway": [
           "#636efa",
           "#EF553B",
           "#00cc96",
           "#ab63fa",
           "#FFA15A",
           "#19d3f3",
           "#FF6692",
           "#B6E880",
           "#FF97FF",
           "#FECB52"
          ],
          "font": {
           "color": "#2a3f5f"
          },
          "geo": {
           "bgcolor": "white",
           "lakecolor": "white",
           "landcolor": "#E5ECF6",
           "showlakes": true,
           "showland": true,
           "subunitcolor": "white"
          },
          "hoverlabel": {
           "align": "left"
          },
          "hovermode": "closest",
          "mapbox": {
           "style": "light"
          },
          "paper_bgcolor": "white",
          "plot_bgcolor": "#E5ECF6",
          "polar": {
           "angularaxis": {
            "gridcolor": "white",
            "linecolor": "white",
            "ticks": ""
           },
           "bgcolor": "#E5ECF6",
           "radialaxis": {
            "gridcolor": "white",
            "linecolor": "white",
            "ticks": ""
           }
          },
          "scene": {
           "xaxis": {
            "backgroundcolor": "#E5ECF6",
            "gridcolor": "white",
            "gridwidth": 2,
            "linecolor": "white",
            "showbackground": true,
            "ticks": "",
            "zerolinecolor": "white"
           },
           "yaxis": {
            "backgroundcolor": "#E5ECF6",
            "gridcolor": "white",
            "gridwidth": 2,
            "linecolor": "white",
            "showbackground": true,
            "ticks": "",
            "zerolinecolor": "white"
           },
           "zaxis": {
            "backgroundcolor": "#E5ECF6",
            "gridcolor": "white",
            "gridwidth": 2,
            "linecolor": "white",
            "showbackground": true,
            "ticks": "",
            "zerolinecolor": "white"
           }
          },
          "shapedefaults": {
           "line": {
            "color": "#2a3f5f"
           }
          },
          "ternary": {
           "aaxis": {
            "gridcolor": "white",
            "linecolor": "white",
            "ticks": ""
           },
           "baxis": {
            "gridcolor": "white",
            "linecolor": "white",
            "ticks": ""
           },
           "bgcolor": "#E5ECF6",
           "caxis": {
            "gridcolor": "white",
            "linecolor": "white",
            "ticks": ""
           }
          },
          "title": {
           "x": 0.05
          },
          "xaxis": {
           "automargin": true,
           "gridcolor": "white",
           "linecolor": "white",
           "ticks": "",
           "title": {
            "standoff": 15
           },
           "zerolinecolor": "white",
           "zerolinewidth": 2
          },
          "yaxis": {
           "automargin": true,
           "gridcolor": "white",
           "linecolor": "white",
           "ticks": "",
           "title": {
            "standoff": 15
           },
           "zerolinecolor": "white",
           "zerolinewidth": 2
          }
         }
        },
        "title": {
         "text": "Count of Yearly Motion Pictures Produced"
        },
        "xaxis": {
         "anchor": "y",
         "domain": [
          0,
          1
         ],
         "title": {
          "text": "start_year"
         }
        },
        "yaxis": {
         "anchor": "x",
         "domain": [
          0,
          1
         ],
         "title": {
          "text": "value"
         }
        }
       }
      }
     },
     "metadata": {},
     "output_type": "display_data"
    }
   ],
   "source": [
    "fig = px.line(year_counts,  title = \"Count of Yearly Motion Pictures Produced\")\n",
    "fig.update_layout(showlegend =False)\n",
    "fig.show()"
   ]
  },
  {
   "cell_type": "markdown",
   "metadata": {},
   "source": [
    "As expected, the trend of motion pictures being produced has skyrocketed around the time that our average number of votes has fallen. Although I have no concrete evidence, I can confidently say that smartphones have lowered the barrier to motion picture production, increasing the influx of IMDB entries and lowering average amount of votes on IMDB entries."
   ]
  },
  {
   "cell_type": "code",
   "execution_count": 332,
   "metadata": {},
   "outputs": [
    {
     "data": {
      "text/html": [
       "<div>\n",
       "<style scoped>\n",
       "    .dataframe tbody tr th:only-of-type {\n",
       "        vertical-align: middle;\n",
       "    }\n",
       "\n",
       "    .dataframe tbody tr th {\n",
       "        vertical-align: top;\n",
       "    }\n",
       "\n",
       "    .dataframe thead th {\n",
       "        text-align: right;\n",
       "    }\n",
       "</style>\n",
       "<table border=\"1\" class=\"dataframe\">\n",
       "  <thead>\n",
       "    <tr style=\"text-align: right;\">\n",
       "      <th></th>\n",
       "      <th>year</th>\n",
       "      <th>rating</th>\n",
       "      <th>run_time</th>\n",
       "      <th>num_votes</th>\n",
       "      <th>titleID</th>\n",
       "      <th>title</th>\n",
       "    </tr>\n",
       "  </thead>\n",
       "  <tbody>\n",
       "    <tr>\n",
       "      <th>0</th>\n",
       "      <td>1874</td>\n",
       "      <td>6.8</td>\n",
       "      <td>1.0</td>\n",
       "      <td>2067</td>\n",
       "      <td>tt3155794</td>\n",
       "      <td>Passage de Venus</td>\n",
       "    </tr>\n",
       "    <tr>\n",
       "      <th>1</th>\n",
       "      <td>1877</td>\n",
       "      <td>5.8</td>\n",
       "      <td>1.0</td>\n",
       "      <td>320</td>\n",
       "      <td>tt16763774</td>\n",
       "      <td>The Tight-rope Dance</td>\n",
       "    </tr>\n",
       "    <tr>\n",
       "      <th>2</th>\n",
       "      <td>1878</td>\n",
       "      <td>7.4</td>\n",
       "      <td>1.0</td>\n",
       "      <td>3659</td>\n",
       "      <td>tt27119262</td>\n",
       "      <td>Sallie Gardner at a Gallop</td>\n",
       "    </tr>\n",
       "    <tr>\n",
       "      <th>3</th>\n",
       "      <td>1881</td>\n",
       "      <td>6.1</td>\n",
       "      <td>1.0</td>\n",
       "      <td>563</td>\n",
       "      <td>tt7816420</td>\n",
       "      <td>Skeleton of Horse</td>\n",
       "    </tr>\n",
       "    <tr>\n",
       "      <th>4</th>\n",
       "      <td>1882</td>\n",
       "      <td>6.2</td>\n",
       "      <td>1.0</td>\n",
       "      <td>333</td>\n",
       "      <td>tt16263734</td>\n",
       "      <td>The Kiss</td>\n",
       "    </tr>\n",
       "    <tr>\n",
       "      <th>...</th>\n",
       "      <td>...</td>\n",
       "      <td>...</td>\n",
       "      <td>...</td>\n",
       "      <td>...</td>\n",
       "      <td>...</td>\n",
       "      <td>...</td>\n",
       "    </tr>\n",
       "    <tr>\n",
       "      <th>141</th>\n",
       "      <td>2021</td>\n",
       "      <td>10.0</td>\n",
       "      <td>3000.0</td>\n",
       "      <td>875357</td>\n",
       "      <td>tt9914972</td>\n",
       "      <td>Überwachen und belohnen</td>\n",
       "    </tr>\n",
       "    <tr>\n",
       "      <th>142</th>\n",
       "      <td>2022</td>\n",
       "      <td>10.0</td>\n",
       "      <td>2252.0</td>\n",
       "      <td>783785</td>\n",
       "      <td>tt9916128</td>\n",
       "      <td>Üçgen</td>\n",
       "    </tr>\n",
       "    <tr>\n",
       "      <th>143</th>\n",
       "      <td>2023</td>\n",
       "      <td>10.0</td>\n",
       "      <td>11541.0</td>\n",
       "      <td>711261</td>\n",
       "      <td>tt9900816</td>\n",
       "      <td>【Oshi No Ko】</td>\n",
       "    </tr>\n",
       "    <tr>\n",
       "      <th>144</th>\n",
       "      <td>2024</td>\n",
       "      <td>10.0</td>\n",
       "      <td>385.0</td>\n",
       "      <td>322051</td>\n",
       "      <td>tt9859436</td>\n",
       "      <td>Þáttur 1</td>\n",
       "    </tr>\n",
       "    <tr>\n",
       "      <th>145</th>\n",
       "      <td>2025</td>\n",
       "      <td>7.4</td>\n",
       "      <td>NaN</td>\n",
       "      <td>8</td>\n",
       "      <td>tt16275832</td>\n",
       "      <td>Lost Recipes S1</td>\n",
       "    </tr>\n",
       "  </tbody>\n",
       "</table>\n",
       "<p>146 rows × 6 columns</p>\n",
       "</div>"
      ],
      "text/plain": [
       "     year  rating  run_time  num_votes     titleID                       title\n",
       "0    1874     6.8       1.0       2067   tt3155794            Passage de Venus\n",
       "1    1877     5.8       1.0        320  tt16763774        The Tight-rope Dance\n",
       "2    1878     7.4       1.0       3659  tt27119262  Sallie Gardner at a Gallop\n",
       "3    1881     6.1       1.0        563   tt7816420           Skeleton of Horse\n",
       "4    1882     6.2       1.0        333  tt16263734                    The Kiss\n",
       "..    ...     ...       ...        ...         ...                         ...\n",
       "141  2021    10.0    3000.0     875357   tt9914972     Überwachen und belohnen\n",
       "142  2022    10.0    2252.0     783785   tt9916128                       Üçgen\n",
       "143  2023    10.0   11541.0     711261   tt9900816                【Oshi No Ko】\n",
       "144  2024    10.0     385.0     322051   tt9859436                    Þáttur 1\n",
       "145  2025     7.4       NaN          8  tt16275832             Lost Recipes S1\n",
       "\n",
       "[146 rows x 6 columns]"
      ]
     },
     "execution_count": 332,
     "metadata": {},
     "output_type": "execute_result"
    }
   ],
   "source": [
    "result = df.groupby(by = \"start_year\")[[\"rating\",\"run_time\", \"num_votes\",\"titleID\",\"primary_title\"]].max()\n",
    "result = result.reset_index()\n",
    "result.columns = [\"year\", \"rating\", \"run_time\", \"num_votes\", \"titleID\",\"title\"]\n",
    "result[\"year\"] = result[\"year\"].astype(int)\n",
    "result[\"num_votes\"] = result[\"num_votes\"].astype(int)\n",
    "result"
   ]
  },
  {
   "cell_type": "code",
   "execution_count": 333,
   "metadata": {},
   "outputs": [],
   "source": [
    "filter_index = df.groupby(\"start_year\")[\"num_votes\"].idxmax()\n",
    "filter_index\n",
    "result = df.loc[filter_index, [\"start_year\", \"primary_title\", \"rating\", \"num_votes\"]]"
   ]
  },
  {
   "cell_type": "code",
   "execution_count": 334,
   "metadata": {},
   "outputs": [
    {
     "data": {
      "text/plain": [
       "<matplotlib.legend.Legend at 0x2542a06fa10>"
      ]
     },
     "execution_count": 334,
     "metadata": {},
     "output_type": "execute_result"
    },
    {
     "data": {
      "image/png": "[encoded data removed]",
      "text/plain": [
       "<Figure size 1170x827 with 2 Axes>"
      ]
     },
     "metadata": {},
     "output_type": "display_data"
    }
   ],
   "source": [
    "sns.set_theme(rc = {'figure.figsize':(11.7,8.27)})\n",
    "fig,ax1 = plt.subplots()\n",
    "plt.suptitle(\"Trends in Ratings and Number of Votes in the Most Voted Movies for Each Year\")\n",
    "ax2 = ax1.twinx()\n",
    "a, = ax1.plot( result[\"start_year\"],result[\"num_votes\"],color = \"tab:red\", label = \"Number of votes Received\")\n",
    "b, = ax2.plot(result[\"start_year\"], result[\"rating\"], color =  \"tab:blue\", label = \"rating\")\n",
    "ax1.grid(False)\n",
    "ax2.grid(False)\n",
    "ax1.set_ylabel(\"Number of Votes (millions)\")\n",
    "ax2.set_ylabel(\"Rating\")\n",
    "p  = [a,b]\n",
    "ax1.legend(p, [p_.get_label() for p_ in p],\n",
    "                loc = \"upper center\", fontsize = \"small\")"
   ]
  },
  {
   "cell_type": "markdown",
   "metadata": {},
   "source": [
    "As a proxy for trends in block buster films, I have selected the film with the largest amount of votes from each year, and looked at its trends in rating and viewership. Historically, the number of votes for the highest voted movies has increased, until around 2015 where it appears that the trend is decreasing. The rating of the motion picture increaed until about 1930, where it has been mostly static."
   ]
  },
  {
   "cell_type": "markdown",
   "metadata": {},
   "source": [
    "### Cinema Genre Analysis:\n",
    "Now we can analyze movie genres to determine which genre of movie would be the most profitable. As I do not have information on the amount that movies have grossed, I will be using ratings and number of reviews as a proxy for movie success. To begin with I will create a list of all the unique genres present in our dataset"
   ]
  },
  {
   "cell_type": "code",
   "execution_count": 335,
   "metadata": {},
   "outputs": [],
   "source": [
    "def split_string(string):\n",
    "    if string:\n",
    "        return string.split(\",\")\n",
    "    else:\n",
    "        return []\n",
    "word_list = df[\"genres\"].apply(split_string)\n",
    "word_list = [word for sublist in word_list for word in sublist]"
   ]
  },
  {
   "cell_type": "markdown",
   "metadata": {},
   "source": [
    "To look at the list of unique genres, we can create a set object:"
   ]
  },
  {
   "cell_type": "code",
   "execution_count": 336,
   "metadata": {},
   "outputs": [
    {
     "data": {
      "text/plain": [
       "{'Action',\n",
       " 'Adult',\n",
       " 'Adventure',\n",
       " 'Animation',\n",
       " 'Biography',\n",
       " 'Comedy',\n",
       " 'Crime',\n",
       " 'Documentary',\n",
       " 'Drama',\n",
       " 'Family',\n",
       " 'Fantasy',\n",
       " 'Film-Noir',\n",
       " 'Game-Show',\n",
       " 'History',\n",
       " 'Horror',\n",
       " 'Music',\n",
       " 'Musical',\n",
       " 'Mystery',\n",
       " 'News',\n",
       " 'Reality-TV',\n",
       " 'Romance',\n",
       " 'Sci-Fi',\n",
       " 'Short',\n",
       " 'Sport',\n",
       " 'Talk-Show',\n",
       " 'Thriller',\n",
       " 'War',\n",
       " 'Western'}"
      ]
     },
     "execution_count": 336,
     "metadata": {},
     "output_type": "execute_result"
    }
   ],
   "source": [
    "unique_genres = set(word_list)\n",
    "unique_genres"
   ]
  },
  {
   "cell_type": "code",
   "execution_count": 337,
   "metadata": {},
   "outputs": [],
   "source": [
    "genre_counts = Counter(word_list)\n",
    "genre_counts = pd.DataFrame.from_dict(genre_counts, orient = \"index\").reset_index()\n",
    "genre_counts = genre_counts.rename(columns= {\"index\":\"genre\", 0:\"count\"})\n",
    "genre_counts = genre_counts.sort_values(by = \"count\", ascending = False)"
   ]
  },
  {
   "cell_type": "code",
   "execution_count": 338,
   "metadata": {},
   "outputs": [
    {
     "data": {
      "text/plain": [
       "<function matplotlib.pyplot.show(close=None, block=None)>"
      ]
     },
     "execution_count": 338,
     "metadata": {},
     "output_type": "execute_result"
    },
    {
     "data": {
      "image/png": "[encoded data removed]",
      "text/plain": [
       "<Figure size 1170x827 with 1 Axes>"
      ]
     },
     "metadata": {},
     "output_type": "display_data"
    }
   ],
   "source": [
    "\n",
    "g = sns.barplot(genre_counts, x = \"genre\",  y= \"count\")\n",
    "plt.title(\"Total Counts for each Cinema Genre\")\n",
    "plt.xticks(rotation = 90)\n",
    "plt.show"
   ]
  },
  {
   "cell_type": "markdown",
   "metadata": {},
   "source": [
    "The most common genres by a large margin are drama and comedies. \n",
    "\n",
    "For easier analysis and grouping of genres, we will create a column with the genres as a list:"
   ]
  },
  {
   "cell_type": "code",
   "execution_count": 339,
   "metadata": {},
   "outputs": [],
   "source": [
    "df[\"genre_list\"] = df[\"genres\"].apply(split_string)\n"
   ]
  },
  {
   "cell_type": "code",
   "execution_count": 340,
   "metadata": {},
   "outputs": [],
   "source": [
    "genre_dict = {}\n",
    "for genre in unique_genres:\n",
    "    temp_dict = {}\n",
    "    temp = df[df[\"genre_list\"].apply(lambda x: genre in x)]\n",
    "    \n",
    "    temp_dict[\"rating_avg\"] = temp[\"rating\"].mean()\n",
    "    temp_dict[\"votes_avg\"] = temp[\"num_votes\"].mean()\n",
    "    temp_dict[\"run_time_avg\"] = temp[\"run_time\"].mean()\n",
    "    \n",
    "\n",
    "    temp_dict[\"rating_max\"] = temp[\"rating\"].max()\n",
    "    temp_dict[\"voting_max\"] = temp[\"num_votes\"].max()\n",
    "    temp_dict[\"run_time_max\"] = temp[\"run_time\"].max()\n",
    "    \n",
    "    temp_dict[\"rating_var\"] = temp[\"rating\"].var()\n",
    "    temp_dict[\"voting_var\"] = temp[\"num_votes\"].var()\n",
    "    temp_dict[\"run_time_var\"] = temp[\"run_time\"].var()\n",
    "    \n",
    "    temp_dict[\"rating_std\"] = temp[\"rating\"].std()\n",
    "    temp_dict[\"voting_std\"] = temp[\"num_votes\"].std()\n",
    "    temp_dict[\"run_time_std\"] = temp[\"run_time\"].std()\n",
    "\n",
    "    temp_dict[\"rating_med\"] = temp[\"rating\"].median()\n",
    "    temp_dict[\"voting_med\"] = temp[\"num_votes\"].median()\n",
    "    temp_dict[\"run_time_med\"] = temp[\"run_time\"].median()\n",
    "\n",
    "    temp_dict[\"rating_quant1\"] = temp[\"rating\"].quantile(0.25)\n",
    "    temp_dict[\"voting_quant1\"] = temp[\"num_votes\"].quantile(0.25)\n",
    "    temp_dict[\"run_time_quant1\"] = temp[\"run_time\"].quantile(0.25)\n",
    "\n",
    "    temp_dict[\"rating_quant3\"] = temp[\"rating\"].quantile(0.75)\n",
    "    temp_dict[\"voting_quant3\"] = temp[\"num_votes\"].quantile(0.75)\n",
    "    temp_dict[\"run_time_quant3\"] = temp[\"run_time\"].quantile(0.75)\n",
    "    \n",
    "    genre_dict[genre] = temp_dict\n"
   ]
  },
  {
   "cell_type": "code",
   "execution_count": 341,
   "metadata": {},
   "outputs": [],
   "source": [
    "genre_df =  pd.DataFrame.from_dict(genre_dict, orient = \"index\")\n",
    "genre_df.reset_index(inplace = True)\n",
    "genre_df = genre_df.rename(columns= {\"index\":\"genre\"})"
   ]
  },
  {
   "cell_type": "markdown",
   "metadata": {},
   "source": [
    "We can display our summary statistics for each genre:"
   ]
  },
  {
   "cell_type": "code",
   "execution_count": 342,
   "metadata": {},
   "outputs": [
    {
     "data": {
      "text/html": [
       "<div>\n",
       "<style scoped>\n",
       "    .dataframe tbody tr th:only-of-type {\n",
       "        vertical-align: middle;\n",
       "    }\n",
       "\n",
       "    .dataframe tbody tr th {\n",
       "        vertical-align: top;\n",
       "    }\n",
       "\n",
       "    .dataframe thead th {\n",
       "        text-align: right;\n",
       "    }\n",
       "</style>\n",
       "<table border=\"1\" class=\"dataframe\">\n",
       "  <thead>\n",
       "    <tr style=\"text-align: right;\">\n",
       "      <th></th>\n",
       "      <th>genre</th>\n",
       "      <th>rating_avg</th>\n",
       "      <th>votes_avg</th>\n",
       "      <th>run_time_avg</th>\n",
       "      <th>rating_max</th>\n",
       "      <th>voting_max</th>\n",
       "      <th>run_time_max</th>\n",
       "      <th>rating_var</th>\n",
       "      <th>voting_var</th>\n",
       "      <th>run_time_var</th>\n",
       "      <th>...</th>\n",
       "      <th>run_time_std</th>\n",
       "      <th>rating_med</th>\n",
       "      <th>voting_med</th>\n",
       "      <th>run_time_med</th>\n",
       "      <th>rating_quant1</th>\n",
       "      <th>voting_quant1</th>\n",
       "      <th>run_time_quant1</th>\n",
       "      <th>rating_quant3</th>\n",
       "      <th>voting_quant3</th>\n",
       "      <th>run_time_quant3</th>\n",
       "    </tr>\n",
       "  </thead>\n",
       "  <tbody>\n",
       "    <tr>\n",
       "      <th>0</th>\n",
       "      <td>News</td>\n",
       "      <td>6.794360</td>\n",
       "      <td>63.191597</td>\n",
       "      <td>44.575493</td>\n",
       "      <td>10.0</td>\n",
       "      <td>95584</td>\n",
       "      <td>2520.0</td>\n",
       "      <td>2.693503</td>\n",
       "      <td>9.085956e+05</td>\n",
       "      <td>2268.126666</td>\n",
       "      <td>...</td>\n",
       "      <td>47.624853</td>\n",
       "      <td>7.1</td>\n",
       "      <td>18.0</td>\n",
       "      <td>30.0</td>\n",
       "      <td>6.1</td>\n",
       "      <td>11.0</td>\n",
       "      <td>24.0</td>\n",
       "      <td>7.8</td>\n",
       "      <td>28.00</td>\n",
       "      <td>60.0</td>\n",
       "    </tr>\n",
       "    <tr>\n",
       "      <th>1</th>\n",
       "      <td>Game-Show</td>\n",
       "      <td>7.037836</td>\n",
       "      <td>66.754142</td>\n",
       "      <td>48.901462</td>\n",
       "      <td>10.0</td>\n",
       "      <td>46327</td>\n",
       "      <td>2252.0</td>\n",
       "      <td>1.665691</td>\n",
       "      <td>2.911763e+05</td>\n",
       "      <td>920.848385</td>\n",
       "      <td>...</td>\n",
       "      <td>30.345484</td>\n",
       "      <td>7.2</td>\n",
       "      <td>17.0</td>\n",
       "      <td>43.0</td>\n",
       "      <td>6.4</td>\n",
       "      <td>9.0</td>\n",
       "      <td>39.0</td>\n",
       "      <td>7.9</td>\n",
       "      <td>33.00</td>\n",
       "      <td>59.0</td>\n",
       "    </tr>\n",
       "    <tr>\n",
       "      <th>2</th>\n",
       "      <td>Short</td>\n",
       "      <td>6.834706</td>\n",
       "      <td>61.158795</td>\n",
       "      <td>14.208187</td>\n",
       "      <td>10.0</td>\n",
       "      <td>53712</td>\n",
       "      <td>338.0</td>\n",
       "      <td>2.145664</td>\n",
       "      <td>2.284726e+05</td>\n",
       "      <td>90.784696</td>\n",
       "      <td>...</td>\n",
       "      <td>9.528100</td>\n",
       "      <td>6.9</td>\n",
       "      <td>15.0</td>\n",
       "      <td>12.0</td>\n",
       "      <td>6.0</td>\n",
       "      <td>9.0</td>\n",
       "      <td>7.0</td>\n",
       "      <td>7.8</td>\n",
       "      <td>32.00</td>\n",
       "      <td>20.0</td>\n",
       "    </tr>\n",
       "    <tr>\n",
       "      <th>3</th>\n",
       "      <td>Comedy</td>\n",
       "      <td>6.987216</td>\n",
       "      <td>1012.126633</td>\n",
       "      <td>46.266925</td>\n",
       "      <td>10.0</td>\n",
       "      <td>1577706</td>\n",
       "      <td>3720.0</td>\n",
       "      <td>1.811599</td>\n",
       "      <td>1.965381e+08</td>\n",
       "      <td>1551.541203</td>\n",
       "      <td>...</td>\n",
       "      <td>39.389608</td>\n",
       "      <td>7.2</td>\n",
       "      <td>29.0</td>\n",
       "      <td>30.0</td>\n",
       "      <td>6.3</td>\n",
       "      <td>12.0</td>\n",
       "      <td>22.0</td>\n",
       "      <td>7.9</td>\n",
       "      <td>119.00</td>\n",
       "      <td>77.0</td>\n",
       "    </tr>\n",
       "    <tr>\n",
       "      <th>4</th>\n",
       "      <td>Action</td>\n",
       "      <td>7.019099</td>\n",
       "      <td>2676.803939</td>\n",
       "      <td>53.458465</td>\n",
       "      <td>10.0</td>\n",
       "      <td>2863863</td>\n",
       "      <td>2925.0</td>\n",
       "      <td>1.958002</td>\n",
       "      <td>1.031973e+09</td>\n",
       "      <td>1917.283473</td>\n",
       "      <td>...</td>\n",
       "      <td>43.786796</td>\n",
       "      <td>7.3</td>\n",
       "      <td>51.0</td>\n",
       "      <td>43.0</td>\n",
       "      <td>6.3</td>\n",
       "      <td>16.0</td>\n",
       "      <td>23.0</td>\n",
       "      <td>8.0</td>\n",
       "      <td>268.00</td>\n",
       "      <td>84.0</td>\n",
       "    </tr>\n",
       "    <tr>\n",
       "      <th>5</th>\n",
       "      <td>History</td>\n",
       "      <td>7.340675</td>\n",
       "      <td>957.330329</td>\n",
       "      <td>70.431094</td>\n",
       "      <td>10.0</td>\n",
       "      <td>1447035</td>\n",
       "      <td>3825.0</td>\n",
       "      <td>1.337910</td>\n",
       "      <td>2.083858e+08</td>\n",
       "      <td>4032.036885</td>\n",
       "      <td>...</td>\n",
       "      <td>63.498322</td>\n",
       "      <td>7.5</td>\n",
       "      <td>28.0</td>\n",
       "      <td>57.0</td>\n",
       "      <td>6.8</td>\n",
       "      <td>11.0</td>\n",
       "      <td>44.0</td>\n",
       "      <td>8.1</td>\n",
       "      <td>104.00</td>\n",
       "      <td>90.0</td>\n",
       "    </tr>\n",
       "    <tr>\n",
       "      <th>6</th>\n",
       "      <td>Crime</td>\n",
       "      <td>7.130885</td>\n",
       "      <td>1933.594453</td>\n",
       "      <td>61.149593</td>\n",
       "      <td>10.0</td>\n",
       "      <td>2863863</td>\n",
       "      <td>3720.0</td>\n",
       "      <td>1.339013</td>\n",
       "      <td>6.633518e+08</td>\n",
       "      <td>1343.089596</td>\n",
       "      <td>...</td>\n",
       "      <td>36.648187</td>\n",
       "      <td>7.3</td>\n",
       "      <td>48.0</td>\n",
       "      <td>50.0</td>\n",
       "      <td>6.5</td>\n",
       "      <td>14.0</td>\n",
       "      <td>43.0</td>\n",
       "      <td>7.9</td>\n",
       "      <td>246.00</td>\n",
       "      <td>85.0</td>\n",
       "    </tr>\n",
       "    <tr>\n",
       "      <th>7</th>\n",
       "      <td>Talk-Show</td>\n",
       "      <td>6.812746</td>\n",
       "      <td>63.129469</td>\n",
       "      <td>43.178661</td>\n",
       "      <td>10.0</td>\n",
       "      <td>126457</td>\n",
       "      <td>11541.0</td>\n",
       "      <td>2.720726</td>\n",
       "      <td>1.030716e+06</td>\n",
       "      <td>8209.413704</td>\n",
       "      <td>...</td>\n",
       "      <td>90.605815</td>\n",
       "      <td>7.0</td>\n",
       "      <td>17.0</td>\n",
       "      <td>41.0</td>\n",
       "      <td>6.0</td>\n",
       "      <td>11.0</td>\n",
       "      <td>27.0</td>\n",
       "      <td>7.8</td>\n",
       "      <td>27.00</td>\n",
       "      <td>55.0</td>\n",
       "    </tr>\n",
       "    <tr>\n",
       "      <th>8</th>\n",
       "      <td>Family</td>\n",
       "      <td>7.084566</td>\n",
       "      <td>628.708421</td>\n",
       "      <td>40.248618</td>\n",
       "      <td>10.0</td>\n",
       "      <td>1197584</td>\n",
       "      <td>3000.0</td>\n",
       "      <td>1.665890</td>\n",
       "      <td>1.290918e+08</td>\n",
       "      <td>1399.917360</td>\n",
       "      <td>...</td>\n",
       "      <td>37.415470</td>\n",
       "      <td>7.2</td>\n",
       "      <td>26.0</td>\n",
       "      <td>28.0</td>\n",
       "      <td>6.4</td>\n",
       "      <td>12.0</td>\n",
       "      <td>22.0</td>\n",
       "      <td>7.9</td>\n",
       "      <td>88.00</td>\n",
       "      <td>53.0</td>\n",
       "    </tr>\n",
       "    <tr>\n",
       "      <th>9</th>\n",
       "      <td>Mystery</td>\n",
       "      <td>7.108964</td>\n",
       "      <td>2401.384092</td>\n",
       "      <td>59.986065</td>\n",
       "      <td>10.0</td>\n",
       "      <td>1793969</td>\n",
       "      <td>930.0</td>\n",
       "      <td>1.526366</td>\n",
       "      <td>6.452314e+08</td>\n",
       "      <td>1114.422632</td>\n",
       "      <td>...</td>\n",
       "      <td>33.382969</td>\n",
       "      <td>7.3</td>\n",
       "      <td>83.0</td>\n",
       "      <td>50.0</td>\n",
       "      <td>6.5</td>\n",
       "      <td>21.0</td>\n",
       "      <td>43.0</td>\n",
       "      <td>7.9</td>\n",
       "      <td>379.00</td>\n",
       "      <td>85.0</td>\n",
       "    </tr>\n",
       "    <tr>\n",
       "      <th>10</th>\n",
       "      <td>Adult</td>\n",
       "      <td>6.258652</td>\n",
       "      <td>40.368625</td>\n",
       "      <td>100.496793</td>\n",
       "      <td>10.0</td>\n",
       "      <td>7030</td>\n",
       "      <td>1200.0</td>\n",
       "      <td>1.751949</td>\n",
       "      <td>1.020544e+04</td>\n",
       "      <td>2035.324507</td>\n",
       "      <td>...</td>\n",
       "      <td>45.114571</td>\n",
       "      <td>6.3</td>\n",
       "      <td>15.0</td>\n",
       "      <td>89.0</td>\n",
       "      <td>5.4</td>\n",
       "      <td>10.0</td>\n",
       "      <td>76.0</td>\n",
       "      <td>7.2</td>\n",
       "      <td>36.00</td>\n",
       "      <td>120.0</td>\n",
       "    </tr>\n",
       "    <tr>\n",
       "      <th>11</th>\n",
       "      <td>Music</td>\n",
       "      <td>7.069697</td>\n",
       "      <td>616.549243</td>\n",
       "      <td>67.374802</td>\n",
       "      <td>10.0</td>\n",
       "      <td>985060</td>\n",
       "      <td>5760.0</td>\n",
       "      <td>1.957660</td>\n",
       "      <td>1.026258e+08</td>\n",
       "      <td>4542.991282</td>\n",
       "      <td>...</td>\n",
       "      <td>67.401716</td>\n",
       "      <td>7.2</td>\n",
       "      <td>22.0</td>\n",
       "      <td>60.0</td>\n",
       "      <td>6.3</td>\n",
       "      <td>12.0</td>\n",
       "      <td>40.0</td>\n",
       "      <td>8.0</td>\n",
       "      <td>64.00</td>\n",
       "      <td>90.0</td>\n",
       "    </tr>\n",
       "    <tr>\n",
       "      <th>12</th>\n",
       "      <td>Sci-Fi</td>\n",
       "      <td>6.694109</td>\n",
       "      <td>4436.858997</td>\n",
       "      <td>49.275911</td>\n",
       "      <td>10.0</td>\n",
       "      <td>2544404</td>\n",
       "      <td>970.0</td>\n",
       "      <td>2.176003</td>\n",
       "      <td>2.224778e+09</td>\n",
       "      <td>1417.587545</td>\n",
       "      <td>...</td>\n",
       "      <td>37.650864</td>\n",
       "      <td>6.9</td>\n",
       "      <td>42.0</td>\n",
       "      <td>43.0</td>\n",
       "      <td>5.9</td>\n",
       "      <td>14.0</td>\n",
       "      <td>20.0</td>\n",
       "      <td>7.7</td>\n",
       "      <td>273.00</td>\n",
       "      <td>80.0</td>\n",
       "    </tr>\n",
       "    <tr>\n",
       "      <th>13</th>\n",
       "      <td>Western</td>\n",
       "      <td>6.990052</td>\n",
       "      <td>768.332168</td>\n",
       "      <td>55.085718</td>\n",
       "      <td>9.9</td>\n",
       "      <td>1689979</td>\n",
       "      <td>676.0</td>\n",
       "      <td>1.455475</td>\n",
       "      <td>2.765774e+08</td>\n",
       "      <td>862.425523</td>\n",
       "      <td>...</td>\n",
       "      <td>29.367082</td>\n",
       "      <td>7.2</td>\n",
       "      <td>49.0</td>\n",
       "      <td>58.0</td>\n",
       "      <td>6.2</td>\n",
       "      <td>20.0</td>\n",
       "      <td>30.0</td>\n",
       "      <td>7.9</td>\n",
       "      <td>123.00</td>\n",
       "      <td>65.0</td>\n",
       "    </tr>\n",
       "    <tr>\n",
       "      <th>14</th>\n",
       "      <td>Drama</td>\n",
       "      <td>7.057663</td>\n",
       "      <td>1596.529172</td>\n",
       "      <td>64.631544</td>\n",
       "      <td>10.0</td>\n",
       "      <td>2881263</td>\n",
       "      <td>10062.0</td>\n",
       "      <td>1.716705</td>\n",
       "      <td>5.165394e+08</td>\n",
       "      <td>2446.394717</td>\n",
       "      <td>...</td>\n",
       "      <td>49.461042</td>\n",
       "      <td>7.2</td>\n",
       "      <td>41.0</td>\n",
       "      <td>57.0</td>\n",
       "      <td>6.3</td>\n",
       "      <td>14.0</td>\n",
       "      <td>33.0</td>\n",
       "      <td>7.9</td>\n",
       "      <td>209.00</td>\n",
       "      <td>91.0</td>\n",
       "    </tr>\n",
       "    <tr>\n",
       "      <th>15</th>\n",
       "      <td>Thriller</td>\n",
       "      <td>6.434904</td>\n",
       "      <td>3650.359833</td>\n",
       "      <td>74.866891</td>\n",
       "      <td>10.0</td>\n",
       "      <td>2127233</td>\n",
       "      <td>1000.0</td>\n",
       "      <td>2.444579</td>\n",
       "      <td>1.136260e+09</td>\n",
       "      <td>1494.596527</td>\n",
       "      <td>...</td>\n",
       "      <td>38.660012</td>\n",
       "      <td>6.6</td>\n",
       "      <td>75.0</td>\n",
       "      <td>84.0</td>\n",
       "      <td>5.4</td>\n",
       "      <td>19.0</td>\n",
       "      <td>46.0</td>\n",
       "      <td>7.6</td>\n",
       "      <td>408.00</td>\n",
       "      <td>96.0</td>\n",
       "    </tr>\n",
       "    <tr>\n",
       "      <th>16</th>\n",
       "      <td>Musical</td>\n",
       "      <td>6.662031</td>\n",
       "      <td>842.584387</td>\n",
       "      <td>78.979122</td>\n",
       "      <td>10.0</td>\n",
       "      <td>386479</td>\n",
       "      <td>808.0</td>\n",
       "      <td>1.919272</td>\n",
       "      <td>8.534265e+07</td>\n",
       "      <td>2208.473880</td>\n",
       "      <td>...</td>\n",
       "      <td>46.994403</td>\n",
       "      <td>6.7</td>\n",
       "      <td>30.0</td>\n",
       "      <td>85.0</td>\n",
       "      <td>5.8</td>\n",
       "      <td>14.0</td>\n",
       "      <td>41.0</td>\n",
       "      <td>7.7</td>\n",
       "      <td>124.00</td>\n",
       "      <td>104.0</td>\n",
       "    </tr>\n",
       "    <tr>\n",
       "      <th>17</th>\n",
       "      <td>Romance</td>\n",
       "      <td>6.909923</td>\n",
       "      <td>1507.104845</td>\n",
       "      <td>68.351489</td>\n",
       "      <td>10.0</td>\n",
       "      <td>2250637</td>\n",
       "      <td>1800.0</td>\n",
       "      <td>1.989059</td>\n",
       "      <td>3.033074e+08</td>\n",
       "      <td>1823.599770</td>\n",
       "      <td>...</td>\n",
       "      <td>42.703627</td>\n",
       "      <td>7.0</td>\n",
       "      <td>43.0</td>\n",
       "      <td>65.0</td>\n",
       "      <td>6.0</td>\n",
       "      <td>14.0</td>\n",
       "      <td>30.0</td>\n",
       "      <td>7.9</td>\n",
       "      <td>220.00</td>\n",
       "      <td>95.0</td>\n",
       "    </tr>\n",
       "    <tr>\n",
       "      <th>18</th>\n",
       "      <td>War</td>\n",
       "      <td>7.090161</td>\n",
       "      <td>1814.478214</td>\n",
       "      <td>78.975359</td>\n",
       "      <td>10.0</td>\n",
       "      <td>1579846</td>\n",
       "      <td>1290.0</td>\n",
       "      <td>1.665435</td>\n",
       "      <td>7.307734e+08</td>\n",
       "      <td>3297.365184</td>\n",
       "      <td>...</td>\n",
       "      <td>57.422689</td>\n",
       "      <td>7.2</td>\n",
       "      <td>40.0</td>\n",
       "      <td>80.0</td>\n",
       "      <td>6.3</td>\n",
       "      <td>13.0</td>\n",
       "      <td>45.0</td>\n",
       "      <td>8.0</td>\n",
       "      <td>176.00</td>\n",
       "      <td>99.0</td>\n",
       "    </tr>\n",
       "    <tr>\n",
       "      <th>19</th>\n",
       "      <td>Adventure</td>\n",
       "      <td>7.106812</td>\n",
       "      <td>2411.058856</td>\n",
       "      <td>42.967573</td>\n",
       "      <td>10.0</td>\n",
       "      <td>2544404</td>\n",
       "      <td>13319.0</td>\n",
       "      <td>1.726474</td>\n",
       "      <td>9.921923e+08</td>\n",
       "      <td>3116.650758</td>\n",
       "      <td>...</td>\n",
       "      <td>55.826972</td>\n",
       "      <td>7.3</td>\n",
       "      <td>41.0</td>\n",
       "      <td>25.0</td>\n",
       "      <td>6.5</td>\n",
       "      <td>14.0</td>\n",
       "      <td>22.0</td>\n",
       "      <td>8.0</td>\n",
       "      <td>184.00</td>\n",
       "      <td>55.0</td>\n",
       "    </tr>\n",
       "    <tr>\n",
       "      <th>20</th>\n",
       "      <td>Biography</td>\n",
       "      <td>7.190804</td>\n",
       "      <td>2770.189967</td>\n",
       "      <td>75.145795</td>\n",
       "      <td>10.0</td>\n",
       "      <td>1577706</td>\n",
       "      <td>1290.0</td>\n",
       "      <td>1.422436</td>\n",
       "      <td>8.427070e+08</td>\n",
       "      <td>2156.876792</td>\n",
       "      <td>...</td>\n",
       "      <td>46.442188</td>\n",
       "      <td>7.3</td>\n",
       "      <td>37.0</td>\n",
       "      <td>68.0</td>\n",
       "      <td>6.6</td>\n",
       "      <td>13.0</td>\n",
       "      <td>47.0</td>\n",
       "      <td>7.9</td>\n",
       "      <td>170.00</td>\n",
       "      <td>97.0</td>\n",
       "    </tr>\n",
       "    <tr>\n",
       "      <th>21</th>\n",
       "      <td>Fantasy</td>\n",
       "      <td>7.079146</td>\n",
       "      <td>2250.768412</td>\n",
       "      <td>50.337962</td>\n",
       "      <td>10.0</td>\n",
       "      <td>1446959</td>\n",
       "      <td>999.0</td>\n",
       "      <td>1.772406</td>\n",
       "      <td>7.524843e+08</td>\n",
       "      <td>1803.767668</td>\n",
       "      <td>...</td>\n",
       "      <td>42.470786</td>\n",
       "      <td>7.3</td>\n",
       "      <td>38.0</td>\n",
       "      <td>42.0</td>\n",
       "      <td>6.4</td>\n",
       "      <td>14.0</td>\n",
       "      <td>23.0</td>\n",
       "      <td>8.0</td>\n",
       "      <td>212.00</td>\n",
       "      <td>74.0</td>\n",
       "    </tr>\n",
       "    <tr>\n",
       "      <th>22</th>\n",
       "      <td>Horror</td>\n",
       "      <td>6.123196</td>\n",
       "      <td>2264.276881</td>\n",
       "      <td>57.517759</td>\n",
       "      <td>10.0</td>\n",
       "      <td>1330941</td>\n",
       "      <td>1440.0</td>\n",
       "      <td>3.035595</td>\n",
       "      <td>3.925319e+08</td>\n",
       "      <td>1565.264851</td>\n",
       "      <td>...</td>\n",
       "      <td>39.563428</td>\n",
       "      <td>6.3</td>\n",
       "      <td>52.0</td>\n",
       "      <td>60.0</td>\n",
       "      <td>4.9</td>\n",
       "      <td>17.0</td>\n",
       "      <td>22.0</td>\n",
       "      <td>7.4</td>\n",
       "      <td>340.00</td>\n",
       "      <td>89.0</td>\n",
       "    </tr>\n",
       "    <tr>\n",
       "      <th>23</th>\n",
       "      <td>Animation</td>\n",
       "      <td>7.126333</td>\n",
       "      <td>726.764542</td>\n",
       "      <td>23.202397</td>\n",
       "      <td>10.0</td>\n",
       "      <td>1197584</td>\n",
       "      <td>1329.0</td>\n",
       "      <td>1.431347</td>\n",
       "      <td>1.587430e+08</td>\n",
       "      <td>480.537612</td>\n",
       "      <td>...</td>\n",
       "      <td>21.921168</td>\n",
       "      <td>7.2</td>\n",
       "      <td>29.0</td>\n",
       "      <td>23.0</td>\n",
       "      <td>6.5</td>\n",
       "      <td>12.0</td>\n",
       "      <td>11.0</td>\n",
       "      <td>7.9</td>\n",
       "      <td>111.00</td>\n",
       "      <td>24.0</td>\n",
       "    </tr>\n",
       "    <tr>\n",
       "      <th>24</th>\n",
       "      <td>Documentary</td>\n",
       "      <td>7.241082</td>\n",
       "      <td>158.159917</td>\n",
       "      <td>59.319446</td>\n",
       "      <td>10.0</td>\n",
       "      <td>219408</td>\n",
       "      <td>51420.0</td>\n",
       "      <td>1.430568</td>\n",
       "      <td>2.898754e+06</td>\n",
       "      <td>38854.537326</td>\n",
       "      <td>...</td>\n",
       "      <td>197.115543</td>\n",
       "      <td>7.4</td>\n",
       "      <td>19.0</td>\n",
       "      <td>52.0</td>\n",
       "      <td>6.7</td>\n",
       "      <td>10.0</td>\n",
       "      <td>40.0</td>\n",
       "      <td>8.0</td>\n",
       "      <td>49.00</td>\n",
       "      <td>79.0</td>\n",
       "    </tr>\n",
       "    <tr>\n",
       "      <th>25</th>\n",
       "      <td>Sport</td>\n",
       "      <td>7.025507</td>\n",
       "      <td>757.472957</td>\n",
       "      <td>79.031088</td>\n",
       "      <td>10.0</td>\n",
       "      <td>720662</td>\n",
       "      <td>11541.0</td>\n",
       "      <td>1.629539</td>\n",
       "      <td>1.114765e+08</td>\n",
       "      <td>10473.956306</td>\n",
       "      <td>...</td>\n",
       "      <td>102.342349</td>\n",
       "      <td>7.2</td>\n",
       "      <td>21.0</td>\n",
       "      <td>81.0</td>\n",
       "      <td>6.4</td>\n",
       "      <td>11.0</td>\n",
       "      <td>44.0</td>\n",
       "      <td>7.9</td>\n",
       "      <td>63.00</td>\n",
       "      <td>97.0</td>\n",
       "    </tr>\n",
       "    <tr>\n",
       "      <th>26</th>\n",
       "      <td>Reality-TV</td>\n",
       "      <td>7.035221</td>\n",
       "      <td>61.041264</td>\n",
       "      <td>44.300904</td>\n",
       "      <td>10.0</td>\n",
       "      <td>55322</td>\n",
       "      <td>4800.0</td>\n",
       "      <td>1.769986</td>\n",
       "      <td>2.847534e+05</td>\n",
       "      <td>1111.894011</td>\n",
       "      <td>...</td>\n",
       "      <td>33.345075</td>\n",
       "      <td>7.2</td>\n",
       "      <td>15.0</td>\n",
       "      <td>43.0</td>\n",
       "      <td>6.4</td>\n",
       "      <td>9.0</td>\n",
       "      <td>39.0</td>\n",
       "      <td>7.9</td>\n",
       "      <td>31.00</td>\n",
       "      <td>45.0</td>\n",
       "    </tr>\n",
       "    <tr>\n",
       "      <th>27</th>\n",
       "      <td>Film-Noir</td>\n",
       "      <td>6.466213</td>\n",
       "      <td>4453.778912</td>\n",
       "      <td>82.005669</td>\n",
       "      <td>8.4</td>\n",
       "      <td>235981</td>\n",
       "      <td>135.0</td>\n",
       "      <td>0.461945</td>\n",
       "      <td>2.719876e+08</td>\n",
       "      <td>192.368867</td>\n",
       "      <td>...</td>\n",
       "      <td>13.869710</td>\n",
       "      <td>6.5</td>\n",
       "      <td>910.5</td>\n",
       "      <td>82.0</td>\n",
       "      <td>6.0</td>\n",
       "      <td>307.5</td>\n",
       "      <td>71.0</td>\n",
       "      <td>6.9</td>\n",
       "      <td>2728.75</td>\n",
       "      <td>92.0</td>\n",
       "    </tr>\n",
       "  </tbody>\n",
       "</table>\n",
       "<p>28 rows × 22 columns</p>\n",
       "</div>"
      ],
      "text/plain": [
       "          genre  rating_avg    votes_avg  run_time_avg  rating_max  \\\n",
       "0          News    6.794360    63.191597     44.575493        10.0   \n",
       "1     Game-Show    7.037836    66.754142     48.901462        10.0   \n",
       "2         Short    6.834706    61.158795     14.208187        10.0   \n",
       "3        Comedy    6.987216  1012.126633     46.266925        10.0   \n",
       "4        Action    7.019099  2676.803939     53.458465        10.0   \n",
       "5       History    7.340675   957.330329     70.431094        10.0   \n",
       "6         Crime    7.130885  1933.594453     61.149593        10.0   \n",
       "7     Talk-Show    6.812746    63.129469     43.178661        10.0   \n",
       "8        Family    7.084566   628.708421     40.248618        10.0   \n",
       "9       Mystery    7.108964  2401.384092     59.986065        10.0   \n",
       "10        Adult    6.258652    40.368625    100.496793        10.0   \n",
       "11        Music    7.069697   616.549243     67.374802        10.0   \n",
       "12       Sci-Fi    6.694109  4436.858997     49.275911        10.0   \n",
       "13      Western    6.990052   768.332168     55.085718         9.9   \n",
       "14        Drama    7.057663  1596.529172     64.631544        10.0   \n",
       "15     Thriller    6.434904  3650.359833     74.866891        10.0   \n",
       "16      Musical    6.662031   842.584387     78.979122        10.0   \n",
       "17      Romance    6.909923  1507.104845     68.351489        10.0   \n",
       "18          War    7.090161  1814.478214     78.975359        10.0   \n",
       "19    Adventure    7.106812  2411.058856     42.967573        10.0   \n",
       "20    Biography    7.190804  2770.189967     75.145795        10.0   \n",
       "21      Fantasy    7.079146  2250.768412     50.337962        10.0   \n",
       "22       Horror    6.123196  2264.276881     57.517759        10.0   \n",
       "23    Animation    7.126333   726.764542     23.202397        10.0   \n",
       "24  Documentary    7.241082   158.159917     59.319446        10.0   \n",
       "25        Sport    7.025507   757.472957     79.031088        10.0   \n",
       "26   Reality-TV    7.035221    61.041264     44.300904        10.0   \n",
       "27    Film-Noir    6.466213  4453.778912     82.005669         8.4   \n",
       "\n",
       "    voting_max  run_time_max  rating_var    voting_var  run_time_var  ...  \\\n",
       "0        95584        2520.0    2.693503  9.085956e+05   2268.126666  ...   \n",
       "1        46327        2252.0    1.665691  2.911763e+05    920.848385  ...   \n",
       "2        53712         338.0    2.145664  2.284726e+05     90.784696  ...   \n",
       "3      1577706        3720.0    1.811599  1.965381e+08   1551.541203  ...   \n",
       "4      2863863        2925.0    1.958002  1.031973e+09   1917.283473  ...   \n",
       "5      1447035        3825.0    1.337910  2.083858e+08   4032.036885  ...   \n",
       "6      2863863        3720.0    1.339013  6.633518e+08   1343.089596  ...   \n",
       "7       126457       11541.0    2.720726  1.030716e+06   8209.413704  ...   \n",
       "8      1197584        3000.0    1.665890  1.290918e+08   1399.917360  ...   \n",
       "9      1793969         930.0    1.526366  6.452314e+08   1114.422632  ...   \n",
       "10        7030        1200.0    1.751949  1.020544e+04   2035.324507  ...   \n",
       "11      985060        5760.0    1.957660  1.026258e+08   4542.991282  ...   \n",
       "12     2544404         970.0    2.176003  2.224778e+09   1417.587545  ...   \n",
       "13     1689979         676.0    1.455475  2.765774e+08    862.425523  ...   \n",
       "14     2881263       10062.0    1.716705  5.165394e+08   2446.394717  ...   \n",
       "15     2127233        1000.0    2.444579  1.136260e+09   1494.596527  ...   \n",
       "16      386479         808.0    1.919272  8.534265e+07   2208.473880  ...   \n",
       "17     2250637        1800.0    1.989059  3.033074e+08   1823.599770  ...   \n",
       "18     1579846        1290.0    1.665435  7.307734e+08   3297.365184  ...   \n",
       "19     2544404       13319.0    1.726474  9.921923e+08   3116.650758  ...   \n",
       "20     1577706        1290.0    1.422436  8.427070e+08   2156.876792  ...   \n",
       "21     1446959         999.0    1.772406  7.524843e+08   1803.767668  ...   \n",
       "22     1330941        1440.0    3.035595  3.925319e+08   1565.264851  ...   \n",
       "23     1197584        1329.0    1.431347  1.587430e+08    480.537612  ...   \n",
       "24      219408       51420.0    1.430568  2.898754e+06  38854.537326  ...   \n",
       "25      720662       11541.0    1.629539  1.114765e+08  10473.956306  ...   \n",
       "26       55322        4800.0    1.769986  2.847534e+05   1111.894011  ...   \n",
       "27      235981         135.0    0.461945  2.719876e+08    192.368867  ...   \n",
       "\n",
       "    run_time_std  rating_med  voting_med  run_time_med  rating_quant1  \\\n",
       "0      47.624853         7.1        18.0          30.0            6.1   \n",
       "1      30.345484         7.2        17.0          43.0            6.4   \n",
       "2       9.528100         6.9        15.0          12.0            6.0   \n",
       "3      39.389608         7.2        29.0          30.0            6.3   \n",
       "4      43.786796         7.3        51.0          43.0            6.3   \n",
       "5      63.498322         7.5        28.0          57.0            6.8   \n",
       "6      36.648187         7.3        48.0          50.0            6.5   \n",
       "7      90.605815         7.0        17.0          41.0            6.0   \n",
       "8      37.415470         7.2        26.0          28.0            6.4   \n",
       "9      33.382969         7.3        83.0          50.0            6.5   \n",
       "10     45.114571         6.3        15.0          89.0            5.4   \n",
       "11     67.401716         7.2        22.0          60.0            6.3   \n",
       "12     37.650864         6.9        42.0          43.0            5.9   \n",
       "13     29.367082         7.2        49.0          58.0            6.2   \n",
       "14     49.461042         7.2        41.0          57.0            6.3   \n",
       "15     38.660012         6.6        75.0          84.0            5.4   \n",
       "16     46.994403         6.7        30.0          85.0            5.8   \n",
       "17     42.703627         7.0        43.0          65.0            6.0   \n",
       "18     57.422689         7.2        40.0          80.0            6.3   \n",
       "19     55.826972         7.3        41.0          25.0            6.5   \n",
       "20     46.442188         7.3        37.0          68.0            6.6   \n",
       "21     42.470786         7.3        38.0          42.0            6.4   \n",
       "22     39.563428         6.3        52.0          60.0            4.9   \n",
       "23     21.921168         7.2        29.0          23.0            6.5   \n",
       "24    197.115543         7.4        19.0          52.0            6.7   \n",
       "25    102.342349         7.2        21.0          81.0            6.4   \n",
       "26     33.345075         7.2        15.0          43.0            6.4   \n",
       "27     13.869710         6.5       910.5          82.0            6.0   \n",
       "\n",
       "    voting_quant1  run_time_quant1  rating_quant3  voting_quant3  \\\n",
       "0            11.0             24.0            7.8          28.00   \n",
       "1             9.0             39.0            7.9          33.00   \n",
       "2             9.0              7.0            7.8          32.00   \n",
       "3            12.0             22.0            7.9         119.00   \n",
       "4            16.0             23.0            8.0         268.00   \n",
       "5            11.0             44.0            8.1         104.00   \n",
       "6            14.0             43.0            7.9         246.00   \n",
       "7            11.0             27.0            7.8          27.00   \n",
       "8            12.0             22.0            7.9          88.00   \n",
       "9            21.0             43.0            7.9         379.00   \n",
       "10           10.0             76.0            7.2          36.00   \n",
       "11           12.0             40.0            8.0          64.00   \n",
       "12           14.0             20.0            7.7         273.00   \n",
       "13           20.0             30.0            7.9         123.00   \n",
       "14           14.0             33.0            7.9         209.00   \n",
       "15           19.0             46.0            7.6         408.00   \n",
       "16           14.0             41.0            7.7         124.00   \n",
       "17           14.0             30.0            7.9         220.00   \n",
       "18           13.0             45.0            8.0         176.00   \n",
       "19           14.0             22.0            8.0         184.00   \n",
       "20           13.0             47.0            7.9         170.00   \n",
       "21           14.0             23.0            8.0         212.00   \n",
       "22           17.0             22.0            7.4         340.00   \n",
       "23           12.0             11.0            7.9         111.00   \n",
       "24           10.0             40.0            8.0          49.00   \n",
       "25           11.0             44.0            7.9          63.00   \n",
       "26            9.0             39.0            7.9          31.00   \n",
       "27          307.5             71.0            6.9        2728.75   \n",
       "\n",
       "    run_time_quant3  \n",
       "0              60.0  \n",
       "1              59.0  \n",
       "2              20.0  \n",
       "3              77.0  \n",
       "4              84.0  \n",
       "5              90.0  \n",
       "6              85.0  \n",
       "7              55.0  \n",
       "8              53.0  \n",
       "9              85.0  \n",
       "10            120.0  \n",
       "11             90.0  \n",
       "12             80.0  \n",
       "13             65.0  \n",
       "14             91.0  \n",
       "15             96.0  \n",
       "16            104.0  \n",
       "17             95.0  \n",
       "18             99.0  \n",
       "19             55.0  \n",
       "20             97.0  \n",
       "21             74.0  \n",
       "22             89.0  \n",
       "23             24.0  \n",
       "24             79.0  \n",
       "25             97.0  \n",
       "26             45.0  \n",
       "27             92.0  \n",
       "\n",
       "[28 rows x 22 columns]"
      ]
     },
     "execution_count": 342,
     "metadata": {},
     "output_type": "execute_result"
    }
   ],
   "source": [
    "genre_df"
   ]
  },
  {
   "cell_type": "code",
   "execution_count": 343,
   "metadata": {},
   "outputs": [
    {
     "data": {
      "text/html": [
       "<div>\n",
       "<style scoped>\n",
       "    .dataframe tbody tr th:only-of-type {\n",
       "        vertical-align: middle;\n",
       "    }\n",
       "\n",
       "    .dataframe tbody tr th {\n",
       "        vertical-align: top;\n",
       "    }\n",
       "\n",
       "    .dataframe thead th {\n",
       "        text-align: right;\n",
       "    }\n",
       "</style>\n",
       "<table border=\"1\" class=\"dataframe\">\n",
       "  <thead>\n",
       "    <tr style=\"text-align: right;\">\n",
       "      <th></th>\n",
       "      <th>genre</th>\n",
       "      <th>rating_avg</th>\n",
       "    </tr>\n",
       "  </thead>\n",
       "  <tbody>\n",
       "    <tr>\n",
       "      <th>5</th>\n",
       "      <td>History</td>\n",
       "      <td>7.340675</td>\n",
       "    </tr>\n",
       "    <tr>\n",
       "      <th>24</th>\n",
       "      <td>Documentary</td>\n",
       "      <td>7.241082</td>\n",
       "    </tr>\n",
       "    <tr>\n",
       "      <th>20</th>\n",
       "      <td>Biography</td>\n",
       "      <td>7.190804</td>\n",
       "    </tr>\n",
       "    <tr>\n",
       "      <th>6</th>\n",
       "      <td>Crime</td>\n",
       "      <td>7.130885</td>\n",
       "    </tr>\n",
       "    <tr>\n",
       "      <th>23</th>\n",
       "      <td>Animation</td>\n",
       "      <td>7.126333</td>\n",
       "    </tr>\n",
       "  </tbody>\n",
       "</table>\n",
       "</div>"
      ],
      "text/plain": [
       "          genre  rating_avg\n",
       "5       History    7.340675\n",
       "24  Documentary    7.241082\n",
       "20    Biography    7.190804\n",
       "6         Crime    7.130885\n",
       "23    Animation    7.126333"
      ]
     },
     "execution_count": 343,
     "metadata": {},
     "output_type": "execute_result"
    }
   ],
   "source": [
    "genre_df[[\"genre\",\"rating_avg\"]].sort_values(by = \"rating_avg\", ascending = False).head()"
   ]
  },
  {
   "cell_type": "code",
   "execution_count": 344,
   "metadata": {},
   "outputs": [
    {
     "data": {
      "text/html": [
       "<div>\n",
       "<style scoped>\n",
       "    .dataframe tbody tr th:only-of-type {\n",
       "        vertical-align: middle;\n",
       "    }\n",
       "\n",
       "    .dataframe tbody tr th {\n",
       "        vertical-align: top;\n",
       "    }\n",
       "\n",
       "    .dataframe thead th {\n",
       "        text-align: right;\n",
       "    }\n",
       "</style>\n",
       "<table border=\"1\" class=\"dataframe\">\n",
       "  <thead>\n",
       "    <tr style=\"text-align: right;\">\n",
       "      <th></th>\n",
       "      <th>genre</th>\n",
       "      <th>rating_med</th>\n",
       "    </tr>\n",
       "  </thead>\n",
       "  <tbody>\n",
       "    <tr>\n",
       "      <th>5</th>\n",
       "      <td>History</td>\n",
       "      <td>7.5</td>\n",
       "    </tr>\n",
       "    <tr>\n",
       "      <th>24</th>\n",
       "      <td>Documentary</td>\n",
       "      <td>7.4</td>\n",
       "    </tr>\n",
       "    <tr>\n",
       "      <th>9</th>\n",
       "      <td>Mystery</td>\n",
       "      <td>7.3</td>\n",
       "    </tr>\n",
       "    <tr>\n",
       "      <th>6</th>\n",
       "      <td>Crime</td>\n",
       "      <td>7.3</td>\n",
       "    </tr>\n",
       "    <tr>\n",
       "      <th>20</th>\n",
       "      <td>Biography</td>\n",
       "      <td>7.3</td>\n",
       "    </tr>\n",
       "  </tbody>\n",
       "</table>\n",
       "</div>"
      ],
      "text/plain": [
       "          genre  rating_med\n",
       "5       History         7.5\n",
       "24  Documentary         7.4\n",
       "9       Mystery         7.3\n",
       "6         Crime         7.3\n",
       "20    Biography         7.3"
      ]
     },
     "execution_count": 344,
     "metadata": {},
     "output_type": "execute_result"
    }
   ],
   "source": [
    "genre_df[[\"genre\",\"rating_med\"]].sort_values(by = \"rating_med\", ascending = False).head()"
   ]
  },
  {
   "cell_type": "markdown",
   "metadata": {},
   "source": [
    "On average, the highest rated motion picture will be those that have a history genre, followed by a genre and biography. Now we can look at the average ratings recieved for a genre:"
   ]
  },
  {
   "cell_type": "code",
   "execution_count": 345,
   "metadata": {},
   "outputs": [
    {
     "data": {
      "text/html": [
       "<div>\n",
       "<style scoped>\n",
       "    .dataframe tbody tr th:only-of-type {\n",
       "        vertical-align: middle;\n",
       "    }\n",
       "\n",
       "    .dataframe tbody tr th {\n",
       "        vertical-align: top;\n",
       "    }\n",
       "\n",
       "    .dataframe thead th {\n",
       "        text-align: right;\n",
       "    }\n",
       "</style>\n",
       "<table border=\"1\" class=\"dataframe\">\n",
       "  <thead>\n",
       "    <tr style=\"text-align: right;\">\n",
       "      <th></th>\n",
       "      <th>genre</th>\n",
       "      <th>votes_avg</th>\n",
       "    </tr>\n",
       "  </thead>\n",
       "  <tbody>\n",
       "    <tr>\n",
       "      <th>27</th>\n",
       "      <td>Film-Noir</td>\n",
       "      <td>4453.778912</td>\n",
       "    </tr>\n",
       "    <tr>\n",
       "      <th>12</th>\n",
       "      <td>Sci-Fi</td>\n",
       "      <td>4436.858997</td>\n",
       "    </tr>\n",
       "    <tr>\n",
       "      <th>15</th>\n",
       "      <td>Thriller</td>\n",
       "      <td>3650.359833</td>\n",
       "    </tr>\n",
       "    <tr>\n",
       "      <th>20</th>\n",
       "      <td>Biography</td>\n",
       "      <td>2770.189967</td>\n",
       "    </tr>\n",
       "    <tr>\n",
       "      <th>4</th>\n",
       "      <td>Action</td>\n",
       "      <td>2676.803939</td>\n",
       "    </tr>\n",
       "    <tr>\n",
       "      <th>19</th>\n",
       "      <td>Adventure</td>\n",
       "      <td>2411.058856</td>\n",
       "    </tr>\n",
       "    <tr>\n",
       "      <th>9</th>\n",
       "      <td>Mystery</td>\n",
       "      <td>2401.384092</td>\n",
       "    </tr>\n",
       "    <tr>\n",
       "      <th>22</th>\n",
       "      <td>Horror</td>\n",
       "      <td>2264.276881</td>\n",
       "    </tr>\n",
       "    <tr>\n",
       "      <th>21</th>\n",
       "      <td>Fantasy</td>\n",
       "      <td>2250.768412</td>\n",
       "    </tr>\n",
       "    <tr>\n",
       "      <th>6</th>\n",
       "      <td>Crime</td>\n",
       "      <td>1933.594453</td>\n",
       "    </tr>\n",
       "    <tr>\n",
       "      <th>18</th>\n",
       "      <td>War</td>\n",
       "      <td>1814.478214</td>\n",
       "    </tr>\n",
       "    <tr>\n",
       "      <th>14</th>\n",
       "      <td>Drama</td>\n",
       "      <td>1596.529172</td>\n",
       "    </tr>\n",
       "    <tr>\n",
       "      <th>17</th>\n",
       "      <td>Romance</td>\n",
       "      <td>1507.104845</td>\n",
       "    </tr>\n",
       "    <tr>\n",
       "      <th>3</th>\n",
       "      <td>Comedy</td>\n",
       "      <td>1012.126633</td>\n",
       "    </tr>\n",
       "    <tr>\n",
       "      <th>5</th>\n",
       "      <td>History</td>\n",
       "      <td>957.330329</td>\n",
       "    </tr>\n",
       "  </tbody>\n",
       "</table>\n",
       "</div>"
      ],
      "text/plain": [
       "        genre    votes_avg\n",
       "27  Film-Noir  4453.778912\n",
       "12     Sci-Fi  4436.858997\n",
       "15   Thriller  3650.359833\n",
       "20  Biography  2770.189967\n",
       "4      Action  2676.803939\n",
       "19  Adventure  2411.058856\n",
       "9     Mystery  2401.384092\n",
       "22     Horror  2264.276881\n",
       "21    Fantasy  2250.768412\n",
       "6       Crime  1933.594453\n",
       "18        War  1814.478214\n",
       "14      Drama  1596.529172\n",
       "17    Romance  1507.104845\n",
       "3      Comedy  1012.126633\n",
       "5     History   957.330329"
      ]
     },
     "execution_count": 345,
     "metadata": {},
     "output_type": "execute_result"
    }
   ],
   "source": [
    "genre_df[[\"genre\",\"votes_avg\"]].sort_values(by = \"votes_avg\", ascending = False).head(15)"
   ]
  },
  {
   "cell_type": "markdown",
   "metadata": {},
   "source": [
    "Film-Noir, Sci-Fi, and thrillers are the most likely to have a high number of votes. This could be a proxy for the amount of people that will watch the genres. Seeing film noir as the most average votes is quite surprising though. If we look back at our bar plot of the counts of each genre, we can see that film-noir doesn't have enough votes to even show a bar compared to the rest. We should disregard film noir because of this."
   ]
  },
  {
   "cell_type": "code",
   "execution_count": 346,
   "metadata": {},
   "outputs": [
    {
     "data": {
      "text/html": [
       "<div>\n",
       "<style scoped>\n",
       "    .dataframe tbody tr th:only-of-type {\n",
       "        vertical-align: middle;\n",
       "    }\n",
       "\n",
       "    .dataframe tbody tr th {\n",
       "        vertical-align: top;\n",
       "    }\n",
       "\n",
       "    .dataframe thead th {\n",
       "        text-align: right;\n",
       "    }\n",
       "</style>\n",
       "<table border=\"1\" class=\"dataframe\">\n",
       "  <thead>\n",
       "    <tr style=\"text-align: right;\">\n",
       "      <th></th>\n",
       "      <th>genre</th>\n",
       "      <th>voting_med</th>\n",
       "    </tr>\n",
       "  </thead>\n",
       "  <tbody>\n",
       "    <tr>\n",
       "      <th>27</th>\n",
       "      <td>Film-Noir</td>\n",
       "      <td>910.5</td>\n",
       "    </tr>\n",
       "    <tr>\n",
       "      <th>9</th>\n",
       "      <td>Mystery</td>\n",
       "      <td>83.0</td>\n",
       "    </tr>\n",
       "    <tr>\n",
       "      <th>15</th>\n",
       "      <td>Thriller</td>\n",
       "      <td>75.0</td>\n",
       "    </tr>\n",
       "    <tr>\n",
       "      <th>22</th>\n",
       "      <td>Horror</td>\n",
       "      <td>52.0</td>\n",
       "    </tr>\n",
       "    <tr>\n",
       "      <th>4</th>\n",
       "      <td>Action</td>\n",
       "      <td>51.0</td>\n",
       "    </tr>\n",
       "    <tr>\n",
       "      <th>13</th>\n",
       "      <td>Western</td>\n",
       "      <td>49.0</td>\n",
       "    </tr>\n",
       "    <tr>\n",
       "      <th>6</th>\n",
       "      <td>Crime</td>\n",
       "      <td>48.0</td>\n",
       "    </tr>\n",
       "    <tr>\n",
       "      <th>17</th>\n",
       "      <td>Romance</td>\n",
       "      <td>43.0</td>\n",
       "    </tr>\n",
       "    <tr>\n",
       "      <th>12</th>\n",
       "      <td>Sci-Fi</td>\n",
       "      <td>42.0</td>\n",
       "    </tr>\n",
       "    <tr>\n",
       "      <th>19</th>\n",
       "      <td>Adventure</td>\n",
       "      <td>41.0</td>\n",
       "    </tr>\n",
       "    <tr>\n",
       "      <th>14</th>\n",
       "      <td>Drama</td>\n",
       "      <td>41.0</td>\n",
       "    </tr>\n",
       "    <tr>\n",
       "      <th>18</th>\n",
       "      <td>War</td>\n",
       "      <td>40.0</td>\n",
       "    </tr>\n",
       "    <tr>\n",
       "      <th>21</th>\n",
       "      <td>Fantasy</td>\n",
       "      <td>38.0</td>\n",
       "    </tr>\n",
       "    <tr>\n",
       "      <th>20</th>\n",
       "      <td>Biography</td>\n",
       "      <td>37.0</td>\n",
       "    </tr>\n",
       "    <tr>\n",
       "      <th>16</th>\n",
       "      <td>Musical</td>\n",
       "      <td>30.0</td>\n",
       "    </tr>\n",
       "  </tbody>\n",
       "</table>\n",
       "</div>"
      ],
      "text/plain": [
       "        genre  voting_med\n",
       "27  Film-Noir       910.5\n",
       "9     Mystery        83.0\n",
       "15   Thriller        75.0\n",
       "22     Horror        52.0\n",
       "4      Action        51.0\n",
       "13    Western        49.0\n",
       "6       Crime        48.0\n",
       "17    Romance        43.0\n",
       "12     Sci-Fi        42.0\n",
       "19  Adventure        41.0\n",
       "14      Drama        41.0\n",
       "18        War        40.0\n",
       "21    Fantasy        38.0\n",
       "20  Biography        37.0\n",
       "16    Musical        30.0"
      ]
     },
     "execution_count": 346,
     "metadata": {},
     "output_type": "execute_result"
    }
   ],
   "source": [
    "genre_df[[\"genre\",\"voting_med\"]].sort_values(by = \"voting_med\", ascending = False).head(15)"
   ]
  },
  {
   "cell_type": "code",
   "execution_count": 347,
   "metadata": {},
   "outputs": [],
   "source": [
    "bxpstats_rating = []\n",
    "for i in range(len(genre_df)):\n",
    "    temp = {}\n",
    "    temp[\"whishi\"] = genre_df[\"rating_med\"][i] + genre_df[\"rating_std\"][i]\n",
    "    temp[\"whislo\"] = genre_df[\"rating_med\"][i] - genre_df[\"rating_std\"][i]\n",
    "    temp[\"fliers\"] = []\n",
    "    temp[\"q1\"] = genre_df[\"rating_quant1\"][i]\n",
    "    temp[\"med\"] = genre_df[\"rating_med\"][i]\n",
    "    temp[\"q3\"] = genre_df[\"rating_quant3\"][i]\n",
    "    bxpstats_rating.append(temp)"
   ]
  },
  {
   "cell_type": "code",
   "execution_count": 348,
   "metadata": {},
   "outputs": [
    {
     "data": {
      "text/plain": [
       "<Axes: title={'center': 'Box and Whisker plot of Cinema Ratings'}>"
      ]
     },
     "execution_count": 348,
     "metadata": {},
     "output_type": "execute_result"
    },
    {
     "data": {
      "image/png": "[encoded data removed]",
      "text/plain": [
       "<Figure size 1170x827 with 1 Axes>"
      ]
     },
     "metadata": {},
     "output_type": "display_data"
    }
   ],
   "source": [
    "ax=  plt.subplot()\n",
    "ax.bxp(bxpstats_rating)\n",
    "ax.set_xticklabels(genre_df['genre'])\n",
    "plt.title(\"Box and Whisker plot of Cinema Ratings\")\n",
    "plt.xticks(rotation = 90)\n",
    "ax"
   ]
  },
  {
   "cell_type": "markdown",
   "metadata": {},
   "source": [
    "Horror movies have the widest distribution of ratings by a large margin. This would make sense, as they tend to be a seasonal production, that relies on some sort of gimmick to draw people to watch it."
   ]
  },
  {
   "cell_type": "code",
   "execution_count": 349,
   "metadata": {},
   "outputs": [],
   "source": [
    "bxpstats_run_time = []\n",
    "for i in range(len(genre_df)):\n",
    "    temp = {}\n",
    "    temp[\"whishi\"] = genre_df[\"run_time_med\"][i] + genre_df[\"run_time_std\"][i]\n",
    "    temp[\"whislo\"] = genre_df[\"run_time_med\"][i] - genre_df[\"run_time_std\"][i]\n",
    "    temp[\"fliers\"] = []\n",
    "    temp[\"q1\"] = genre_df[\"run_time_quant1\"][i]\n",
    "    temp[\"med\"] = genre_df[\"run_time_med\"][i]\n",
    "    temp[\"q3\"] = genre_df[\"run_time_quant3\"][i]\n",
    "    bxpstats_run_time.append(temp)"
   ]
  },
  {
   "cell_type": "code",
   "execution_count": 350,
   "metadata": {},
   "outputs": [
    {
     "data": {
      "text/plain": [
       "<Axes: title={'center': 'Box and Whisker plot of Motion Picture Run Times'}>"
      ]
     },
     "execution_count": 350,
     "metadata": {},
     "output_type": "execute_result"
    },
    {
     "data": {
      "image/png": "[encoded data removed]",
      "text/plain": [
       "<Figure size 1170x827 with 1 Axes>"
      ]
     },
     "metadata": {},
     "output_type": "display_data"
    }
   ],
   "source": [
    "ax=  plt.subplot()\n",
    "ax.bxp(bxpstats_run_time)\n",
    "ax.set_xticklabels(genre_df['genre'])\n",
    "plt.xticks(rotation = 90)\n",
    "plt.title(\"Box and Whisker plot of Motion Picture Run Times\")\n",
    "ax"
   ]
  },
  {
   "cell_type": "markdown",
   "metadata": {},
   "source": [
    "Movies/shows tend to have a median around the 50 minute mark, with varying quartile ranges. The documentaries contain the most extreme values for their interquartile lengths."
   ]
  },
  {
   "cell_type": "markdown",
   "metadata": {},
   "source": [
    "Another interesting thing to look at is the type of motion picture that is being produced. We can generate a list of this:"
   ]
  },
  {
   "cell_type": "code",
   "execution_count": 351,
   "metadata": {},
   "outputs": [
    {
     "data": {
      "text/plain": [
       "['short',\n",
       " 'movie',\n",
       " 'tvShort',\n",
       " 'tvMovie',\n",
       " 'tvSeries',\n",
       " 'tvEpisode',\n",
       " 'tvMiniSeries',\n",
       " 'tvSpecial',\n",
       " 'video',\n",
       " 'videoGame']"
      ]
     },
     "execution_count": 351,
     "metadata": {},
     "output_type": "execute_result"
    }
   ],
   "source": [
    "unique_types =df[\"type\"].unique()\n",
    "unique_types = list(unique_types)\n",
    "unique_types"
   ]
  },
  {
   "cell_type": "markdown",
   "metadata": {},
   "source": [
    "It seems as though IMDB categorizes types of motion pictures based on their length and whether they are a movie or television show"
   ]
  },
  {
   "cell_type": "code",
   "execution_count": 352,
   "metadata": {},
   "outputs": [],
   "source": [
    "type_dict = {}\n",
    "for types in unique_types:\n",
    "    temp_dict = {}\n",
    "    temp = df[df[\"type\"] == types]\n",
    "    \n",
    "    temp_dict[\"rating_avg\"] = temp[\"rating\"].mean()\n",
    "    temp_dict[\"votes_avg\"] = temp[\"num_votes\"].mean()\n",
    "    temp_dict[\"run_time_avg\"] = temp[\"run_time\"].mean()\n",
    "    \n",
    "    temp_dict[\"type _max\"] = temp[\"rating\"].max()\n",
    "    temp_dict[\"voting_max\"] = temp[\"num_votes\"].max()\n",
    "    temp_dict[\"run_time_max\"] = temp[\"run_time\"].max()\n",
    "    \n",
    "    temp_dict[\"rating_var\"] = temp[\"rating\"].var()\n",
    "    temp_dict[\"voting_var\"] = temp[\"num_votes\"].var()\n",
    "    temp_dict[\"run_time_var\"] = temp[\"run_time\"].var()\n",
    "    \n",
    "    temp_dict[\"rating_std\"] = temp[\"rating\"].std()\n",
    "    temp_dict[\"voting_std\"] = temp[\"num_votes\"].std()\n",
    "    temp_dict[\"run_time_std\"] = temp[\"run_time\"].std()\n",
    "\n",
    "    temp_dict[\"rating_med\"] = temp[\"rating\"].median()\n",
    "    temp_dict[\"voting_med\"] = temp[\"num_votes\"].median()\n",
    "    temp_dict[\"run_time_med\"] = temp[\"run_time\"].median()\n",
    "\n",
    "    temp_dict[\"rating_quant1\"] = temp[\"rating\"].quantile(0.25)\n",
    "    temp_dict[\"voting_quant1\"] = temp[\"num_votes\"].quantile(0.25)\n",
    "    temp_dict[\"run_time_quant1\"] = temp[\"run_time\"].quantile(0.25)\n",
    "\n",
    "    temp_dict[\"rating_quant3\"] = temp[\"rating\"].quantile(0.75)\n",
    "    temp_dict[\"voting_quant3\"] = temp[\"num_votes\"].quantile(0.75)\n",
    "    temp_dict[\"run_time_quant3\"] = temp[\"run_time\"].quantile(0.75)\n",
    "    \n",
    "    type_dict[types] = temp_dict\n"
   ]
  },
  {
   "cell_type": "code",
   "execution_count": 353,
   "metadata": {},
   "outputs": [],
   "source": [
    "type_df =  pd.DataFrame.from_dict(type_dict, orient = \"index\")\n",
    "type_df.reset_index(inplace = True)\n",
    "type_df = type_df.rename(columns= {\"index\":\"type\"})"
   ]
  },
  {
   "cell_type": "code",
   "execution_count": 354,
   "metadata": {},
   "outputs": [],
   "source": [
    "bxpstats_rating = []\n",
    "for i in range(len(type_df)):\n",
    "    temp = {}\n",
    "    temp[\"whishi\"] = type_df[\"rating_med\"][i] + type_df[\"rating_std\"][i]\n",
    "    temp[\"whislo\"] = type_df[\"rating_med\"][i] - type_df[\"rating_std\"][i]\n",
    "    temp[\"fliers\"] = []\n",
    "    temp[\"q1\"] = type_df[\"rating_quant1\"][i]\n",
    "    temp[\"med\"] = type_df[\"rating_med\"][i]\n",
    "    temp[\"q3\"] = type_df[\"rating_quant3\"][i]\n",
    "    bxpstats_rating.append(temp)"
   ]
  },
  {
   "cell_type": "code",
   "execution_count": 355,
   "metadata": {},
   "outputs": [
    {
     "data": {
      "text/plain": [
       "<Axes: title={'center': 'Box and Whisker plot of Motion Picture Type Ratings'}>"
      ]
     },
     "execution_count": 355,
     "metadata": {},
     "output_type": "execute_result"
    },
    {
     "data": {
      "image/png": "[encoded data removed]",
      "text/plain": [
       "<Figure size 1170x827 with 1 Axes>"
      ]
     },
     "metadata": {},
     "output_type": "display_data"
    }
   ],
   "source": [
    "ax=  plt.subplot()\n",
    "ax.bxp(bxpstats_rating)\n",
    "ax.set_xticklabels(type_df['type'])\n",
    "plt.xticks(rotation = 90)\n",
    "plt.title(\"Box and Whisker plot of Motion Picture Type Ratings\")\n",
    "ax"
   ]
  },
  {
   "cell_type": "code",
   "execution_count": 356,
   "metadata": {},
   "outputs": [],
   "source": [
    "bxpstats_run_time = []\n",
    "for i in range(len(type_df)):\n",
    "    temp = {}\n",
    "    temp[\"whishi\"] = type_df[\"run_time_med\"][i] + type_df[\"run_time_std\"][i]\n",
    "    temp[\"whislo\"] = type_df[\"run_time_med\"][i] - type_df[\"run_time_std\"][i]\n",
    "    temp[\"fliers\"] = []\n",
    "    temp[\"q1\"] = type_df[\"run_time_quant1\"][i]\n",
    "    temp[\"med\"] = type_df[\"run_time_med\"][i]\n",
    "    temp[\"q3\"] = type_df[\"run_time_quant3\"][i]\n",
    "    bxpstats_run_time.append(temp)"
   ]
  },
  {
   "cell_type": "code",
   "execution_count": 357,
   "metadata": {},
   "outputs": [
    {
     "data": {
      "text/plain": [
       "<Axes: title={'center': 'Box and Whisker plot of Motion Picture Type Run Times'}>"
      ]
     },
     "execution_count": 357,
     "metadata": {},
     "output_type": "execute_result"
    },
    {
     "data": {
      "image/png": "[encoded data removed]",
      "text/plain": [
       "<Figure size 1170x827 with 1 Axes>"
      ]
     },
     "metadata": {},
     "output_type": "display_data"
    }
   ],
   "source": [
    "ax=  plt.subplot()\n",
    "ax.bxp(bxpstats_run_time)\n",
    "ax.set_xticklabels(type_df['type'])\n",
    "plt.xticks(rotation = 90)\n",
    "plt.title(\"Box and Whisker plot of Motion Picture Type Run Times\")\n",
    "ax"
   ]
  },
  {
   "cell_type": "markdown",
   "metadata": {},
   "source": [
    "### Actor Analysis:"
   ]
  },
  {
   "cell_type": "code",
   "execution_count": 358,
   "metadata": {},
   "outputs": [
    {
     "data": {
      "text/html": [
       "<div>\n",
       "<style scoped>\n",
       "    .dataframe tbody tr th:only-of-type {\n",
       "        vertical-align: middle;\n",
       "    }\n",
       "\n",
       "    .dataframe tbody tr th {\n",
       "        vertical-align: top;\n",
       "    }\n",
       "\n",
       "    .dataframe thead th {\n",
       "        text-align: right;\n",
       "    }\n",
       "</style>\n",
       "<table border=\"1\" class=\"dataframe\">\n",
       "  <thead>\n",
       "    <tr style=\"text-align: right;\">\n",
       "      <th></th>\n",
       "      <th>nameID</th>\n",
       "      <th>name</th>\n",
       "      <th>profession</th>\n",
       "      <th>movie_id</th>\n",
       "    </tr>\n",
       "  </thead>\n",
       "  <tbody>\n",
       "    <tr>\n",
       "      <th>0</th>\n",
       "      <td>nm0000001</td>\n",
       "      <td>Fred Astaire</td>\n",
       "      <td>actor,miscellaneous,producer</td>\n",
       "      <td>tt0072308</td>\n",
       "    </tr>\n",
       "    <tr>\n",
       "      <th>1</th>\n",
       "      <td>nm0000002</td>\n",
       "      <td>Lauren Bacall</td>\n",
       "      <td>actress,soundtrack,archive_footage</td>\n",
       "      <td>tt0037382</td>\n",
       "    </tr>\n",
       "    <tr>\n",
       "      <th>2</th>\n",
       "      <td>nm0000003</td>\n",
       "      <td>Brigitte Bardot</td>\n",
       "      <td>actress,music_department,producer</td>\n",
       "      <td>tt0057345</td>\n",
       "    </tr>\n",
       "    <tr>\n",
       "      <th>3</th>\n",
       "      <td>nm0000004</td>\n",
       "      <td>John Belushi</td>\n",
       "      <td>actor,writer,music_department</td>\n",
       "      <td>tt0072562</td>\n",
       "    </tr>\n",
       "    <tr>\n",
       "      <th>4</th>\n",
       "      <td>nm0000005</td>\n",
       "      <td>Ingmar Bergman</td>\n",
       "      <td>writer,director,actor</td>\n",
       "      <td>tt0050986</td>\n",
       "    </tr>\n",
       "    <tr>\n",
       "      <th>...</th>\n",
       "      <td>...</td>\n",
       "      <td>...</td>\n",
       "      <td>...</td>\n",
       "      <td>...</td>\n",
       "    </tr>\n",
       "    <tr>\n",
       "      <th>23508649</th>\n",
       "      <td>nm9993694</td>\n",
       "      <td>actor,director,writer</td>\n",
       "      <td>Chinmay Mishra</td>\n",
       "      <td>tt9083282</td>\n",
       "    </tr>\n",
       "    <tr>\n",
       "      <th>23508650</th>\n",
       "      <td>nm9993703</td>\n",
       "      <td>actor</td>\n",
       "      <td>James Craigmyle</td>\n",
       "      <td>tt6225166</td>\n",
       "    </tr>\n",
       "    <tr>\n",
       "      <th>23508651</th>\n",
       "      <td>nm9993708</td>\n",
       "      <td>producer,director,writer</td>\n",
       "      <td>Eli Bevins</td>\n",
       "      <td>tt11772858</td>\n",
       "    </tr>\n",
       "    <tr>\n",
       "      <th>23508652</th>\n",
       "      <td>nm9993709</td>\n",
       "      <td>producer,director,writer</td>\n",
       "      <td>Lu Bevins</td>\n",
       "      <td>tt11697102</td>\n",
       "    </tr>\n",
       "    <tr>\n",
       "      <th>23508653</th>\n",
       "      <td>nm9993713</td>\n",
       "      <td>writer,producer</td>\n",
       "      <td>Sambit Mishra</td>\n",
       "      <td>tt15134202</td>\n",
       "    </tr>\n",
       "  </tbody>\n",
       "</table>\n",
       "<p>23508654 rows × 4 columns</p>\n",
       "</div>"
      ],
      "text/plain": [
       "             nameID                      name  \\\n",
       "0         nm0000001              Fred Astaire   \n",
       "1         nm0000002             Lauren Bacall   \n",
       "2         nm0000003           Brigitte Bardot   \n",
       "3         nm0000004              John Belushi   \n",
       "4         nm0000005            Ingmar Bergman   \n",
       "...             ...                       ...   \n",
       "23508649  nm9993694     actor,director,writer   \n",
       "23508650  nm9993703                     actor   \n",
       "23508651  nm9993708  producer,director,writer   \n",
       "23508652  nm9993709  producer,director,writer   \n",
       "23508653  nm9993713           writer,producer   \n",
       "\n",
       "                                  profession    movie_id  \n",
       "0               actor,miscellaneous,producer   tt0072308  \n",
       "1         actress,soundtrack,archive_footage   tt0037382  \n",
       "2          actress,music_department,producer   tt0057345  \n",
       "3              actor,writer,music_department   tt0072562  \n",
       "4                      writer,director,actor   tt0050986  \n",
       "...                                      ...         ...  \n",
       "23508649                      Chinmay Mishra   tt9083282  \n",
       "23508650                     James Craigmyle   tt6225166  \n",
       "23508651                          Eli Bevins  tt11772858  \n",
       "23508652                           Lu Bevins  tt11697102  \n",
       "23508653                       Sambit Mishra  tt15134202  \n",
       "\n",
       "[23508654 rows x 4 columns]"
      ]
     },
     "execution_count": 358,
     "metadata": {},
     "output_type": "execute_result"
    }
   ],
   "source": [
    "df2"
   ]
  },
  {
   "cell_type": "code",
   "execution_count": 359,
   "metadata": {},
   "outputs": [],
   "source": [
    "df2_filtered = df2[df2[\"profession\"].str.contains(\"actor|actress\", case= False, na =False)]\n",
    "actors = pd.merge(df2_filtered,df[[\"titleID\", \"type\",\"primary_title\",\"genre_list\",\"rating\",\"num_votes\"]], left_on = \"movie_id\", right_on = \"titleID\" )"
   ]
  },
  {
   "cell_type": "code",
   "execution_count": 360,
   "metadata": {},
   "outputs": [
    {
     "data": {
      "text/html": [
       "<div>\n",
       "<style scoped>\n",
       "    .dataframe tbody tr th:only-of-type {\n",
       "        vertical-align: middle;\n",
       "    }\n",
       "\n",
       "    .dataframe tbody tr th {\n",
       "        vertical-align: top;\n",
       "    }\n",
       "\n",
       "    .dataframe thead th {\n",
       "        text-align: right;\n",
       "    }\n",
       "</style>\n",
       "<table border=\"1\" class=\"dataframe\">\n",
       "  <thead>\n",
       "    <tr style=\"text-align: right;\">\n",
       "      <th></th>\n",
       "      <th>nameID</th>\n",
       "      <th>name</th>\n",
       "      <th>profession</th>\n",
       "      <th>movie_id</th>\n",
       "      <th>titleID</th>\n",
       "      <th>type</th>\n",
       "      <th>primary_title</th>\n",
       "      <th>genre_list</th>\n",
       "      <th>rating</th>\n",
       "      <th>num_votes</th>\n",
       "    </tr>\n",
       "  </thead>\n",
       "  <tbody>\n",
       "    <tr>\n",
       "      <th>0</th>\n",
       "      <td>nm0000001</td>\n",
       "      <td>Fred Astaire</td>\n",
       "      <td>actor,miscellaneous,producer</td>\n",
       "      <td>tt0072308</td>\n",
       "      <td>tt0072308</td>\n",
       "      <td>movie</td>\n",
       "      <td>The Towering Inferno</td>\n",
       "      <td>[Action, Drama, Thriller]</td>\n",
       "      <td>7.0</td>\n",
       "      <td>48116</td>\n",
       "    </tr>\n",
       "    <tr>\n",
       "      <th>1</th>\n",
       "      <td>nm0000002</td>\n",
       "      <td>Lauren Bacall</td>\n",
       "      <td>actress,soundtrack,archive_footage</td>\n",
       "      <td>tt0037382</td>\n",
       "      <td>tt0037382</td>\n",
       "      <td>movie</td>\n",
       "      <td>To Have and Have Not</td>\n",
       "      <td>[Adventure, Comedy, Film-Noir]</td>\n",
       "      <td>7.8</td>\n",
       "      <td>37943</td>\n",
       "    </tr>\n",
       "    <tr>\n",
       "      <th>2</th>\n",
       "      <td>nm0000003</td>\n",
       "      <td>Brigitte Bardot</td>\n",
       "      <td>actress,music_department,producer</td>\n",
       "      <td>tt0057345</td>\n",
       "      <td>tt0057345</td>\n",
       "      <td>movie</td>\n",
       "      <td>Contempt</td>\n",
       "      <td>[Drama, Romance]</td>\n",
       "      <td>7.5</td>\n",
       "      <td>35965</td>\n",
       "    </tr>\n",
       "    <tr>\n",
       "      <th>3</th>\n",
       "      <td>nm0000004</td>\n",
       "      <td>John Belushi</td>\n",
       "      <td>actor,writer,music_department</td>\n",
       "      <td>tt0072562</td>\n",
       "      <td>tt0072562</td>\n",
       "      <td>tvSeries</td>\n",
       "      <td>Saturday Night Live</td>\n",
       "      <td>[Comedy, Music]</td>\n",
       "      <td>8.0</td>\n",
       "      <td>52580</td>\n",
       "    </tr>\n",
       "    <tr>\n",
       "      <th>4</th>\n",
       "      <td>nm0000005</td>\n",
       "      <td>Ingmar Bergman</td>\n",
       "      <td>writer,director,actor</td>\n",
       "      <td>tt0050986</td>\n",
       "      <td>tt0050986</td>\n",
       "      <td>movie</td>\n",
       "      <td>Wild Strawberries</td>\n",
       "      <td>[Drama, Romance]</td>\n",
       "      <td>8.1</td>\n",
       "      <td>114735</td>\n",
       "    </tr>\n",
       "  </tbody>\n",
       "</table>\n",
       "</div>"
      ],
      "text/plain": [
       "      nameID             name                          profession   movie_id  \\\n",
       "0  nm0000001     Fred Astaire        actor,miscellaneous,producer  tt0072308   \n",
       "1  nm0000002    Lauren Bacall  actress,soundtrack,archive_footage  tt0037382   \n",
       "2  nm0000003  Brigitte Bardot   actress,music_department,producer  tt0057345   \n",
       "3  nm0000004     John Belushi       actor,writer,music_department  tt0072562   \n",
       "4  nm0000005   Ingmar Bergman               writer,director,actor  tt0050986   \n",
       "\n",
       "     titleID      type         primary_title                      genre_list  \\\n",
       "0  tt0072308     movie  The Towering Inferno       [Action, Drama, Thriller]   \n",
       "1  tt0037382     movie  To Have and Have Not  [Adventure, Comedy, Film-Noir]   \n",
       "2  tt0057345     movie              Contempt                [Drama, Romance]   \n",
       "3  tt0072562  tvSeries   Saturday Night Live                 [Comedy, Music]   \n",
       "4  tt0050986     movie     Wild Strawberries                [Drama, Romance]   \n",
       "\n",
       "   rating  num_votes  \n",
       "0     7.0      48116  \n",
       "1     7.8      37943  \n",
       "2     7.5      35965  \n",
       "3     8.0      52580  \n",
       "4     8.1     114735  "
      ]
     },
     "execution_count": 360,
     "metadata": {},
     "output_type": "execute_result"
    }
   ],
   "source": [
    "actors.head()"
   ]
  },
  {
   "cell_type": "code",
   "execution_count": 361,
   "metadata": {},
   "outputs": [],
   "source": [
    "grouped_actors = actors[[\"nameID\",\"name\",\"rating\",\"num_votes\"]].groupby(by = [\"nameID\", \"name\"]).agg({\"rating\": \"mean\" ,\"num_votes\": \"mean\"}).reset_index()"
   ]
  },
  {
   "cell_type": "code",
   "execution_count": 363,
   "metadata": {},
   "outputs": [
    {
     "data": {
      "text/html": [
       "<div>\n",
       "<style scoped>\n",
       "    .dataframe tbody tr th:only-of-type {\n",
       "        vertical-align: middle;\n",
       "    }\n",
       "\n",
       "    .dataframe tbody tr th {\n",
       "        vertical-align: top;\n",
       "    }\n",
       "\n",
       "    .dataframe thead th {\n",
       "        text-align: right;\n",
       "    }\n",
       "</style>\n",
       "<table border=\"1\" class=\"dataframe\">\n",
       "  <thead>\n",
       "    <tr style=\"text-align: right;\">\n",
       "      <th></th>\n",
       "      <th>nameID</th>\n",
       "      <th>name</th>\n",
       "      <th>rating</th>\n",
       "      <th>num_votes</th>\n",
       "    </tr>\n",
       "  </thead>\n",
       "  <tbody>\n",
       "    <tr>\n",
       "      <th>0</th>\n",
       "      <td>nm0000001</td>\n",
       "      <td>Fred Astaire</td>\n",
       "      <td>7.05</td>\n",
       "      <td>31250.0</td>\n",
       "    </tr>\n",
       "    <tr>\n",
       "      <th>1</th>\n",
       "      <td>nm0000002</td>\n",
       "      <td>Lauren Bacall</td>\n",
       "      <td>7.20</td>\n",
       "      <td>30135.5</td>\n",
       "    </tr>\n",
       "    <tr>\n",
       "      <th>2</th>\n",
       "      <td>nm0000003</td>\n",
       "      <td>Brigitte Bardot</td>\n",
       "      <td>6.50</td>\n",
       "      <td>18346.5</td>\n",
       "    </tr>\n",
       "    <tr>\n",
       "      <th>3</th>\n",
       "      <td>nm0000004</td>\n",
       "      <td>John Belushi</td>\n",
       "      <td>7.95</td>\n",
       "      <td>133343.0</td>\n",
       "    </tr>\n",
       "    <tr>\n",
       "      <th>4</th>\n",
       "      <td>nm0000005</td>\n",
       "      <td>Ingmar Bergman</td>\n",
       "      <td>8.10</td>\n",
       "      <td>156399.5</td>\n",
       "    </tr>\n",
       "    <tr>\n",
       "      <th>...</th>\n",
       "      <td>...</td>\n",
       "      <td>...</td>\n",
       "      <td>...</td>\n",
       "      <td>...</td>\n",
       "    </tr>\n",
       "    <tr>\n",
       "      <th>3085991</th>\n",
       "      <td>nm9993656</td>\n",
       "      <td>Jerzy Ciurlok</td>\n",
       "      <td>5.40</td>\n",
       "      <td>153.0</td>\n",
       "    </tr>\n",
       "    <tr>\n",
       "      <th>3085992</th>\n",
       "      <td>nm9993693</td>\n",
       "      <td>Apsara Rani</td>\n",
       "      <td>4.85</td>\n",
       "      <td>947.5</td>\n",
       "    </tr>\n",
       "    <tr>\n",
       "      <th>3085993</th>\n",
       "      <td>nm9993694</td>\n",
       "      <td>Chinmay Mishra</td>\n",
       "      <td>8.80</td>\n",
       "      <td>36.0</td>\n",
       "    </tr>\n",
       "    <tr>\n",
       "      <th>3085994</th>\n",
       "      <td>nm9993700</td>\n",
       "      <td>Sexy Angel</td>\n",
       "      <td>5.10</td>\n",
       "      <td>13.0</td>\n",
       "    </tr>\n",
       "    <tr>\n",
       "      <th>3085995</th>\n",
       "      <td>nm9993703</td>\n",
       "      <td>James Craigmyle</td>\n",
       "      <td>7.80</td>\n",
       "      <td>351.0</td>\n",
       "    </tr>\n",
       "  </tbody>\n",
       "</table>\n",
       "<p>3085996 rows × 4 columns</p>\n",
       "</div>"
      ],
      "text/plain": [
       "            nameID             name  rating  num_votes\n",
       "0        nm0000001     Fred Astaire    7.05    31250.0\n",
       "1        nm0000002    Lauren Bacall    7.20    30135.5\n",
       "2        nm0000003  Brigitte Bardot    6.50    18346.5\n",
       "3        nm0000004     John Belushi    7.95   133343.0\n",
       "4        nm0000005   Ingmar Bergman    8.10   156399.5\n",
       "...            ...              ...     ...        ...\n",
       "3085991  nm9993656    Jerzy Ciurlok    5.40      153.0\n",
       "3085992  nm9993693      Apsara Rani    4.85      947.5\n",
       "3085993  nm9993694   Chinmay Mishra    8.80       36.0\n",
       "3085994  nm9993700       Sexy Angel    5.10       13.0\n",
       "3085995  nm9993703  James Craigmyle    7.80      351.0\n",
       "\n",
       "[3085996 rows x 4 columns]"
      ]
     },
     "execution_count": 363,
     "metadata": {},
     "output_type": "execute_result"
    }
   ],
   "source": [
    "grouped_actors"
   ]
  },
  {
   "cell_type": "markdown",
   "metadata": {},
   "source": [
    "Unfortunately it is difficult to gather much information from our acting dataframe. This is because the highest rated actors are often people that had only 1 appearance as an extra in a show/movie that happened to recieve good reviews. For example:"
   ]
  },
  {
   "cell_type": "code",
   "execution_count": 365,
   "metadata": {},
   "outputs": [
    {
     "data": {
      "text/html": [
       "<div>\n",
       "<style scoped>\n",
       "    .dataframe tbody tr th:only-of-type {\n",
       "        vertical-align: middle;\n",
       "    }\n",
       "\n",
       "    .dataframe tbody tr th {\n",
       "        vertical-align: top;\n",
       "    }\n",
       "\n",
       "    .dataframe thead th {\n",
       "        text-align: right;\n",
       "    }\n",
       "</style>\n",
       "<table border=\"1\" class=\"dataframe\">\n",
       "  <thead>\n",
       "    <tr style=\"text-align: right;\">\n",
       "      <th></th>\n",
       "      <th>nameID</th>\n",
       "      <th>name</th>\n",
       "      <th>rating</th>\n",
       "      <th>num_votes</th>\n",
       "    </tr>\n",
       "  </thead>\n",
       "  <tbody>\n",
       "    <tr>\n",
       "      <th>813365</th>\n",
       "      <td>nm1193643</td>\n",
       "      <td>Samantha Anastasiou</td>\n",
       "      <td>9.5</td>\n",
       "      <td>2127233.0</td>\n",
       "    </tr>\n",
       "    <tr>\n",
       "      <th>177236</th>\n",
       "      <td>nm0366479</td>\n",
       "      <td>Phillip Hart</td>\n",
       "      <td>9.5</td>\n",
       "      <td>2127233.0</td>\n",
       "    </tr>\n",
       "    <tr>\n",
       "      <th>1943311</th>\n",
       "      <td>nm3613578</td>\n",
       "      <td>Erin Miller-Gibbs</td>\n",
       "      <td>9.5</td>\n",
       "      <td>2127233.0</td>\n",
       "    </tr>\n",
       "    <tr>\n",
       "      <th>1768171</th>\n",
       "      <td>nm2944532</td>\n",
       "      <td>Jesus Ramirez</td>\n",
       "      <td>9.5</td>\n",
       "      <td>2127233.0</td>\n",
       "    </tr>\n",
       "    <tr>\n",
       "      <th>2430648</th>\n",
       "      <td>nm5901211</td>\n",
       "      <td>Millard Drexler</td>\n",
       "      <td>9.5</td>\n",
       "      <td>2127233.0</td>\n",
       "    </tr>\n",
       "    <tr>\n",
       "      <th>1768189</th>\n",
       "      <td>nm2944601</td>\n",
       "      <td>Jason Byrd</td>\n",
       "      <td>9.5</td>\n",
       "      <td>2127233.0</td>\n",
       "    </tr>\n",
       "    <tr>\n",
       "      <th>2428150</th>\n",
       "      <td>nm5887567</td>\n",
       "      <td>Victoria Lease</td>\n",
       "      <td>9.5</td>\n",
       "      <td>2127233.0</td>\n",
       "    </tr>\n",
       "    <tr>\n",
       "      <th>2159695</th>\n",
       "      <td>nm4576082</td>\n",
       "      <td>Veronica Jaquez</td>\n",
       "      <td>9.5</td>\n",
       "      <td>2127233.0</td>\n",
       "    </tr>\n",
       "    <tr>\n",
       "      <th>2159665</th>\n",
       "      <td>nm4575861</td>\n",
       "      <td>Maria L. Pardo</td>\n",
       "      <td>9.5</td>\n",
       "      <td>2127233.0</td>\n",
       "    </tr>\n",
       "    <tr>\n",
       "      <th>1967525</th>\n",
       "      <td>nm3714123</td>\n",
       "      <td>Martiniano Berrelleza Alvarado</td>\n",
       "      <td>9.5</td>\n",
       "      <td>2127233.0</td>\n",
       "    </tr>\n",
       "  </tbody>\n",
       "</table>\n",
       "</div>"
      ],
      "text/plain": [
       "            nameID                            name  rating  num_votes\n",
       "813365   nm1193643             Samantha Anastasiou     9.5  2127233.0\n",
       "177236   nm0366479                    Phillip Hart     9.5  2127233.0\n",
       "1943311  nm3613578               Erin Miller-Gibbs     9.5  2127233.0\n",
       "1768171  nm2944532                   Jesus Ramirez     9.5  2127233.0\n",
       "2430648  nm5901211                 Millard Drexler     9.5  2127233.0\n",
       "1768189  nm2944601                      Jason Byrd     9.5  2127233.0\n",
       "2428150  nm5887567                  Victoria Lease     9.5  2127233.0\n",
       "2159695  nm4576082                 Veronica Jaquez     9.5  2127233.0\n",
       "2159665  nm4575861                  Maria L. Pardo     9.5  2127233.0\n",
       "1967525  nm3714123  Martiniano Berrelleza Alvarado     9.5  2127233.0"
      ]
     },
     "execution_count": 365,
     "metadata": {},
     "output_type": "execute_result"
    }
   ],
   "source": [
    "grouped_actors[grouped_actors[\"num_votes\"]> 100000].sort_values(by = \"rating\", ascending = False).head(10)"
   ]
  },
  {
   "cell_type": "markdown",
   "metadata": {},
   "source": [
    "Even when we filter by actors with over 100000 average votes, all of the top 10 actors have the same rating and the same amount of votes, because they appeared in the same production. We can determine the production that they are in by looking at their ungrouped data: "
   ]
  },
  {
   "cell_type": "code",
   "execution_count": 366,
   "metadata": {},
   "outputs": [
    {
     "data": {
      "text/html": [
       "<div>\n",
       "<style scoped>\n",
       "    .dataframe tbody tr th:only-of-type {\n",
       "        vertical-align: middle;\n",
       "    }\n",
       "\n",
       "    .dataframe tbody tr th {\n",
       "        vertical-align: top;\n",
       "    }\n",
       "\n",
       "    .dataframe thead th {\n",
       "        text-align: right;\n",
       "    }\n",
       "</style>\n",
       "<table border=\"1\" class=\"dataframe\">\n",
       "  <thead>\n",
       "    <tr style=\"text-align: right;\">\n",
       "      <th></th>\n",
       "      <th>nameID</th>\n",
       "      <th>name</th>\n",
       "      <th>profession</th>\n",
       "      <th>movie_id</th>\n",
       "      <th>titleID</th>\n",
       "      <th>type</th>\n",
       "      <th>primary_title</th>\n",
       "      <th>genre_list</th>\n",
       "      <th>rating</th>\n",
       "      <th>num_votes</th>\n",
       "    </tr>\n",
       "  </thead>\n",
       "  <tbody>\n",
       "    <tr>\n",
       "      <th>779289</th>\n",
       "      <td>nm1193643</td>\n",
       "      <td>Samantha Anastasiou</td>\n",
       "      <td>costume_department,costume_designer,actress</td>\n",
       "      <td>tt0903747</td>\n",
       "      <td>tt0903747</td>\n",
       "      <td>tvSeries</td>\n",
       "      <td>Breaking Bad</td>\n",
       "      <td>[Crime, Drama, Thriller]</td>\n",
       "      <td>9.5</td>\n",
       "      <td>2127233</td>\n",
       "    </tr>\n",
       "  </tbody>\n",
       "</table>\n",
       "</div>"
      ],
      "text/plain": [
       "           nameID                 name  \\\n",
       "779289  nm1193643  Samantha Anastasiou   \n",
       "\n",
       "                                         profession   movie_id    titleID  \\\n",
       "779289  costume_department,costume_designer,actress  tt0903747  tt0903747   \n",
       "\n",
       "            type primary_title                genre_list  rating  num_votes  \n",
       "779289  tvSeries  Breaking Bad  [Crime, Drama, Thriller]     9.5    2127233  "
      ]
     },
     "execution_count": 366,
     "metadata": {},
     "output_type": "execute_result"
    }
   ],
   "source": [
    "actors[actors[\"nameID\"] == \"nm1193643\"]"
   ]
  },
  {
   "cell_type": "markdown",
   "metadata": {},
   "source": [
    "Clearly something would need to be done to improve the analysis on this data. To improve it, another column could be added that specifies if an actors role was a lead in the production, or the grouping could be filtered for those that have appeared in more than one production, as this would make it less likely for them to have such a high rating as an extra."
   ]
  },
  {
   "cell_type": "code",
   "execution_count": null,
   "metadata": {},
   "outputs": [],
   "source": [
    "mydb.close()"
   ]
  },
  {
   "cell_type": "markdown",
   "metadata": {},
   "source": [
    "## Conclusions\n",
    "\n",
    "* The most popular motion picture genres to produce are dramas and comedies by a significant margin\n",
    "* The invention of smartphones has lowered the bar for motion picture production, causing an influx of pieces and as a result, lowering the average amount of votes on any one motion picture\n",
    "* The highest rated genres on average are documentaries and historical pieces\n",
    "* The most volatile genre are horror films, which eigher become cult classics or forgotten flops\n",
    "* The length of cinema over time has increased significantly, due to major culture shifts that happened in the 1920s\n",
    "* Tv shows are more likely to be highly rated than movies \n",
    "* The reviewing habits of consumers over time have changed to be more generous\n",
    "* In order to analyze an actors' influence in cinema, more data will need to be gathered"
   ]
  }
 ],
 "metadata": {
  "kernelspec": {
   "display_name": "Python 3",
   "language": "python",
   "name": "python3"
  },
  "language_info": {
   "codemirror_mode": {
    "name": "ipython",
    "version": 3
   },
   "file_extension": ".py",
   "mimetype": "text/x-python",
   "name": "python",
   "nbconvert_exporter": "python",
   "pygments_lexer": "ipython3",
   "version": "3.12.2"
  }
 },
 "nbformat": 4,
 "nbformat_minor": 2
}
