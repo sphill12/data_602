{
  "cells": [
    {
      "cell_type": "markdown",
      "metadata": {
        "id": "xqXbEBZtB8-u"
      },
      "source": [
        "# **Assignment 10**"
      ]
    },
    {
      "cell_type": "code",
      "execution_count": 1,
      "metadata": {
        "id": "Iqswq2_ak3e-"
      },
      "outputs": [],
      "source": [
        "# core\n",
        "import matplotlib.pyplot as plt\n",
        "import numpy as np\n",
        "import pandas as pd\n",
        "\n",
        "# ml\n",
        "from sklearn import datasets as ds\n",
        "from sklearn import linear_model as lm\n",
        "from sklearn.neighbors import KNeighborsClassifier as KNN\n",
        "from sklearn.model_selection import train_test_split as tts\n",
        "\n",
        "#plotly or other graphing library"
      ]
    },
    {
      "cell_type": "code",
      "execution_count": 4,
      "metadata": {
        "id": "92pRcki-k3kH"
      },
      "outputs": [],
      "source": [
        "# Load datasets here once and assign to variables iris and boston\n",
        "\n",
        "iris = ds.load_iris()\n",
        "boston = 0"
      ]
    },
    {
      "cell_type": "markdown",
      "metadata": {
        "id": "lA9exQg2lFEn"
      },
      "source": [
        "**Q1** \n",
        "\n",
        "**Data set: Iris**\n",
        "\n",
        "* Return the first 5 rows of the data including the feature names as column headings in a DataFrame and a\n",
        "separate Python list containing target names"
      ]
    },
    {
      "cell_type": "code",
      "execution_count": 14,
      "metadata": {
        "id": "1kcEFauAlAxY"
      },
      "outputs": [
        {
          "name": "stdout",
          "output_type": "stream",
          "text": [
            "['setosa' 'versicolor' 'virginica']\n"
          ]
        },
        {
          "data": {
            "text/html": [
              "<div>\n",
              "<style scoped>\n",
              "    .dataframe tbody tr th:only-of-type {\n",
              "        vertical-align: middle;\n",
              "    }\n",
              "\n",
              "    .dataframe tbody tr th {\n",
              "        vertical-align: top;\n",
              "    }\n",
              "\n",
              "    .dataframe thead th {\n",
              "        text-align: right;\n",
              "    }\n",
              "</style>\n",
              "<table border=\"1\" class=\"dataframe\">\n",
              "  <thead>\n",
              "    <tr style=\"text-align: right;\">\n",
              "      <th></th>\n",
              "      <th>sepal length (cm)</th>\n",
              "      <th>sepal width (cm)</th>\n",
              "      <th>petal length (cm)</th>\n",
              "      <th>petal width (cm)</th>\n",
              "    </tr>\n",
              "  </thead>\n",
              "  <tbody>\n",
              "    <tr>\n",
              "      <th>0</th>\n",
              "      <td>5.1</td>\n",
              "      <td>3.5</td>\n",
              "      <td>1.4</td>\n",
              "      <td>0.2</td>\n",
              "    </tr>\n",
              "    <tr>\n",
              "      <th>1</th>\n",
              "      <td>4.9</td>\n",
              "      <td>3.0</td>\n",
              "      <td>1.4</td>\n",
              "      <td>0.2</td>\n",
              "    </tr>\n",
              "    <tr>\n",
              "      <th>2</th>\n",
              "      <td>4.7</td>\n",
              "      <td>3.2</td>\n",
              "      <td>1.3</td>\n",
              "      <td>0.2</td>\n",
              "    </tr>\n",
              "    <tr>\n",
              "      <th>3</th>\n",
              "      <td>4.6</td>\n",
              "      <td>3.1</td>\n",
              "      <td>1.5</td>\n",
              "      <td>0.2</td>\n",
              "    </tr>\n",
              "    <tr>\n",
              "      <th>4</th>\n",
              "      <td>5.0</td>\n",
              "      <td>3.6</td>\n",
              "      <td>1.4</td>\n",
              "      <td>0.2</td>\n",
              "    </tr>\n",
              "  </tbody>\n",
              "</table>\n",
              "</div>"
            ],
            "text/plain": [
              "   sepal length (cm)  sepal width (cm)  petal length (cm)  petal width (cm)\n",
              "0                5.1               3.5                1.4               0.2\n",
              "1                4.9               3.0                1.4               0.2\n",
              "2                4.7               3.2                1.3               0.2\n",
              "3                4.6               3.1                1.5               0.2\n",
              "4                5.0               3.6                1.4               0.2"
            ]
          },
          "execution_count": 14,
          "metadata": {},
          "output_type": "execute_result"
        }
      ],
      "source": [
        "\n",
        "print(iris.target_names)\n",
        "pd.DataFrame(data = iris.data,columns = iris.feature_names).head(5)\n"
      ]
    },
    {
      "cell_type": "markdown",
      "metadata": {
        "id": "o2GEIhqzlT-i"
      },
      "source": [
        "**Q2**\n",
        "\n",
        "**Data set: Iris**\n",
        "\n",
        "* Fit the Iris dataset into a kNN model with neighbors=5 and predict the category of observations passed in \n",
        "argument new_observations. Return back the target names of each prediction (and not their encoded values,\n",
        " i.e. return setosa instead of 0)."
      ]
    },
    {
      "cell_type": "code",
      "execution_count": 32,
      "metadata": {
        "id": "wyqbRKh5lAzg"
      },
      "outputs": [
        {
          "name": "stdout",
          "output_type": "stream",
          "text": [
            "['setosa', 'setosa', 'setosa', 'setosa', 'setosa', 'setosa', 'setosa', 'setosa', 'setosa', 'setosa', 'setosa', 'setosa', 'setosa', 'setosa', 'setosa', 'setosa', 'setosa', 'setosa', 'setosa', 'setosa', 'setosa', 'setosa', 'setosa', 'setosa', 'setosa', 'setosa', 'setosa', 'setosa', 'setosa', 'setosa', 'setosa', 'setosa', 'setosa', 'setosa', 'setosa', 'setosa', 'setosa', 'setosa', 'setosa', 'setosa', 'setosa', 'setosa', 'setosa', 'setosa', 'setosa', 'setosa', 'setosa', 'setosa', 'setosa', 'setosa', 'versicolor', 'versicolor', 'versicolor', 'versicolor', 'versicolor', 'versicolor', 'versicolor', 'versicolor', 'versicolor', 'versicolor', 'versicolor', 'versicolor', 'versicolor', 'versicolor', 'versicolor', 'versicolor', 'versicolor', 'versicolor', 'versicolor', 'versicolor', 'virginica', 'versicolor', 'virginica', 'versicolor', 'versicolor', 'versicolor', 'versicolor', 'versicolor', 'versicolor', 'versicolor', 'versicolor', 'versicolor', 'versicolor', 'virginica', 'versicolor', 'versicolor', 'versicolor', 'versicolor', 'versicolor', 'versicolor', 'versicolor', 'versicolor', 'versicolor', 'versicolor', 'versicolor', 'versicolor', 'versicolor', 'versicolor', 'versicolor', 'versicolor', 'virginica', 'virginica', 'virginica', 'virginica', 'virginica', 'virginica', 'versicolor', 'virginica', 'virginica', 'virginica', 'virginica', 'virginica', 'virginica', 'virginica', 'virginica', 'virginica', 'virginica', 'virginica', 'virginica', 'versicolor', 'virginica', 'virginica', 'virginica', 'virginica', 'virginica', 'virginica', 'virginica', 'virginica', 'virginica', 'virginica', 'virginica', 'virginica', 'virginica', 'virginica', 'virginica', 'virginica', 'virginica', 'virginica', 'virginica', 'virginica', 'virginica', 'virginica', 'virginica', 'virginica', 'virginica', 'virginica', 'virginica', 'virginica', 'virginica', 'virginica']\n"
          ]
        }
      ],
      "source": [
        "neighbors = 5\n",
        "knn_model= KNN( n_neighbors= neighbors)\n",
        "knn_model.fit(iris.data, iris.target)\n",
        "y_pred = knn_model.predict(iris.data)\n",
        "\n",
        "\n",
        "target_names =iris.target_names\n",
        "\n",
        "predicted_classes = [target_names[i] for i in y_pred]\n",
        "\n",
        "print(predicted_classes)"
      ]
    },
    {
      "cell_type": "markdown",
      "metadata": {
        "id": "aVMa16PflnBv"
      },
      "source": [
        "**Q3** 15 pts\n",
        "\n",
        "**Data set: Iris**\n",
        "\n",
        "* Split the Iris dataset into a train / test model with the split ratio between the two established by the function parameter split.\n",
        "\n",
        "* Fit KNN with the training data with number of neighbors equal to the function parameter neighbors\n",
        "\n",
        "* Generate and return back an accuracy score using the test data that was split out"
      ]
    },
    {
      "cell_type": "code",
      "execution_count": 39,
      "metadata": {
        "id": "5VIRae0xlA20"
      },
      "outputs": [
        {
          "name": "stdout",
          "output_type": "stream",
          "text": [
            "model accuracy: 0.9714285714285714\n"
          ]
        }
      ],
      "source": [
        "data = pd.DataFrame(data = iris.data,columns = iris.feature_names)\n",
        "X_train, X_test, y_train, y_test = tts(data, iris.target, test_size = 0.7, random_state = 42)\n",
        "\n",
        "knn_model2 = KNN(n_neighbors = neighbors)\n",
        "knn_model2.fit(X_train, y_train)\n",
        "\n",
        "print(\"model accuracy:\", knn_model2.score(X_test, y_test))\n"
      ]
    },
    {
      "cell_type": "markdown",
      "metadata": {
        "id": "GupwxBDVl8n2"
      },
      "source": [
        "**Q4**\n",
        "\n",
        "**Data set: Iris**\n",
        "\n",
        "* Generate an overfitting / underfitting curve of kNN each of the testing and training accuracy performance scores series for a range of neighbor (k) values from 1 to 30 and plot the curves (number of neighbors is x-axis, performance score is y-axis on the chart)."
      ]
    },
    {
      "cell_type": "code",
      "execution_count": 41,
      "metadata": {
        "id": "M-6Ig8_QlA6J"
      },
      "outputs": [
        {
          "data": {
            "image/png": "[encoded data removed]",
            "text/plain": [
              "<Figure size 640x480 with 1 Axes>"
            ]
          },
          "metadata": {},
          "output_type": "display_data"
        }
      ],
      "source": [
        "neighbors = np.arange(1,31)\n",
        "train_accuracies  = {}\n",
        "test_accuracies = {}\n",
        "\n",
        "\n",
        "for neighbor in neighbors:\n",
        "    \n",
        "    knn= KNN(n_neighbors=neighbor)\n",
        "\n",
        "    knn.fit(X_train, y_train)\n",
        "     \n",
        "    train_accuracies[neighbor] = knn.score(X_train, y_train)\n",
        "    test_accuracies[neighbor] = knn.score(X_test, y_test)\n",
        "\n",
        "plt.title(\"KNN: Accuracy Accross Varying Numbr of Neighbors\")\n",
        "\n",
        "plt.plot(neighbors, train_accuracies.values(), label = \"Training Accuracy\")\n",
        "\n",
        "plt.plot(neighbors, test_accuracies.values(), label = \"Testing Accuracy\")\n",
        "\n",
        "plt.legend()\n",
        "plt.xlabel(\"Number o  neighbors\")\n",
        "plt.ylabel(\"Accuracy\")\n",
        "\n",
        "plt.show()"
      ]
    },
    {
      "cell_type": "markdown",
      "metadata": {
        "id": "NQ8WM1UJl8Iy"
      },
      "source": [
        "**Q5** 10 pts\n",
        "\n",
        "**Data set: Boston**\n",
        "\n",
        "\n",
        "* Load sklearn's Boston data into a DataFrame (only the data and feature_name as column names)\n",
        "\n",
        "* Load sklearn's Boston target values into a separate DataFrame\n",
        "\n",
        "* Return back the average of AGE, average of the target (median value of homes or MEDV), and the target as NumPy values "
      ]
    },
    {
      "cell_type": "code",
      "execution_count": null,
      "metadata": {
        "id": "-Qi-PJvxlA8O"
      },
      "outputs": [],
      "source": []
    },
    {
      "cell_type": "markdown",
      "metadata": {
        "id": "-z7LddLfmNyP"
      },
      "source": [
        "**Q6** \n",
        "\n",
        "**Data set: Boston**\n",
        "\n",
        "* In the Boston dataset, the feature PTRATIO refers to pupil teacher ratio.\n",
        "\n",
        "* Using a matplotlib scatter plot, plot MEDV median value of homes as y-axis and PTRATIO as x-axis\n",
        "\n",
        "* Return back PTRATIO as a NumPy array"
      ]
    },
    {
      "cell_type": "code",
      "execution_count": null,
      "metadata": {
        "id": "CDFVf0vxmSMo"
      },
      "outputs": [],
      "source": []
    },
    {
      "cell_type": "markdown",
      "metadata": {
        "id": "vmsmxjBcmZZ1"
      },
      "source": [
        "**Q7**\n",
        "\n",
        "**Data set: Boston**\n",
        "\n",
        "* Create a regression model for MEDV / PTRATIO and display a chart showing the regression line using matplotlib\n",
        "\n",
        "\n",
        "* Use np.linspace() to generate prediction X values from min to max PTRATIO\n",
        "\n",
        "* Return back the regression prediction space and regression predicted values\n",
        "\n",
        "* Make sure to labels axes appropriately"
      ]
    },
    {
      "cell_type": "code",
      "execution_count": null,
      "metadata": {
        "id": "02DsBMnDmmXC"
      },
      "outputs": [],
      "source": []
    }
  ],
  "metadata": {
    "colab": {
      "name": "assignment_10.ipynb",
      "provenance": []
    },
    "kernelspec": {
      "display_name": "Python 3",
      "name": "python3"
    },
    "language_info": {
      "codemirror_mode": {
        "name": "ipython",
        "version": 3
      },
      "file_extension": ".py",
      "mimetype": "text/x-python",
      "name": "python",
      "nbconvert_exporter": "python",
      "pygments_lexer": "ipython3",
      "version": "3.12.2"
    }
  },
  "nbformat": 4,
  "nbformat_minor": 0
}
